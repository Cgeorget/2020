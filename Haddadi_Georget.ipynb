{
 "cells": [
  {
   "cell_type": "markdown",
   "metadata": {},
   "source": [
    "### Projet de Scoring M2 TIDE\n",
    "\n",
    "### Yasmina Haddadi - Camille Georget\n",
    "\n",
    "Ce notebook reprend les étapes du projet, en suivant le plan suivant : \n",
    "- 1)\tPrésentation de la base et des variables, description des data et recodage\n",
    "- 2)\tCréation des jeux de données\n",
    "- 3)\tTest des différents modèles et comparaisons \n",
    "- 4)\tConclusion (courbe de lift)\n"
   ]
  },
  {
   "cell_type": "code",
   "execution_count": 1,
   "metadata": {
    "colab": {},
    "colab_type": "code",
    "id": "O9wsyzCDIH9G"
   },
   "outputs": [],
   "source": [
    "import pandas as pd\n",
    "import matplotlib.pyplot as plt"
   ]
  },
  {
   "cell_type": "code",
   "execution_count": 2,
   "metadata": {
    "colab": {},
    "colab_type": "code",
    "id": "A0-HwYrhIH9K"
   },
   "outputs": [],
   "source": [
    "df = pd.read_csv('autorisations.csv', sep=' ')  "
   ]
  },
  {
   "cell_type": "code",
   "execution_count": 3,
   "metadata": {
    "colab": {
     "base_uri": "https://localhost:8080/",
     "height": 459
    },
    "colab_type": "code",
    "executionInfo": {
     "elapsed": 527,
     "status": "ok",
     "timestamp": 1591440563584,
     "user": {
      "displayName": "Camille GEORGET",
      "photoUrl": "",
      "userId": "03622189545362805141"
     },
     "user_tz": -180
    },
    "id": "OGNltMbZIH9M",
    "outputId": "bdc5064e-58d9-4fcb-f119-a83b5fc49192",
    "scrolled": true
   },
   "outputs": [
    {
     "data": {
      "text/plain": [
       "Carte                                0\n",
       "Pays                               840\n",
       "Date                        02/12/2003\n",
       "Heure                         17:47:52\n",
       "dateheure                   02/12/2003\n",
       "CodeRep                             15\n",
       "MCC                               5812\n",
       "Montant                          69.25\n",
       "fraude                               0\n",
       "FM_Velocity_Condition_3              0\n",
       "FM_Velocity_Condition_6              0\n",
       "FM_Velocity_Condition_12             0\n",
       "FM_Velocity_Condition_24             0\n",
       "FM_Sum_3                         69.25\n",
       "FM_Sum_6                         69.25\n",
       "FM_Sum_12                        69.25\n",
       "FM_Sum_24                        69.25\n",
       "FM_Redondance_MCC_3                  1\n",
       "FM_Redondance_MCC_6                  1\n",
       "FM_Redondance_MCC_12                 1\n",
       "FM_Redondance_MCC_24                 1\n",
       "FM_Difference_Pays_3                 1\n",
       "FM_Difference_Pays_6                 1\n",
       "FM_Difference_Pays_12                1\n",
       "FM_Difference_Pays_24                1\n",
       "Name: 0, dtype: object"
      ]
     },
     "execution_count": 3,
     "metadata": {},
     "output_type": "execute_result"
    }
   ],
   "source": [
    "df.iloc[0,:]"
   ]
  },
  {
   "cell_type": "markdown",
   "metadata": {
    "colab_type": "text",
    "id": "KivGv3XBIH9Q"
   },
   "source": [
    "## Signification des variables : \n",
    "- Coderep = 00 si la transaction est accepté, sinon transaction refusée\n",
    "- MCC = code commerçant\n",
    "- FM_Velocity = nbre de transactions acceptées sur les X dernieres heures\n",
    "- FM_Sum = montant cumulé des ...\n",
    "- FM_Redondance_MCC = nb de transactions réalisées chez un meme commercant sur les X dernieres heures\n",
    "- FM_Difference_Pays = nb de transactions realisées dans des pays differents sur les X dernieres heures"
   ]
  },
  {
   "cell_type": "markdown",
   "metadata": {
    "colab_type": "text",
    "id": "_ip7Qpm3IH9R"
   },
   "source": [
    "# I. Exploration des variables et recodage si besoin \n",
    "\n",
    "\n",
    "### Definitions de deux fonctions qui nous seront utiles (si la comprehension n'est pas facile à leur premiere lecture, avancer et y revenir quand nous les utiliserons, ça sera plus clair)\n",
    "tout d'abord nous allons faire une petite fonction qui nous aidera a analyser l'impact d'une variable sur la fraude.\n",
    "Cette fonction rend un dataframe, et la variable de ce dataframe qui nous interesse est la variable diff, elle indique combien de fois la modalité est plus presente dans Fraude que dans Non-Fraude, en % (je sais c'est pas tres clair). \n",
    "Par exemple, si diff = 9, alors la modalité ciblée est 9 fois plus presente parmis les fraude que parmi les non fraude."
   ]
  },
  {
   "cell_type": "code",
   "execution_count": 4,
   "metadata": {
    "colab": {},
    "colab_type": "code",
    "id": "S7YcEhSBIH9R"
   },
   "outputs": [],
   "source": [
    "# je vais faire une fonction qui affiche un dataframe avec les % des fraude et de non fraude par modalités, pour voir\n",
    "# si ya des grosses difference \n",
    "\n",
    "# j'ai fait un code un peu compliqué pour rien, il suffit de faire la moyenne de la variable 'fraude' par modalité en fait\n",
    "# mais bon ça revient au meme\n",
    "def impact_fraude(var) : \n",
    "    # on calcule le % d'apparition d'une modalité dans tab0 (non fraude) et tab1 (fraude)\n",
    "    tab0 = df.loc[df.fraude==0,var].value_counts()/len(df.loc[df.fraude==0,var])\n",
    "    tab1 =  df.loc[df.fraude==1,var].value_counts()/len(df.loc[df.fraude==1,var])\n",
    "    # on va stocker ces resultats dans des dataframe, les fusioner, puis comparer ces % et afficher les plus grosses differences\n",
    "    # de % en % (pour pas etre affecter par l'echelle)\n",
    "    \n",
    "    d0 = pd.DataFrame(tab0)\n",
    "    d1 = pd.DataFrame(tab1)\n",
    "    \n",
    "    d0 = d0.reset_index()\n",
    "    d1 = d1.reset_index()\n",
    "    \n",
    "    #on merge nos tableau par index\n",
    "    tablo = pd.merge(d0, d1, on = ['index'], how = 'outer')\n",
    "    tablo.columns = ['index', 'a','b']\n",
    "   \n",
    "    #On remplace les Nan par des 0 et on va calculer lecart de % en %, par rapport a la valeur la plus grande\n",
    "    tablo['missing_value'] = 1*(tablo.a.isna())+1*(tablo.b.isna())\n",
    "    tablo.fillna(0,inplace=True)\n",
    "    tablo['diff'] = tablo.b/tablo.a # finalement je divise par a comme ça les valeurs plus prise dans b seront plus grande\n",
    "    \n",
    "    #On set à 0 les diff qd ya une valeurs manquantes pour les non fraude\n",
    "    tablo.loc[tablo.a.isna(),'diff']=0\n",
    "    \n",
    "    #on affiche le tableau\n",
    "    tablo = tablo.sort_values(by=['diff'],ascending=False)\n",
    "    return(tablo)"
   ]
  },
  {
   "cell_type": "code",
   "execution_count": 5,
   "metadata": {
    "colab": {},
    "colab_type": "code",
    "id": "bhUgWV4BIH9U"
   },
   "outputs": [],
   "source": [
    "# On definit aussi une fonction pour afficher la table de contingence sur les données de train et de test\n",
    "def results(X_train, Y_train, X_test, Y_test, model, seuil):\n",
    "    # On affiche les resultats pour le train\n",
    "    fiab = model.predict_proba(X_train)\n",
    "    test = pd.DataFrame(fiab, columns=['non','oui'])\n",
    "    test2 = 1*(test.oui>seuil)\n",
    "    print(pd.crosstab(test2.values, Y_train))\n",
    "     \n",
    "    print(\"\")\n",
    "    print(\"\")\n",
    "    \n",
    "    # On affiche les resultats pour le test\n",
    "    predictions = model.predict_proba(X_test)\n",
    "    test = pd.DataFrame(predictions, columns=['non','oui'])\n",
    "    test2 = 1*(test.oui>seuil)\n",
    "    print(pd.crosstab(test2.values, Y_test))"
   ]
  },
  {
   "cell_type": "code",
   "execution_count": 6,
   "metadata": {
    "colab": {
     "base_uri": "https://localhost:8080/",
     "height": 357
    },
    "colab_type": "code",
    "executionInfo": {
     "elapsed": 4899,
     "status": "ok",
     "timestamp": 1591441260218,
     "user": {
      "displayName": "Camille GEORGET",
      "photoUrl": "",
      "userId": "03622189545362805141"
     },
     "user_tz": -180
    },
    "id": "Tr19-HxgIH9W",
    "outputId": "157275df-9d2c-422d-c458-638a2277c0de"
   },
   "outputs": [
    {
     "name": "stdout",
     "output_type": "stream",
     "text": [
      "Carte                       0\n",
      "Pays                        0\n",
      "Date                        0\n",
      "Heure                       0\n",
      "dateheure                   0\n",
      "CodeRep                     0\n",
      "MCC                         0\n",
      "Montant                     0\n",
      "fraude                      0\n",
      "FM_Velocity_Condition_3     0\n",
      "FM_Velocity_Condition_6     0\n",
      "FM_Velocity_Condition_12    0\n",
      "FM_Velocity_Condition_24    0\n",
      "FM_Sum_3                    0\n",
      "FM_Sum_6                    0\n",
      "FM_Sum_12                   0\n",
      "FM_Sum_24                   0\n",
      "FM_Redondance_MCC_3         0\n",
      "FM_Redondance_MCC_6         0\n",
      "dtype: int64\n"
     ]
    }
   ],
   "source": [
    "print(df.isna().sum().head(19))  # 0 NA, on va voir si y'a des valeurs aberantes "
   ]
  },
  {
   "cell_type": "markdown",
   "metadata": {
    "colab_type": "text",
    "id": "zCWU2opWIH9Z"
   },
   "source": [
    "Avant de débuter, je vais séparer un jeu de test et un jeu d'apprentissage. Ainsi je n'aurais aucune connaissance de la forme de mon jeu de test, et je ne pourrais par consequent, pas prendre de décision qui sur apprendrais sur ce jeu."
   ]
  },
  {
   "cell_type": "code",
   "execution_count": 7,
   "metadata": {
    "colab": {
     "base_uri": "https://localhost:8080/",
     "height": 54
    },
    "colab_type": "code",
    "executionInfo": {
     "elapsed": 4880,
     "status": "ok",
     "timestamp": 1591441260220,
     "user": {
      "displayName": "Camille GEORGET",
      "photoUrl": "",
      "userId": "03622189545362805141"
     },
     "user_tz": -180
    },
    "id": "ryHOEE8KIH9a",
    "outputId": "86406597-f234-49ea-af30-9f58e69fc920"
   },
   "outputs": [
    {
     "data": {
      "text/plain": [
       "\"\\nAprès avoir étudié la base, je n'effectue pas de transformation qui repose sur les données de jeu de Train \\nremplacement des na par la moyenne, etc...). Je vais donc, pour simplifier le code, ne pas séparer le jeu maintenant\\n(de cette manière je n'ai pas a effectuer les transformations deux fois). Toutes les idées de transformations ont été faites\\na partir du jeu de Train, donc il n'y aura pas de rique de sur apprentissage du jeu de Test.\\n\""
      ]
     },
     "execution_count": 7,
     "metadata": {},
     "output_type": "execute_result"
    }
   ],
   "source": [
    "from sklearn.model_selection import train_test_split\n",
    "\n",
    "#On separe notre jeu en train et test\n",
    "#df, dftest = train_test_split(df, test_size=0.20, random_state=42, stratify=df.fraude)\n",
    "\"\"\"\n",
    "Après avoir étudié la base, je n'effectue pas de transformation qui repose sur les données de jeu de Train \n",
    "remplacement des na par la moyenne, etc...). Je vais donc, pour simplifier le code, ne pas séparer le jeu maintenant\n",
    "(de cette manière je n'ai pas a effectuer les transformations deux fois). Toutes les idées de transformations ont été faites\n",
    "a partir du jeu de Train, donc il n'y aura pas de rique de sur apprentissage du jeu de Test.\n",
    "\"\"\""
   ]
  },
  {
   "cell_type": "markdown",
   "metadata": {
    "colab_type": "text",
    "id": "RZ9k-K2kaS8v"
   },
   "source": [
    "## Pour chaque variable nous allons comparer la répartition des valeurs parmis les fraude et parmis les non fraudes, afin de voir si on remarque certaines tendances, ou si on peut en tirer des informations interessantes\n",
    "\n"
   ]
  },
  {
   "cell_type": "markdown",
   "metadata": {
    "colab_type": "text",
    "id": "cnkHf1EdIH9c"
   },
   "source": [
    "## a) Fraude"
   ]
  },
  {
   "cell_type": "code",
   "execution_count": 8,
   "metadata": {
    "colab": {
     "base_uri": "https://localhost:8080/",
     "height": 68
    },
    "colab_type": "code",
    "executionInfo": {
     "elapsed": 5694,
     "status": "ok",
     "timestamp": 1591441261058,
     "user": {
      "displayName": "Camille GEORGET",
      "photoUrl": "",
      "userId": "03622189545362805141"
     },
     "user_tz": -180
    },
    "id": "k-BEM2vwIH9d",
    "outputId": "44584cb1-cd62-4709-a5cd-cfa3cfa19943"
   },
   "outputs": [
    {
     "data": {
      "text/plain": [
       "0    1144186\n",
       "1       7246\n",
       "Name: fraude, dtype: int64"
      ]
     },
     "execution_count": 8,
     "metadata": {},
     "output_type": "execute_result"
    }
   ],
   "source": [
    "df.fraude.value_counts() # très peu de fraude, données déséquilibrées, on y fera attention "
   ]
  },
  {
   "cell_type": "code",
   "execution_count": 9,
   "metadata": {},
   "outputs": [
    {
     "data": {
      "text/plain": [
       "0.9937069666293797"
      ]
     },
     "execution_count": 9,
     "metadata": {},
     "output_type": "execute_result"
    }
   ],
   "source": [
    "1144186/(1144186+7246)"
   ]
  },
  {
   "cell_type": "markdown",
   "metadata": {
    "colab_type": "text",
    "id": "xtZihnLZIH9h"
   },
   "source": [
    "## b) Carte"
   ]
  },
  {
   "cell_type": "code",
   "execution_count": 10,
   "metadata": {
    "colab": {
     "base_uri": "https://localhost:8080/",
     "height": 34
    },
    "colab_type": "code",
    "executionInfo": {
     "elapsed": 5669,
     "status": "ok",
     "timestamp": 1591441261059,
     "user": {
      "displayName": "Camille GEORGET",
      "photoUrl": "",
      "userId": "03622189545362805141"
     },
     "user_tz": -180
    },
    "id": "8wJF6c22IH9i",
    "outputId": "5b466521-a11a-4f22-94da-1631a19938d9"
   },
   "outputs": [
    {
     "data": {
      "text/plain": [
       "198044"
      ]
     },
     "execution_count": 10,
     "metadata": {},
     "output_type": "execute_result"
    }
   ],
   "source": [
    "df.Carte.nunique() # 200k carte différentes, pour 1M lignes"
   ]
  },
  {
   "cell_type": "code",
   "execution_count": 11,
   "metadata": {
    "colab": {
     "base_uri": "https://localhost:8080/",
     "height": 34
    },
    "colab_type": "code",
    "executionInfo": {
     "elapsed": 5641,
     "status": "ok",
     "timestamp": 1591441261060,
     "user": {
      "displayName": "Camille GEORGET",
      "photoUrl": "",
      "userId": "03622189545362805141"
     },
     "user_tz": -180
    },
    "id": "W41rILJ5IH9k",
    "outputId": "e24971f0-cf38-4ba7-c80e-951b03e1164b"
   },
   "outputs": [
    {
     "data": {
      "text/plain": [
       "1173"
      ]
     },
     "execution_count": 11,
     "metadata": {},
     "output_type": "execute_result"
    }
   ],
   "source": [
    "df.loc[df.fraude==1,'Carte'].nunique() # pour les fraudes, 1000 cartes différentes pour 6k fraudes"
   ]
  },
  {
   "cell_type": "markdown",
   "metadata": {
    "colab_type": "text",
    "id": "be5Lwj-6IH9m"
   },
   "source": [
    "On ne va pas se servir des numeros de cartes dans notre modele. On veut etre en mesure de detecter la fraude peut importe la carte utilisé"
   ]
  },
  {
   "cell_type": "markdown",
   "metadata": {
    "colab_type": "text",
    "id": "l8xDy1W5IH9n"
   },
   "source": [
    "## c) Pays"
   ]
  },
  {
   "cell_type": "code",
   "execution_count": 12,
   "metadata": {
    "colab": {
     "base_uri": "https://localhost:8080/",
     "height": 34
    },
    "colab_type": "code",
    "executionInfo": {
     "elapsed": 5607,
     "status": "ok",
     "timestamp": 1591441261060,
     "user": {
      "displayName": "Camille GEORGET",
      "photoUrl": "",
      "userId": "03622189545362805141"
     },
     "user_tz": -180
    },
    "id": "JZ-UKbX_IH9o",
    "outputId": "8efc8f81-89a2-4666-f201-4434f7b54f46"
   },
   "outputs": [
    {
     "data": {
      "text/plain": [
       "167"
      ]
     },
     "execution_count": 12,
     "metadata": {},
     "output_type": "execute_result"
    }
   ],
   "source": [
    "df.Pays.nunique() # 167 pays differents ok, pas autant de données par pays c'est tres variables"
   ]
  },
  {
   "cell_type": "code",
   "execution_count": 13,
   "metadata": {
    "colab": {
     "base_uri": "https://localhost:8080/",
     "height": 346
    },
    "colab_type": "code",
    "executionInfo": {
     "elapsed": 5579,
     "status": "ok",
     "timestamp": 1591441261061,
     "user": {
      "displayName": "Camille GEORGET",
      "photoUrl": "",
      "userId": "03622189545362805141"
     },
     "user_tz": -180
    },
    "id": "cCdpfgtDIH9q",
    "outputId": "2ff04ceb-6696-418c-b511-583dea4b3b98",
    "scrolled": true
   },
   "outputs": [
    {
     "data": {
      "text/plain": [
       "array([<matplotlib.axes._subplots.AxesSubplot object at 0x0000023AC42975F8>,\n",
       "       <matplotlib.axes._subplots.AxesSubplot object at 0x0000023AC4304160>],\n",
       "      dtype=object)"
      ]
     },
     "execution_count": 13,
     "metadata": {},
     "output_type": "execute_result"
    },
    {
     "data": {
      "image/png": "[encoded data removed]",
      "text/plain": [
       "<Figure size 432x288 with 2 Axes>"
      ]
     },
     "metadata": {
      "needs_background": "light"
     },
     "output_type": "display_data"
    }
   ],
   "source": [
    "df['Pays'].hist(by=df['fraude'])  # a premiere vu pas de lien entre le pays et la fraude"
   ]
  },
  {
   "cell_type": "markdown",
   "metadata": {
    "colab_type": "text",
    "id": "aCDRWVVSIH9s"
   },
   "source": [
    "Avec notre fonction ci dessous, on voit que certains pays sont beaucoup plus present parmis les fraude que parmis les non fraude.\n",
    "On voit ici que les pays 862 et 218 ont 11 fois plus de valeurs en % dans le Fraude que dans le non Fraude. \n",
    "Ce ratio est a prendre avec des pincette car il y a tellement peu de fraudes parmis nos 1M lignes que ce ratio peu rapidement \n",
    "augmenter, mais ils peut ainsi nous aiguiller sur les pays dans lesquels il y a a priori le plus de fraude."
   ]
  },
  {
   "cell_type": "code",
   "execution_count": 14,
   "metadata": {
    "colab": {
     "base_uri": "https://localhost:8080/",
     "height": 359
    },
    "colab_type": "code",
    "executionInfo": {
     "elapsed": 5551,
     "status": "ok",
     "timestamp": 1591441261062,
     "user": {
      "displayName": "Camille GEORGET",
      "photoUrl": "",
      "userId": "03622189545362805141"
     },
     "user_tz": -180
    },
    "id": "V2jjKM20IH9s",
    "outputId": "3d7126e5-601e-4e27-b16c-17618c84739a"
   },
   "outputs": [
    {
     "data": {
      "text/html": [
       "<div>\n",
       "<style scoped>\n",
       "    .dataframe tbody tr th:only-of-type {\n",
       "        vertical-align: middle;\n",
       "    }\n",
       "\n",
       "    .dataframe tbody tr th {\n",
       "        vertical-align: top;\n",
       "    }\n",
       "\n",
       "    .dataframe thead th {\n",
       "        text-align: right;\n",
       "    }\n",
       "</style>\n",
       "<table border=\"1\" class=\"dataframe\">\n",
       "  <thead>\n",
       "    <tr style=\"text-align: right;\">\n",
       "      <th></th>\n",
       "      <th>index</th>\n",
       "      <th>a</th>\n",
       "      <th>b</th>\n",
       "      <th>missing_value</th>\n",
       "      <th>diff</th>\n",
       "    </tr>\n",
       "  </thead>\n",
       "  <tbody>\n",
       "    <tr>\n",
       "      <th>102</th>\n",
       "      <td>862</td>\n",
       "      <td>0.000137</td>\n",
       "      <td>0.001656</td>\n",
       "      <td>0</td>\n",
       "      <td>12.069239</td>\n",
       "    </tr>\n",
       "    <tr>\n",
       "      <th>97</th>\n",
       "      <td>218</td>\n",
       "      <td>0.000151</td>\n",
       "      <td>0.001794</td>\n",
       "      <td>0</td>\n",
       "      <td>11.865760</td>\n",
       "    </tr>\n",
       "    <tr>\n",
       "      <th>20</th>\n",
       "      <td>792</td>\n",
       "      <td>0.005025</td>\n",
       "      <td>0.049959</td>\n",
       "      <td>0</td>\n",
       "      <td>9.942934</td>\n",
       "    </tr>\n",
       "    <tr>\n",
       "      <th>14</th>\n",
       "      <td>76</td>\n",
       "      <td>0.006176</td>\n",
       "      <td>0.051477</td>\n",
       "      <td>0</td>\n",
       "      <td>8.334356</td>\n",
       "    </tr>\n",
       "    <tr>\n",
       "      <th>80</th>\n",
       "      <td>320</td>\n",
       "      <td>0.000302</td>\n",
       "      <td>0.002070</td>\n",
       "      <td>0</td>\n",
       "      <td>6.865473</td>\n",
       "    </tr>\n",
       "    <tr>\n",
       "      <th>55</th>\n",
       "      <td>188</td>\n",
       "      <td>0.001004</td>\n",
       "      <td>0.005658</td>\n",
       "      <td>0</td>\n",
       "      <td>5.634588</td>\n",
       "    </tr>\n",
       "    <tr>\n",
       "      <th>65</th>\n",
       "      <td>608</td>\n",
       "      <td>0.000678</td>\n",
       "      <td>0.003312</td>\n",
       "      <td>0</td>\n",
       "      <td>4.883687</td>\n",
       "    </tr>\n",
       "    <tr>\n",
       "      <th>104</th>\n",
       "      <td>690</td>\n",
       "      <td>0.000120</td>\n",
       "      <td>0.000552</td>\n",
       "      <td>0</td>\n",
       "      <td>4.610391</td>\n",
       "    </tr>\n",
       "    <tr>\n",
       "      <th>13</th>\n",
       "      <td>36</td>\n",
       "      <td>0.006795</td>\n",
       "      <td>0.030500</td>\n",
       "      <td>0</td>\n",
       "      <td>4.488386</td>\n",
       "    </tr>\n",
       "    <tr>\n",
       "      <th>39</th>\n",
       "      <td>356</td>\n",
       "      <td>0.002201</td>\n",
       "      <td>0.009661</td>\n",
       "      <td>0</td>\n",
       "      <td>4.389758</td>\n",
       "    </tr>\n",
       "  </tbody>\n",
       "</table>\n",
       "</div>"
      ],
      "text/plain": [
       "     index         a         b  missing_value       diff\n",
       "102    862  0.000137  0.001656              0  12.069239\n",
       "97     218  0.000151  0.001794              0  11.865760\n",
       "20     792  0.005025  0.049959              0   9.942934\n",
       "14      76  0.006176  0.051477              0   8.334356\n",
       "80     320  0.000302  0.002070              0   6.865473\n",
       "55     188  0.001004  0.005658              0   5.634588\n",
       "65     608  0.000678  0.003312              0   4.883687\n",
       "104    690  0.000120  0.000552              0   4.610391\n",
       "13      36  0.006795  0.030500              0   4.488386\n",
       "39     356  0.002201  0.009661              0   4.389758"
      ]
     },
     "execution_count": 14,
     "metadata": {},
     "output_type": "execute_result"
    }
   ],
   "source": [
    "impact_fraude('Pays').head(10)"
   ]
  },
  {
   "cell_type": "markdown",
   "metadata": {
    "colab_type": "text",
    "id": "h8-j3IdlIH9v"
   },
   "source": [
    "On ne veut pas garder cette variabe avec 167 modalités, nous allons ainsi transformer la variable pays en variable \n",
    "'pays avec une forte proportion de fraude'. Nous prenons l'indice 'diff' pour nous aider a construire cette variable. On va categoriser par niveau de 'diff' avec les intervalles suivants :\n",
    "- entre 0 et 0.5\n",
    "- entre 0.5 et 1\n",
    "- entre 1 et 2\n",
    "- entre 2 et 4\n",
    "- superieur a 4\n",
    "\n",
    "Nous creeons donc la variable Pays_v2, et nous creerons de meme d'autres variables 'v2' afin de simplifier les choses."
   ]
  },
  {
   "cell_type": "code",
   "execution_count": 15,
   "metadata": {
    "colab": {},
    "colab_type": "code",
    "id": "ErwGMTZEIH9v"
   },
   "outputs": [],
   "source": [
    "tempo = impact_fraude('Pays').loc[:,['index','diff']]\n",
    "tempo['Pays_v2'] = 1*(tempo['diff']>0.5)+1*(tempo['diff']>1)+1*(tempo['diff']>2)+1*(tempo['diff']>4)\n",
    "tempo = tempo.loc[:,['index','Pays_v2']]\n",
    "tempo.columns = ['Pays', 'Pays_v2']"
   ]
  },
  {
   "cell_type": "code",
   "execution_count": 16,
   "metadata": {
    "colab": {},
    "colab_type": "code",
    "id": "nm9NqrUXIH9x"
   },
   "outputs": [],
   "source": [
    "# on merge ce tableau avec notre base \n",
    "df = pd.merge(df, tempo, on='Pays', how='outer')"
   ]
  },
  {
   "cell_type": "code",
   "execution_count": 17,
   "metadata": {},
   "outputs": [
    {
     "data": {
      "text/plain": [
       "204    25\n",
       "262    25\n",
       "660    24\n",
       "308    24\n",
       "807    20\n",
       "834    19\n",
       "716    18\n",
       "760    18\n",
       "212    18\n",
       "496    15\n",
       "850    15\n",
       "324    14\n",
       "533    14\n",
       "184    14\n",
       "860    10\n",
       "598     8\n",
       "666     7\n",
       "796     7\n",
       "268     7\n",
       "51      7\n",
       "72      6\n",
       "316     6\n",
       "418     3\n",
       "882     3\n",
       "96      2\n",
       "231     2\n",
       "275     2\n",
       "8       2\n",
       "328     1\n",
       "795     1\n",
       "Name: Pays, dtype: int64"
      ]
     },
     "execution_count": 17,
     "metadata": {},
     "output_type": "execute_result"
    }
   ],
   "source": [
    "df.Pays.value_counts().tail(30) # on voit que certains pays sont tres peu representés (moins de 20 personnes)\n",
    "# mais parmis eux ya pas/peu de fraude"
   ]
  },
  {
   "cell_type": "code",
   "execution_count": 18,
   "metadata": {},
   "outputs": [
    {
     "data": {
      "text/plain": [
       "1079674    0\n",
       "1079675    0\n",
       "1079676    0\n",
       "1079677    0\n",
       "1079678    0\n",
       "          ..\n",
       "1079855    0\n",
       "1079856    0\n",
       "1079857    0\n",
       "1079858    0\n",
       "1079859    0\n",
       "Name: fraude, Length: 186, dtype: int64"
      ]
     },
     "execution_count": 18,
     "metadata": {},
     "output_type": "execute_result"
    }
   ],
   "source": [
    "df.loc[df.Pays==218,'fraude'] # ok ya quand meme 186 personne dans ce pays qui a bcp de fraude "
   ]
  },
  {
   "cell_type": "markdown",
   "metadata": {
    "colab_type": "text",
    "id": "oEVFwOv2IH9z"
   },
   "source": [
    "## d) Date \n",
    "### Note : les element explicatifs de la fraude peuvent evoluer avec le temps, dans ce cas on pourrait faire un modèle par 'période', afin de mieux detecter la fraude...On va rester dans des choses simples et faire un modèle global plutôt"
   ]
  },
  {
   "cell_type": "code",
   "execution_count": 19,
   "metadata": {
    "colab": {
     "base_uri": "https://localhost:8080/",
     "height": 34
    },
    "colab_type": "code",
    "executionInfo": {
     "elapsed": 6272,
     "status": "ok",
     "timestamp": 1591441261826,
     "user": {
      "displayName": "Camille GEORGET",
      "photoUrl": "",
      "userId": "03622189545362805141"
     },
     "user_tz": -180
    },
    "id": "VVl93NkUIH90",
    "outputId": "6ee70314-7340-4fa9-8f49-51f60d2c2b94"
   },
   "outputs": [
    {
     "data": {
      "text/plain": [
       "1151432"
      ]
     },
     "execution_count": 19,
     "metadata": {},
     "output_type": "execute_result"
    }
   ],
   "source": [
    "# on vérifie si cette variable est la meme que la variable dateheure\n",
    "sum(df.Date == df.dateheure) #ok ce sont les memes"
   ]
  },
  {
   "cell_type": "code",
   "execution_count": 20,
   "metadata": {
    "colab": {},
    "colab_type": "code",
    "id": "WjXZT-KQIH92"
   },
   "outputs": [],
   "source": [
    "# on drop la seconde variable identique  a celle ci\n",
    "df = df.drop('dateheure', axis=1)"
   ]
  },
  {
   "cell_type": "code",
   "execution_count": 21,
   "metadata": {
    "colab": {},
    "colab_type": "code",
    "id": "Z1T9xF81IH94"
   },
   "outputs": [],
   "source": [
    "type(df.Date[0])\n",
    "# on va convertir en date \n",
    "df['Date'] = pd.to_datetime(df.Date) "
   ]
  },
  {
   "cell_type": "code",
   "execution_count": 22,
   "metadata": {
    "colab": {
     "base_uri": "https://localhost:8080/",
     "height": 51
    },
    "colab_type": "code",
    "executionInfo": {
     "elapsed": 6890,
     "status": "ok",
     "timestamp": 1591441262514,
     "user": {
      "displayName": "Camille GEORGET",
      "photoUrl": "",
      "userId": "03622189545362805141"
     },
     "user_tz": -180
    },
    "id": "HV8xZs1GIH96",
    "outputId": "8cf3f7eb-ce35-4c1c-c300-3badee9e5ca1"
   },
   "outputs": [
    {
     "name": "stdout",
     "output_type": "stream",
     "text": [
      "2003-01-11 00:00:00\n",
      "2004-12-06 00:00:00\n"
     ]
    }
   ],
   "source": [
    "#regardons a present l'intervalle des dates, et voyons si ça a un lien avec Fraude\n",
    "print(df.Date.min())\n",
    "print(df.Date.max()) # on a donc des données sur 2 ans, de janv 2003 à dec 2004"
   ]
  },
  {
   "cell_type": "code",
   "execution_count": 23,
   "metadata": {
    "colab": {
     "base_uri": "https://localhost:8080/",
     "height": 362
    },
    "colab_type": "code",
    "executionInfo": {
     "elapsed": 7414,
     "status": "ok",
     "timestamp": 1591441263088,
     "user": {
      "displayName": "Camille GEORGET",
      "photoUrl": "",
      "userId": "03622189545362805141"
     },
     "user_tz": -180
    },
    "id": "KLsbB_j7IH98",
    "outputId": "5b9beb55-b53c-490a-ee23-0ffbec1b0fa8",
    "scrolled": true
   },
   "outputs": [
    {
     "data": {
      "text/plain": [
       "array([<matplotlib.axes._subplots.AxesSubplot object at 0x0000023AC4250BE0>,\n",
       "       <matplotlib.axes._subplots.AxesSubplot object at 0x0000023AD1CF3C88>],\n",
       "      dtype=object)"
      ]
     },
     "execution_count": 23,
     "metadata": {},
     "output_type": "execute_result"
    },
    {
     "data": {
      "image/png": "[encoded data removed]",
      "text/plain": [
       "<Figure size 432x288 with 2 Axes>"
      ]
     },
     "metadata": {
      "needs_background": "light"
     },
     "output_type": "display_data"
    }
   ],
   "source": [
    "df['Date'].hist(by=df['fraude']) # il ne semble pas y avoir d'effet de la date sur la fraude \n",
    "# On a plus de lignes pour l'années 2004, donc plus de fraude aussi, logique "
   ]
  },
  {
   "cell_type": "markdown",
   "metadata": {
    "colab_type": "text",
    "id": "XyNCXYfhIH9-"
   },
   "source": [
    "On voit sur la table ci dessous que certains jours ont beaucoup plus de fraudes que de non fraude en proportion. Mais les \n",
    "ecart ne sont pas enorme (max= 3x plus de fraude que de non fraude en %). A voir...\n",
    "On remarque que les date avec le plus gros ecarts sont soit le 21 du mois, soit le 6... coincidence ??? je ne sais pas \n",
    "Peut etre que ça correpond au jours de pays dans certains pays, ou alors ces jours ci il y avait des evenements partiuliers... On va verifier"
   ]
  },
  {
   "cell_type": "code",
   "execution_count": 24,
   "metadata": {
    "colab": {
     "base_uri": "https://localhost:8080/",
     "height": 297
    },
    "colab_type": "code",
    "executionInfo": {
     "elapsed": 7394,
     "status": "ok",
     "timestamp": 1591441263089,
     "user": {
      "displayName": "Camille GEORGET",
      "photoUrl": "",
      "userId": "03622189545362805141"
     },
     "user_tz": -180
    },
    "id": "6Q4zeT_0IH9_",
    "outputId": "0877bb1c-a9e7-4590-ca3b-b3b4ec52d348",
    "scrolled": true
   },
   "outputs": [
    {
     "data": {
      "text/html": [
       "<div>\n",
       "<style scoped>\n",
       "    .dataframe tbody tr th:only-of-type {\n",
       "        vertical-align: middle;\n",
       "    }\n",
       "\n",
       "    .dataframe tbody tr th {\n",
       "        vertical-align: top;\n",
       "    }\n",
       "\n",
       "    .dataframe thead th {\n",
       "        text-align: right;\n",
       "    }\n",
       "</style>\n",
       "<table border=\"1\" class=\"dataframe\">\n",
       "  <thead>\n",
       "    <tr style=\"text-align: right;\">\n",
       "      <th></th>\n",
       "      <th>index</th>\n",
       "      <th>a</th>\n",
       "      <th>b</th>\n",
       "      <th>missing_value</th>\n",
       "      <th>diff</th>\n",
       "    </tr>\n",
       "  </thead>\n",
       "  <tbody>\n",
       "    <tr>\n",
       "      <th>199</th>\n",
       "      <td>2003-12-21</td>\n",
       "      <td>0.003450</td>\n",
       "      <td>0.010903</td>\n",
       "      <td>0</td>\n",
       "      <td>3.160518</td>\n",
       "    </tr>\n",
       "    <tr>\n",
       "      <th>208</th>\n",
       "      <td>2004-01-21</td>\n",
       "      <td>0.003404</td>\n",
       "      <td>0.009522</td>\n",
       "      <td>0</td>\n",
       "      <td>2.797306</td>\n",
       "    </tr>\n",
       "    <tr>\n",
       "      <th>46</th>\n",
       "      <td>2004-04-06</td>\n",
       "      <td>0.004744</td>\n",
       "      <td>0.012697</td>\n",
       "      <td>0</td>\n",
       "      <td>2.676371</td>\n",
       "    </tr>\n",
       "    <tr>\n",
       "      <th>114</th>\n",
       "      <td>2004-07-06</td>\n",
       "      <td>0.004191</td>\n",
       "      <td>0.010903</td>\n",
       "      <td>0</td>\n",
       "      <td>2.601578</td>\n",
       "    </tr>\n",
       "    <tr>\n",
       "      <th>210</th>\n",
       "      <td>2004-06-06</td>\n",
       "      <td>0.003392</td>\n",
       "      <td>0.008556</td>\n",
       "      <td>0</td>\n",
       "      <td>2.522588</td>\n",
       "    </tr>\n",
       "    <tr>\n",
       "      <th>147</th>\n",
       "      <td>2003-12-12</td>\n",
       "      <td>0.003850</td>\n",
       "      <td>0.008832</td>\n",
       "      <td>0</td>\n",
       "      <td>2.294206</td>\n",
       "    </tr>\n",
       "    <tr>\n",
       "      <th>237</th>\n",
       "      <td>2004-11-01</td>\n",
       "      <td>0.002759</td>\n",
       "      <td>0.006210</td>\n",
       "      <td>0</td>\n",
       "      <td>2.250797</td>\n",
       "    </tr>\n",
       "    <tr>\n",
       "      <th>47</th>\n",
       "      <td>2004-05-31</td>\n",
       "      <td>0.004739</td>\n",
       "      <td>0.010627</td>\n",
       "      <td>0</td>\n",
       "      <td>2.242485</td>\n",
       "    </tr>\n",
       "  </tbody>\n",
       "</table>\n",
       "</div>"
      ],
      "text/plain": [
       "         index         a         b  missing_value      diff\n",
       "199 2003-12-21  0.003450  0.010903              0  3.160518\n",
       "208 2004-01-21  0.003404  0.009522              0  2.797306\n",
       "46  2004-04-06  0.004744  0.012697              0  2.676371\n",
       "114 2004-07-06  0.004191  0.010903              0  2.601578\n",
       "210 2004-06-06  0.003392  0.008556              0  2.522588\n",
       "147 2003-12-12  0.003850  0.008832              0  2.294206\n",
       "237 2004-11-01  0.002759  0.006210              0  2.250797\n",
       "47  2004-05-31  0.004739  0.010627              0  2.242485"
      ]
     },
     "execution_count": 24,
     "metadata": {},
     "output_type": "execute_result"
    }
   ],
   "source": [
    "impact_fraude('Date').head(8)"
   ]
  },
  {
   "cell_type": "markdown",
   "metadata": {
    "colab_type": "text",
    "id": "5h8RTWiRIH-B"
   },
   "source": [
    "On regarde rapidemement le nb de fraudes par pays aux 5 dates avec le plus gros ecart de fraude "
   ]
  },
  {
   "cell_type": "code",
   "execution_count": 25,
   "metadata": {
    "colab": {
     "base_uri": "https://localhost:8080/",
     "height": 170
    },
    "colab_type": "code",
    "executionInfo": {
     "elapsed": 7342,
     "status": "ok",
     "timestamp": 1591441263090,
     "user": {
      "displayName": "Camille GEORGET",
      "photoUrl": "",
      "userId": "03622189545362805141"
     },
     "user_tz": -180
    },
    "id": "Hm-fHnlPIH-B",
    "outputId": "994bb47c-4c26-470e-da70-087e3975b5af"
   },
   "outputs": [
    {
     "data": {
      "text/plain": [
       "826    32\n",
       "76     29\n",
       "380     7\n",
       "724     4\n",
       "528     3\n",
       "756     2\n",
       "840     1\n",
       "56      1\n",
       "Name: Pays, dtype: int64"
      ]
     },
     "execution_count": 25,
     "metadata": {},
     "output_type": "execute_result"
    }
   ],
   "source": [
    "df.loc[(df.Date=='2003-12-21')&(df.fraude==1),'Pays'].value_counts()"
   ]
  },
  {
   "cell_type": "code",
   "execution_count": 26,
   "metadata": {
    "colab": {
     "base_uri": "https://localhost:8080/",
     "height": 187
    },
    "colab_type": "code",
    "executionInfo": {
     "elapsed": 7317,
     "status": "ok",
     "timestamp": 1591441263091,
     "user": {
      "displayName": "Camille GEORGET",
      "photoUrl": "",
      "userId": "03622189545362805141"
     },
     "user_tz": -180
    },
    "id": "083nadTtIH-D",
    "outputId": "1865dd71-8552-49c7-b671-87020462a1b1"
   },
   "outputs": [
    {
     "data": {
      "text/plain": [
       "826    22\n",
       "356    21\n",
       "752     9\n",
       "724     9\n",
       "862     4\n",
       "380     1\n",
       "56      1\n",
       "442     1\n",
       "528     1\n",
       "Name: Pays, dtype: int64"
      ]
     },
     "execution_count": 26,
     "metadata": {},
     "output_type": "execute_result"
    }
   ],
   "source": [
    "df.loc[(df.Date=='2004-01-21')&(df.fraude==1),'Pays'].value_counts()"
   ]
  },
  {
   "cell_type": "code",
   "execution_count": 27,
   "metadata": {
    "colab": {
     "base_uri": "https://localhost:8080/",
     "height": 204
    },
    "colab_type": "code",
    "executionInfo": {
     "elapsed": 7295,
     "status": "ok",
     "timestamp": 1591441263092,
     "user": {
      "displayName": "Camille GEORGET",
      "photoUrl": "",
      "userId": "03622189545362805141"
     },
     "user_tz": -180
    },
    "id": "T6LK0bGeIH-G",
    "outputId": "198e4a70-8aa7-4639-ae31-74ddc11b2e03"
   },
   "outputs": [
    {
     "data": {
      "text/plain": [
       "36     47\n",
       "840    14\n",
       "56      9\n",
       "380     6\n",
       "792     5\n",
       "76      3\n",
       "756     2\n",
       "826     2\n",
       "528     2\n",
       "392     2\n",
       "Name: Pays, dtype: int64"
      ]
     },
     "execution_count": 27,
     "metadata": {},
     "output_type": "execute_result"
    }
   ],
   "source": [
    "df.loc[(df.Date=='2004-04-06')&(df.fraude==1),'Pays'].value_counts()"
   ]
  },
  {
   "cell_type": "code",
   "execution_count": 28,
   "metadata": {
    "colab": {
     "base_uri": "https://localhost:8080/",
     "height": 238
    },
    "colab_type": "code",
    "executionInfo": {
     "elapsed": 7279,
     "status": "ok",
     "timestamp": 1591441263092,
     "user": {
      "displayName": "Camille GEORGET",
      "photoUrl": "",
      "userId": "03622189545362805141"
     },
     "user_tz": -180
    },
    "id": "pT-R_hjEIH-I",
    "outputId": "a1410a34-0c40-4138-9883-719724fac4fa"
   },
   "outputs": [
    {
     "data": {
      "text/plain": [
       "840    24\n",
       "792    14\n",
       "76     10\n",
       "344     9\n",
       "826     7\n",
       "756     5\n",
       "380     2\n",
       "218     2\n",
       "724     2\n",
       "56      2\n",
       "528     1\n",
       "392     1\n",
       "Name: Pays, dtype: int64"
      ]
     },
     "execution_count": 28,
     "metadata": {},
     "output_type": "execute_result"
    }
   ],
   "source": [
    "df.loc[(df.Date=='2004-07-06')&(df.fraude==1),'Pays'].value_counts()"
   ]
  },
  {
   "cell_type": "code",
   "execution_count": 29,
   "metadata": {
    "colab": {
     "base_uri": "https://localhost:8080/",
     "height": 136
    },
    "colab_type": "code",
    "executionInfo": {
     "elapsed": 7264,
     "status": "ok",
     "timestamp": 1591441263093,
     "user": {
      "displayName": "Camille GEORGET",
      "photoUrl": "",
      "userId": "03622189545362805141"
     },
     "user_tz": -180
    },
    "id": "J6TB0sDSIH-K",
    "outputId": "d82d70eb-789e-4b17-b4e8-993dce6f60a7"
   },
   "outputs": [
    {
     "data": {
      "text/plain": [
       "840    48\n",
       "344     7\n",
       "76      3\n",
       "792     2\n",
       "756     1\n",
       "724     1\n",
       "Name: Pays, dtype: int64"
      ]
     },
     "execution_count": 29,
     "metadata": {},
     "output_type": "execute_result"
    }
   ],
   "source": [
    "df.loc[(df.Date=='2004-06-06')&(df.fraude==1),'Pays'].value_counts()"
   ]
  },
  {
   "cell_type": "markdown",
   "metadata": {
    "colab_type": "text",
    "id": "skmH7jHyIH-O"
   },
   "source": [
    "On constate que les ecarts sont assez marqués, les premiers pays ont beaucoup plus de fraudes que ceux d'après à ces dates.\n",
    "On ne pourra peut etre pas tirer grand chose de ces informations, mais cela indique que dans certains pays et acertaines dates,\n",
    "il faut etre plus vigilent que d'habitude. Peut etre ces dates etaient loccasion d'evenement particulier (soldes, black friday etc...)\n",
    "Ou peut etre simplement un groupe de personnes a tenter de faire plusieurs fraudes en memes temps, et elles ont étées detectées.\n",
    "\n",
    "Voici un meme tableau pour une date prise au hasard, et on voit que les ecarts ne sont pas aussi marquées que precedemment."
   ]
  },
  {
   "cell_type": "code",
   "execution_count": 30,
   "metadata": {
    "colab": {
     "base_uri": "https://localhost:8080/",
     "height": 170
    },
    "colab_type": "code",
    "executionInfo": {
     "elapsed": 7246,
     "status": "ok",
     "timestamp": 1591441263093,
     "user": {
      "displayName": "Camille GEORGET",
      "photoUrl": "",
      "userId": "03622189545362805141"
     },
     "user_tz": -180
    },
    "id": "G4Pu9UBYIH-P",
    "outputId": "a51ffbc1-8aef-4312-eb76-efce6591f228"
   },
   "outputs": [
    {
     "data": {
      "text/plain": [
       "792    11\n",
       "344    10\n",
       "840    10\n",
       "392     4\n",
       "724     4\n",
       "76      3\n",
       "756     1\n",
       "643     1\n",
       "Name: Pays, dtype: int64"
      ]
     },
     "execution_count": 30,
     "metadata": {},
     "output_type": "execute_result"
    }
   ],
   "source": [
    "df.loc[(df.Date=='2004-05-06')&(df.fraude==1),'Pays'].value_counts()"
   ]
  },
  {
   "cell_type": "markdown",
   "metadata": {
    "colab_type": "text",
    "id": "awZf9dNgIH-R"
   },
   "source": [
    "finalement je ne pense pas utiliser la date dans le modele. Le but de ce modele est de determiner les fraudes, mais aussi de trouver des facteurs explicatifs. La date, meme si elle joue un role, n'est pas un critere comme les autres, puisque ce n'est surement pas la date elleme meme qui a un effet sur la fraude, mais l'evenement qui se deroule a telle date (black friday, cyber monday ...). Je decide donc de ne pas prendre en compte la date afin de trouver un modele plus généralisable si l'on peut dire...."
   ]
  },
  {
   "cell_type": "markdown",
   "metadata": {
    "colab_type": "text",
    "id": "7Fcsb4fpIH-S"
   },
   "source": [
    "## e) Heure"
   ]
  },
  {
   "cell_type": "markdown",
   "metadata": {
    "colab_type": "text",
    "id": "k3Gz_oTNIH-S"
   },
   "source": [
    "On va convertir notre heure, et garder uniquement les minutes et les heures a priori on s'en fiche des secondes, mais je vais verifier tout de même si il y a une correlation evidente entre le nombre de seconde et la fraude ou non (par ex, des ordinateurs pourraient etre regler pour tenter une fraude a chaque minute pile, donc dans ce cas le nombre de seconde aurait de l'importance, idem pour les minutes, et pour les heures). Si on ne voit pas de correlation evidente, on pourra simplifier cette variable simplement avec heure,minutes"
   ]
  },
  {
   "cell_type": "code",
   "execution_count": 31,
   "metadata": {
    "colab": {},
    "colab_type": "code",
    "id": "QIZRw5msIH-T"
   },
   "outputs": [],
   "source": [
    "#on extrait le nombre d'heure, de minutes et de secondes\n",
    "df['heure'] = [int(df.Heure[i][0:2]) for i in range(len(df.Heure))]\n",
    "df['minute'] = [int(df.Heure[i][3:5]) for i in range(len(df.Heure))]\n",
    "df['seconde'] = [int(df.Heure[i][6:8]) for i in range(len(df.Heure))]"
   ]
  },
  {
   "cell_type": "markdown",
   "metadata": {
    "colab_type": "text",
    "id": "MynwL8VzIH-V"
   },
   "source": [
    "On va a present regarder si des heures, minutes ou secondes reviennent plus souvent pour la fraude"
   ]
  },
  {
   "cell_type": "code",
   "execution_count": 32,
   "metadata": {
    "colab": {
     "base_uri": "https://localhost:8080/",
     "height": 334
    },
    "colab_type": "code",
    "executionInfo": {
     "elapsed": 134858,
     "status": "ok",
     "timestamp": 1591441390728,
     "user": {
      "displayName": "Camille GEORGET",
      "photoUrl": "",
      "userId": "03622189545362805141"
     },
     "user_tz": -180
    },
    "id": "BgQk_2f_IH-V",
    "outputId": "24a2d217-6562-4d38-db29-76d3ad3b1cc4",
    "scrolled": true
   },
   "outputs": [
    {
     "data": {
      "text/plain": [
       "array([<matplotlib.axes._subplots.AxesSubplot object at 0x0000023AC1F0B358>,\n",
       "       <matplotlib.axes._subplots.AxesSubplot object at 0x0000023AC4838B00>],\n",
       "      dtype=object)"
      ]
     },
     "execution_count": 32,
     "metadata": {},
     "output_type": "execute_result"
    },
    {
     "data": {
      "image/png": "[encoded data removed]",
      "text/plain": [
       "<Figure size 432x288 with 2 Axes>"
      ]
     },
     "metadata": {
      "needs_background": "light"
     },
     "output_type": "display_data"
    }
   ],
   "source": [
    "df['heure'].hist(by=df['fraude']) "
   ]
  },
  {
   "cell_type": "code",
   "execution_count": 33,
   "metadata": {
    "colab": {
     "base_uri": "https://localhost:8080/",
     "height": 514
    },
    "colab_type": "code",
    "executionInfo": {
     "elapsed": 134838,
     "status": "ok",
     "timestamp": 1591441390729,
     "user": {
      "displayName": "Camille GEORGET",
      "photoUrl": "",
      "userId": "03622189545362805141"
     },
     "user_tz": -180
    },
    "id": "ZfT7dQlkIH-X",
    "outputId": "471059f8-1502-48fb-ab9b-9fc71cca4fd9",
    "scrolled": true
   },
   "outputs": [
    {
     "data": {
      "text/html": [
       "<div>\n",
       "<style scoped>\n",
       "    .dataframe tbody tr th:only-of-type {\n",
       "        vertical-align: middle;\n",
       "    }\n",
       "\n",
       "    .dataframe tbody tr th {\n",
       "        vertical-align: top;\n",
       "    }\n",
       "\n",
       "    .dataframe thead th {\n",
       "        text-align: right;\n",
       "    }\n",
       "</style>\n",
       "<table border=\"1\" class=\"dataframe\">\n",
       "  <thead>\n",
       "    <tr style=\"text-align: right;\">\n",
       "      <th></th>\n",
       "      <th>index</th>\n",
       "      <th>a</th>\n",
       "      <th>b</th>\n",
       "      <th>missing_value</th>\n",
       "      <th>diff</th>\n",
       "    </tr>\n",
       "  </thead>\n",
       "  <tbody>\n",
       "    <tr>\n",
       "      <th>19</th>\n",
       "      <td>2</td>\n",
       "      <td>0.012695</td>\n",
       "      <td>0.026635</td>\n",
       "      <td>0</td>\n",
       "      <td>2.098164</td>\n",
       "    </tr>\n",
       "    <tr>\n",
       "      <th>20</th>\n",
       "      <td>3</td>\n",
       "      <td>0.011016</td>\n",
       "      <td>0.020701</td>\n",
       "      <td>0</td>\n",
       "      <td>1.879235</td>\n",
       "    </tr>\n",
       "    <tr>\n",
       "      <th>18</th>\n",
       "      <td>1</td>\n",
       "      <td>0.015298</td>\n",
       "      <td>0.027739</td>\n",
       "      <td>0</td>\n",
       "      <td>1.813247</td>\n",
       "    </tr>\n",
       "    <tr>\n",
       "      <th>21</th>\n",
       "      <td>4</td>\n",
       "      <td>0.010542</td>\n",
       "      <td>0.017527</td>\n",
       "      <td>0</td>\n",
       "      <td>1.662581</td>\n",
       "    </tr>\n",
       "    <tr>\n",
       "      <th>23</th>\n",
       "      <td>5</td>\n",
       "      <td>0.008896</td>\n",
       "      <td>0.013939</td>\n",
       "      <td>0</td>\n",
       "      <td>1.566804</td>\n",
       "    </tr>\n",
       "    <tr>\n",
       "      <th>22</th>\n",
       "      <td>6</td>\n",
       "      <td>0.010109</td>\n",
       "      <td>0.015733</td>\n",
       "      <td>0</td>\n",
       "      <td>1.556261</td>\n",
       "    </tr>\n",
       "    <tr>\n",
       "      <th>16</th>\n",
       "      <td>0</td>\n",
       "      <td>0.019950</td>\n",
       "      <td>0.030914</td>\n",
       "      <td>0</td>\n",
       "      <td>1.549589</td>\n",
       "    </tr>\n",
       "    <tr>\n",
       "      <th>11</th>\n",
       "      <td>20</td>\n",
       "      <td>0.038286</td>\n",
       "      <td>0.054099</td>\n",
       "      <td>0</td>\n",
       "      <td>1.413028</td>\n",
       "    </tr>\n",
       "    <tr>\n",
       "      <th>15</th>\n",
       "      <td>23</td>\n",
       "      <td>0.027040</td>\n",
       "      <td>0.038090</td>\n",
       "      <td>0</td>\n",
       "      <td>1.408644</td>\n",
       "    </tr>\n",
       "    <tr>\n",
       "      <th>9</th>\n",
       "      <td>19</td>\n",
       "      <td>0.050461</td>\n",
       "      <td>0.065553</td>\n",
       "      <td>0</td>\n",
       "      <td>1.299085</td>\n",
       "    </tr>\n",
       "    <tr>\n",
       "      <th>12</th>\n",
       "      <td>21</td>\n",
       "      <td>0.035632</td>\n",
       "      <td>0.045542</td>\n",
       "      <td>0</td>\n",
       "      <td>1.278120</td>\n",
       "    </tr>\n",
       "    <tr>\n",
       "      <th>13</th>\n",
       "      <td>22</td>\n",
       "      <td>0.033336</td>\n",
       "      <td>0.035468</td>\n",
       "      <td>0</td>\n",
       "      <td>1.063939</td>\n",
       "    </tr>\n",
       "    <tr>\n",
       "      <th>17</th>\n",
       "      <td>7</td>\n",
       "      <td>0.016203</td>\n",
       "      <td>0.016975</td>\n",
       "      <td>0</td>\n",
       "      <td>1.047652</td>\n",
       "    </tr>\n",
       "    <tr>\n",
       "      <th>6</th>\n",
       "      <td>12</td>\n",
       "      <td>0.065936</td>\n",
       "      <td>0.065415</td>\n",
       "      <td>0</td>\n",
       "      <td>0.992105</td>\n",
       "    </tr>\n",
       "    <tr>\n",
       "      <th>4</th>\n",
       "      <td>18</td>\n",
       "      <td>0.068865</td>\n",
       "      <td>0.064311</td>\n",
       "      <td>0</td>\n",
       "      <td>0.933880</td>\n",
       "    </tr>\n",
       "  </tbody>\n",
       "</table>\n",
       "</div>"
      ],
      "text/plain": [
       "    index         a         b  missing_value      diff\n",
       "19      2  0.012695  0.026635              0  2.098164\n",
       "20      3  0.011016  0.020701              0  1.879235\n",
       "18      1  0.015298  0.027739              0  1.813247\n",
       "21      4  0.010542  0.017527              0  1.662581\n",
       "23      5  0.008896  0.013939              0  1.566804\n",
       "22      6  0.010109  0.015733              0  1.556261\n",
       "16      0  0.019950  0.030914              0  1.549589\n",
       "11     20  0.038286  0.054099              0  1.413028\n",
       "15     23  0.027040  0.038090              0  1.408644\n",
       "9      19  0.050461  0.065553              0  1.299085\n",
       "12     21  0.035632  0.045542              0  1.278120\n",
       "13     22  0.033336  0.035468              0  1.063939\n",
       "17      7  0.016203  0.016975              0  1.047652\n",
       "6      12  0.065936  0.065415              0  0.992105\n",
       "4      18  0.068865  0.064311              0  0.933880"
      ]
     },
     "execution_count": 33,
     "metadata": {},
     "output_type": "execute_result"
    }
   ],
   "source": [
    "impact_fraude('heure').head(15)"
   ]
  },
  {
   "cell_type": "markdown",
   "metadata": {
    "colab_type": "text",
    "id": "1M-Lof0aIH-Z"
   },
   "source": [
    "il y a plus de fraude en proportion dans la nuit (de 19h à 6h). Interessant"
   ]
  },
  {
   "cell_type": "code",
   "execution_count": 34,
   "metadata": {
    "colab": {
     "base_uri": "https://localhost:8080/",
     "height": 334
    },
    "colab_type": "code",
    "executionInfo": {
     "elapsed": 135609,
     "status": "ok",
     "timestamp": 1591441391516,
     "user": {
      "displayName": "Camille GEORGET",
      "photoUrl": "",
      "userId": "03622189545362805141"
     },
     "user_tz": -180
    },
    "id": "KxA_i4VJIH-a",
    "outputId": "56806a12-9be3-48d3-d964-83c4e61602f5",
    "scrolled": true
   },
   "outputs": [
    {
     "data": {
      "text/plain": [
       "array([<matplotlib.axes._subplots.AxesSubplot object at 0x0000023AC48906D8>,\n",
       "       <matplotlib.axes._subplots.AxesSubplot object at 0x0000023AC48FC160>],\n",
       "      dtype=object)"
      ]
     },
     "execution_count": 34,
     "metadata": {},
     "output_type": "execute_result"
    },
    {
     "data": {
      "image/png": "[encoded data removed]",
      "text/plain": [
       "<Figure size 432x288 with 2 Axes>"
      ]
     },
     "metadata": {
      "needs_background": "light"
     },
     "output_type": "display_data"
    }
   ],
   "source": [
    "df['minute'].hist(by=df['fraude'])"
   ]
  },
  {
   "cell_type": "code",
   "execution_count": 35,
   "metadata": {
    "colab": {
     "base_uri": "https://localhost:8080/",
     "height": 204
    },
    "colab_type": "code",
    "executionInfo": {
     "elapsed": 135585,
     "status": "ok",
     "timestamp": 1591441391517,
     "user": {
      "displayName": "Camille GEORGET",
      "photoUrl": "",
      "userId": "03622189545362805141"
     },
     "user_tz": -180
    },
    "id": "YUdxCHBUIH-c",
    "outputId": "4ff97c0b-1dc9-4af7-a55b-78491ed9be56"
   },
   "outputs": [
    {
     "data": {
      "text/html": [
       "<div>\n",
       "<style scoped>\n",
       "    .dataframe tbody tr th:only-of-type {\n",
       "        vertical-align: middle;\n",
       "    }\n",
       "\n",
       "    .dataframe tbody tr th {\n",
       "        vertical-align: top;\n",
       "    }\n",
       "\n",
       "    .dataframe thead th {\n",
       "        text-align: right;\n",
       "    }\n",
       "</style>\n",
       "<table border=\"1\" class=\"dataframe\">\n",
       "  <thead>\n",
       "    <tr style=\"text-align: right;\">\n",
       "      <th></th>\n",
       "      <th>index</th>\n",
       "      <th>a</th>\n",
       "      <th>b</th>\n",
       "      <th>missing_value</th>\n",
       "      <th>diff</th>\n",
       "    </tr>\n",
       "  </thead>\n",
       "  <tbody>\n",
       "    <tr>\n",
       "      <th>18</th>\n",
       "      <td>42</td>\n",
       "      <td>0.016715</td>\n",
       "      <td>0.020287</td>\n",
       "      <td>0</td>\n",
       "      <td>1.213708</td>\n",
       "    </tr>\n",
       "    <tr>\n",
       "      <th>46</th>\n",
       "      <td>20</td>\n",
       "      <td>0.016528</td>\n",
       "      <td>0.019873</td>\n",
       "      <td>0</td>\n",
       "      <td>1.202393</td>\n",
       "    </tr>\n",
       "    <tr>\n",
       "      <th>40</th>\n",
       "      <td>24</td>\n",
       "      <td>0.016592</td>\n",
       "      <td>0.019459</td>\n",
       "      <td>0</td>\n",
       "      <td>1.172815</td>\n",
       "    </tr>\n",
       "    <tr>\n",
       "      <th>33</th>\n",
       "      <td>36</td>\n",
       "      <td>0.016654</td>\n",
       "      <td>0.019183</td>\n",
       "      <td>0</td>\n",
       "      <td>1.151872</td>\n",
       "    </tr>\n",
       "    <tr>\n",
       "      <th>39</th>\n",
       "      <td>49</td>\n",
       "      <td>0.016594</td>\n",
       "      <td>0.019045</td>\n",
       "      <td>0</td>\n",
       "      <td>1.147681</td>\n",
       "    </tr>\n",
       "  </tbody>\n",
       "</table>\n",
       "</div>"
      ],
      "text/plain": [
       "    index         a         b  missing_value      diff\n",
       "18     42  0.016715  0.020287              0  1.213708\n",
       "46     20  0.016528  0.019873              0  1.202393\n",
       "40     24  0.016592  0.019459              0  1.172815\n",
       "33     36  0.016654  0.019183              0  1.151872\n",
       "39     49  0.016594  0.019045              0  1.147681"
      ]
     },
     "execution_count": 35,
     "metadata": {},
     "output_type": "execute_result"
    }
   ],
   "source": [
    "impact_fraude('minute').head()# pas d'impact ici"
   ]
  },
  {
   "cell_type": "code",
   "execution_count": 36,
   "metadata": {
    "colab": {
     "base_uri": "https://localhost:8080/",
     "height": 334
    },
    "colab_type": "code",
    "executionInfo": {
     "elapsed": 135566,
     "status": "ok",
     "timestamp": 1591441391518,
     "user": {
      "displayName": "Camille GEORGET",
      "photoUrl": "",
      "userId": "03622189545362805141"
     },
     "user_tz": -180
    },
    "id": "Fm8wIGFIIH-e",
    "outputId": "1809e220-c88d-41ea-8da9-0e29742aa5ba",
    "scrolled": false
   },
   "outputs": [
    {
     "data": {
      "text/plain": [
       "array([<matplotlib.axes._subplots.AxesSubplot object at 0x0000023AC4D8D3C8>,\n",
       "       <matplotlib.axes._subplots.AxesSubplot object at 0x0000023AC49DA630>],\n",
       "      dtype=object)"
      ]
     },
     "execution_count": 36,
     "metadata": {},
     "output_type": "execute_result"
    },
    {
     "data": {
      "image/png": "[encoded data removed]",
      "text/plain": [
       "<Figure size 432x288 with 2 Axes>"
      ]
     },
     "metadata": {
      "needs_background": "light"
     },
     "output_type": "display_data"
    }
   ],
   "source": [
    "df['seconde'].hist(by=df['fraude'])"
   ]
  },
  {
   "cell_type": "code",
   "execution_count": 37,
   "metadata": {
    "colab": {
     "base_uri": "https://localhost:8080/",
     "height": 204
    },
    "colab_type": "code",
    "executionInfo": {
     "elapsed": 135547,
     "status": "ok",
     "timestamp": 1591441391519,
     "user": {
      "displayName": "Camille GEORGET",
      "photoUrl": "",
      "userId": "03622189545362805141"
     },
     "user_tz": -180
    },
    "id": "lv_AYryeIH-g",
    "outputId": "4ed2d4d4-18df-4b36-8dfe-96c576bf6459"
   },
   "outputs": [
    {
     "data": {
      "text/html": [
       "<div>\n",
       "<style scoped>\n",
       "    .dataframe tbody tr th:only-of-type {\n",
       "        vertical-align: middle;\n",
       "    }\n",
       "\n",
       "    .dataframe tbody tr th {\n",
       "        vertical-align: top;\n",
       "    }\n",
       "\n",
       "    .dataframe thead th {\n",
       "        text-align: right;\n",
       "    }\n",
       "</style>\n",
       "<table border=\"1\" class=\"dataframe\">\n",
       "  <thead>\n",
       "    <tr style=\"text-align: right;\">\n",
       "      <th></th>\n",
       "      <th>index</th>\n",
       "      <th>a</th>\n",
       "      <th>b</th>\n",
       "      <th>missing_value</th>\n",
       "      <th>diff</th>\n",
       "    </tr>\n",
       "  </thead>\n",
       "  <tbody>\n",
       "    <tr>\n",
       "      <th>11</th>\n",
       "      <td>15</td>\n",
       "      <td>0.016780</td>\n",
       "      <td>0.021805</td>\n",
       "      <td>0</td>\n",
       "      <td>1.299434</td>\n",
       "    </tr>\n",
       "    <tr>\n",
       "      <th>56</th>\n",
       "      <td>44</td>\n",
       "      <td>0.016469</td>\n",
       "      <td>0.019735</td>\n",
       "      <td>0</td>\n",
       "      <td>1.198288</td>\n",
       "    </tr>\n",
       "    <tr>\n",
       "      <th>29</th>\n",
       "      <td>37</td>\n",
       "      <td>0.016657</td>\n",
       "      <td>0.019873</td>\n",
       "      <td>0</td>\n",
       "      <td>1.193056</td>\n",
       "    </tr>\n",
       "    <tr>\n",
       "      <th>52</th>\n",
       "      <td>29</td>\n",
       "      <td>0.016506</td>\n",
       "      <td>0.019045</td>\n",
       "      <td>0</td>\n",
       "      <td>1.153818</td>\n",
       "    </tr>\n",
       "    <tr>\n",
       "      <th>33</th>\n",
       "      <td>0</td>\n",
       "      <td>0.016629</td>\n",
       "      <td>0.018769</td>\n",
       "      <td>0</td>\n",
       "      <td>1.128670</td>\n",
       "    </tr>\n",
       "  </tbody>\n",
       "</table>\n",
       "</div>"
      ],
      "text/plain": [
       "    index         a         b  missing_value      diff\n",
       "11     15  0.016780  0.021805              0  1.299434\n",
       "56     44  0.016469  0.019735              0  1.198288\n",
       "29     37  0.016657  0.019873              0  1.193056\n",
       "52     29  0.016506  0.019045              0  1.153818\n",
       "33      0  0.016629  0.018769              0  1.128670"
      ]
     },
     "execution_count": 37,
     "metadata": {},
     "output_type": "execute_result"
    }
   ],
   "source": [
    "impact_fraude('seconde').head() # pas d'impact ici non plus"
   ]
  },
  {
   "cell_type": "code",
   "execution_count": 38,
   "metadata": {
    "colab": {},
    "colab_type": "code",
    "id": "wHJPLLr6IH-i"
   },
   "outputs": [],
   "source": [
    "# Bilan : non, ça na pas l'air d'avoir un impact tres fort pour les minutes et les secondes,\n",
    "# Jai aussi essayé de garder heure+minutes pour voir si ça avait un sens, mais finalement c'est pas super interessant, \n",
    "#on va conserver seulement les heures\n",
    "df.Heure = df.heure "
   ]
  },
  {
   "cell_type": "code",
   "execution_count": 39,
   "metadata": {
    "colab": {},
    "colab_type": "code",
    "id": "taVaOWO9IH-k"
   },
   "outputs": [],
   "source": [
    "# on drop les 3 variables creees\n",
    "df = df.drop('heure', axis=1)\n",
    "df= df.drop('minute', axis=1)\n",
    "df = df.drop('seconde', axis=1)"
   ]
  },
  {
   "cell_type": "markdown",
   "metadata": {
    "colab_type": "text",
    "id": "V48NYdccIH-m"
   },
   "source": [
    "Nous allons creer une v2 pour la variable heure, qui la simplifie en nuit et jour \n"
   ]
  },
  {
   "cell_type": "code",
   "execution_count": 40,
   "metadata": {
    "colab": {},
    "colab_type": "code",
    "id": "ER6vP86fIH-m"
   },
   "outputs": [],
   "source": [
    "df['Heure_v2'] = 1*(df.Heure<8) + 1*(df.Heure>18) # 1 = nuit et 0 = jour "
   ]
  },
  {
   "cell_type": "code",
   "execution_count": 41,
   "metadata": {
    "colab": {
     "base_uri": "https://localhost:8080/",
     "height": 221
    },
    "colab_type": "code",
    "executionInfo": {
     "elapsed": 136252,
     "status": "ok",
     "timestamp": 1591441392263,
     "user": {
      "displayName": "Camille GEORGET",
      "photoUrl": "",
      "userId": "03622189545362805141"
     },
     "user_tz": -180
    },
    "id": "ZTWCOGeyIH-o",
    "outputId": "0ceb2844-085c-42bf-9d87-8624eba9b35a"
   },
   "outputs": [
    {
     "data": {
      "text/plain": [
       "Pays  Heure\n",
       "214   10       1.000000\n",
       "630   12       1.000000\n",
       "862   7        1.000000\n",
       "690   14       0.500000\n",
       "188   8        0.400000\n",
       "      7        0.363636\n",
       "608   18       0.333333\n",
       "218   0        0.285714\n",
       "682   22       0.285714\n",
       "218   5        0.250000\n",
       "Name: fraude, dtype: float64"
      ]
     },
     "execution_count": 41,
     "metadata": {},
     "output_type": "execute_result"
    }
   ],
   "source": [
    "# finalement, je regarde si on peut voir le taux de fraude par heure et par pays ; on repetera ce procéder plusieurs fois \n",
    "# avec des groupby pour voir si des associations de variables sont judicieuses\n",
    "test = df.groupby(['Pays','Heure'])['fraude'].mean()\n",
    "test.sort_values(ascending=False).head(10)\n",
    "# on voit qu'il y a bcp de fraude dans certains pays a certaines heures, mais bon pas sur de pouvoir en tirer qqchose \n",
    "# ici, a revoir"
   ]
  },
  {
   "cell_type": "markdown",
   "metadata": {
    "colab_type": "text",
    "id": "8idE48xTIH-q"
   },
   "source": [
    "# f) Coderep (00 si transactions acceptée, refusée sinon)"
   ]
  },
  {
   "cell_type": "code",
   "execution_count": 42,
   "metadata": {
    "colab": {
     "base_uri": "https://localhost:8080/",
     "height": 289
    },
    "colab_type": "code",
    "executionInfo": {
     "elapsed": 136236,
     "status": "ok",
     "timestamp": 1591441392264,
     "user": {
      "displayName": "Camille GEORGET",
      "photoUrl": "",
      "userId": "03622189545362805141"
     },
     "user_tz": -180
    },
    "id": "abkSIZyKIH-r",
    "outputId": "fb094bcc-10fd-47bc-8e48-e2f2d118a79f"
   },
   "outputs": [
    {
     "data": {
      "text/plain": [
       "0     1080453\n",
       "2       38784\n",
       "57      14260\n",
       "7        9437\n",
       "5        2182\n",
       "56       2152\n",
       "94       1750\n",
       "54       1313\n",
       "41        289\n",
       "96        223\n",
       "98        221\n",
       "43        199\n",
       "30         85\n",
       "15         83\n",
       "14          1\n",
       "Name: CodeRep, dtype: int64"
      ]
     },
     "execution_count": 42,
     "metadata": {},
     "output_type": "execute_result"
    }
   ],
   "source": [
    "df.CodeRep.value_counts() # les modalités doivent correspondre aux differents motifs de refus de transactions"
   ]
  },
  {
   "cell_type": "code",
   "execution_count": 43,
   "metadata": {
    "colab": {
     "base_uri": "https://localhost:8080/",
     "height": 51
    },
    "colab_type": "code",
    "executionInfo": {
     "elapsed": 136210,
     "status": "ok",
     "timestamp": 1591441392264,
     "user": {
      "displayName": "Camille GEORGET",
      "photoUrl": "",
      "userId": "03622189545362805141"
     },
     "user_tz": -180
    },
    "id": "1tUFZH8iIH-u",
    "outputId": "cd6a538d-1624-4447-e2ac-58fd6e00017a"
   },
   "outputs": [
    {
     "name": "stdout",
     "output_type": "stream",
     "text": [
      "0.213359094672923\n",
      "0.06164410924830993\n"
     ]
    }
   ],
   "source": [
    "print(sum((df.fraude==1) & (df.CodeRep>0))/sum((df.fraude==1))) # 21% des fraudes sont des transactions refusées  \n",
    "print(sum(df.CodeRep>0)/len(df.CodeRep)) # 6% des opérations sont des transactions refusées\n",
    "# on fait donc l'hypothèse que les fraudes sont plus souvent des transactions refusées que les non fraudes"
   ]
  },
  {
   "cell_type": "code",
   "execution_count": 44,
   "metadata": {
    "colab": {
     "base_uri": "https://localhost:8080/",
     "height": 514
    },
    "colab_type": "code",
    "executionInfo": {
     "elapsed": 136904,
     "status": "ok",
     "timestamp": 1591441392997,
     "user": {
      "displayName": "Camille GEORGET",
      "photoUrl": "",
      "userId": "03622189545362805141"
     },
     "user_tz": -180
    },
    "id": "oDQTxiYqIH-x",
    "outputId": "d6ff9dbd-5c55-4afc-ab64-1676e1ef00a6",
    "scrolled": true
   },
   "outputs": [
    {
     "data": {
      "text/html": [
       "<div>\n",
       "<style scoped>\n",
       "    .dataframe tbody tr th:only-of-type {\n",
       "        vertical-align: middle;\n",
       "    }\n",
       "\n",
       "    .dataframe tbody tr th {\n",
       "        vertical-align: top;\n",
       "    }\n",
       "\n",
       "    .dataframe thead th {\n",
       "        text-align: right;\n",
       "    }\n",
       "</style>\n",
       "<table border=\"1\" class=\"dataframe\">\n",
       "  <thead>\n",
       "    <tr style=\"text-align: right;\">\n",
       "      <th></th>\n",
       "      <th>index</th>\n",
       "      <th>a</th>\n",
       "      <th>b</th>\n",
       "      <th>missing_value</th>\n",
       "      <th>diff</th>\n",
       "    </tr>\n",
       "  </thead>\n",
       "  <tbody>\n",
       "    <tr>\n",
       "      <th>11</th>\n",
       "      <td>43</td>\n",
       "      <td>9.788618e-05</td>\n",
       "      <td>0.012007</td>\n",
       "      <td>0</td>\n",
       "      <td>122.659031</td>\n",
       "    </tr>\n",
       "    <tr>\n",
       "      <th>10</th>\n",
       "      <td>41</td>\n",
       "      <td>1.538211e-04</td>\n",
       "      <td>0.015595</td>\n",
       "      <td>0</td>\n",
       "      <td>101.382752</td>\n",
       "    </tr>\n",
       "    <tr>\n",
       "      <th>3</th>\n",
       "      <td>7</td>\n",
       "      <td>7.983842e-03</td>\n",
       "      <td>0.041678</td>\n",
       "      <td>0</td>\n",
       "      <td>5.220315</td>\n",
       "    </tr>\n",
       "    <tr>\n",
       "      <th>1</th>\n",
       "      <td>2</td>\n",
       "      <td>3.307067e-02</td>\n",
       "      <td>0.130417</td>\n",
       "      <td>0</td>\n",
       "      <td>3.943578</td>\n",
       "    </tr>\n",
       "    <tr>\n",
       "      <th>12</th>\n",
       "      <td>30</td>\n",
       "      <td>7.254065e-05</td>\n",
       "      <td>0.000276</td>\n",
       "      <td>0</td>\n",
       "      <td>3.804961</td>\n",
       "    </tr>\n",
       "    <tr>\n",
       "      <th>6</th>\n",
       "      <td>94</td>\n",
       "      <td>1.493638e-03</td>\n",
       "      <td>0.005658</td>\n",
       "      <td>0</td>\n",
       "      <td>3.788263</td>\n",
       "    </tr>\n",
       "    <tr>\n",
       "      <th>5</th>\n",
       "      <td>5</td>\n",
       "      <td>1.879065e-03</td>\n",
       "      <td>0.004416</td>\n",
       "      <td>0</td>\n",
       "      <td>2.350227</td>\n",
       "    </tr>\n",
       "    <tr>\n",
       "      <th>8</th>\n",
       "      <td>96</td>\n",
       "      <td>1.931504e-04</td>\n",
       "      <td>0.000276</td>\n",
       "      <td>0</td>\n",
       "      <td>1.429012</td>\n",
       "    </tr>\n",
       "    <tr>\n",
       "      <th>0</th>\n",
       "      <td>0</td>\n",
       "      <td>9.393167e-01</td>\n",
       "      <td>0.786641</td>\n",
       "      <td>0</td>\n",
       "      <td>0.837461</td>\n",
       "    </tr>\n",
       "    <tr>\n",
       "      <th>9</th>\n",
       "      <td>98</td>\n",
       "      <td>1.922764e-04</td>\n",
       "      <td>0.000138</td>\n",
       "      <td>0</td>\n",
       "      <td>0.717754</td>\n",
       "    </tr>\n",
       "    <tr>\n",
       "      <th>2</th>\n",
       "      <td>57</td>\n",
       "      <td>1.244553e-02</td>\n",
       "      <td>0.002760</td>\n",
       "      <td>0</td>\n",
       "      <td>0.221778</td>\n",
       "    </tr>\n",
       "    <tr>\n",
       "      <th>7</th>\n",
       "      <td>54</td>\n",
       "      <td>1.146667e-03</td>\n",
       "      <td>0.000138</td>\n",
       "      <td>0</td>\n",
       "      <td>0.120355</td>\n",
       "    </tr>\n",
       "    <tr>\n",
       "      <th>4</th>\n",
       "      <td>56</td>\n",
       "      <td>1.880813e-03</td>\n",
       "      <td>0.000000</td>\n",
       "      <td>1</td>\n",
       "      <td>0.000000</td>\n",
       "    </tr>\n",
       "    <tr>\n",
       "      <th>13</th>\n",
       "      <td>15</td>\n",
       "      <td>7.254065e-05</td>\n",
       "      <td>0.000000</td>\n",
       "      <td>1</td>\n",
       "      <td>0.000000</td>\n",
       "    </tr>\n",
       "    <tr>\n",
       "      <th>14</th>\n",
       "      <td>14</td>\n",
       "      <td>8.739838e-07</td>\n",
       "      <td>0.000000</td>\n",
       "      <td>1</td>\n",
       "      <td>0.000000</td>\n",
       "    </tr>\n",
       "  </tbody>\n",
       "</table>\n",
       "</div>"
      ],
      "text/plain": [
       "    index             a         b  missing_value        diff\n",
       "11     43  9.788618e-05  0.012007              0  122.659031\n",
       "10     41  1.538211e-04  0.015595              0  101.382752\n",
       "3       7  7.983842e-03  0.041678              0    5.220315\n",
       "1       2  3.307067e-02  0.130417              0    3.943578\n",
       "12     30  7.254065e-05  0.000276              0    3.804961\n",
       "6      94  1.493638e-03  0.005658              0    3.788263\n",
       "5       5  1.879065e-03  0.004416              0    2.350227\n",
       "8      96  1.931504e-04  0.000276              0    1.429012\n",
       "0       0  9.393167e-01  0.786641              0    0.837461\n",
       "9      98  1.922764e-04  0.000138              0    0.717754\n",
       "2      57  1.244553e-02  0.002760              0    0.221778\n",
       "7      54  1.146667e-03  0.000138              0    0.120355\n",
       "4      56  1.880813e-03  0.000000              1    0.000000\n",
       "13     15  7.254065e-05  0.000000              1    0.000000\n",
       "14     14  8.739838e-07  0.000000              1    0.000000"
      ]
     },
     "execution_count": 44,
     "metadata": {},
     "output_type": "execute_result"
    }
   ],
   "source": [
    "impact_fraude('CodeRep')"
   ]
  },
  {
   "cell_type": "markdown",
   "metadata": {
    "colab_type": "text",
    "id": "aGpQwMKTIH-1"
   },
   "source": [
    "On remarque que les modalités 41 et 43 de CodeRep sont souvent des fraudes (40% du temps a peu pres). Il y a plus de 100 fois plus de 43 et 41 parmis les Fraude que parmis les non Fraudes en %. C'est un peu moins evident pour les autres modalités de refus de transaction. On va aussi en faire une V2 pour diminuer les modalités. On passer de 15 à 5 classes par niveau de 'diff'.\n",
    "Comme il y a peu de modalité, je le fait manuellement"
   ]
  },
  {
   "cell_type": "code",
   "execution_count": 45,
   "metadata": {
    "colab": {},
    "colab_type": "code",
    "id": "dR9oLqzeIH-2"
   },
   "outputs": [],
   "source": [
    "df['CodeRep_v2'] = 1*(df.CodeRep.isin([0,54,57,98]))+2*(df.CodeRep.isin([96,5]))+3*(df.CodeRep.isin([94,30,2,7]))+4*(df.CodeRep.isin([41,43]))"
   ]
  },
  {
   "cell_type": "markdown",
   "metadata": {
    "colab_type": "text",
    "id": "n-DMDyfCIH-5"
   },
   "source": [
    "# g) MCC (code commerçant)"
   ]
  },
  {
   "cell_type": "code",
   "execution_count": 46,
   "metadata": {
    "colab": {
     "base_uri": "https://localhost:8080/",
     "height": 34
    },
    "colab_type": "code",
    "executionInfo": {
     "elapsed": 136874,
     "status": "ok",
     "timestamp": 1591441392999,
     "user": {
      "displayName": "Camille GEORGET",
      "photoUrl": "",
      "userId": "03622189545362805141"
     },
     "user_tz": -180
    },
    "id": "VD1N_HAPIH-6",
    "outputId": "4a430259-0894-4e4d-b02f-1f5560bc096a"
   },
   "outputs": [
    {
     "data": {
      "text/plain": [
       "661"
      ]
     },
     "execution_count": 46,
     "metadata": {},
     "output_type": "execute_result"
    }
   ],
   "source": [
    "df.MCC.nunique() # 661 valeurs différentes de code commerçant"
   ]
  },
  {
   "cell_type": "code",
   "execution_count": 47,
   "metadata": {
    "colab": {
     "base_uri": "https://localhost:8080/",
     "height": 352
    },
    "colab_type": "code",
    "executionInfo": {
     "elapsed": 137116,
     "status": "ok",
     "timestamp": 1591441393266,
     "user": {
      "displayName": "Camille GEORGET",
      "photoUrl": "",
      "userId": "03622189545362805141"
     },
     "user_tz": -180
    },
    "id": "vlUV_LcCIH-8",
    "outputId": "613d01d7-0d44-4512-e565-1a73b4c528e1",
    "scrolled": true
   },
   "outputs": [
    {
     "data": {
      "text/plain": [
       "array([<matplotlib.axes._subplots.AxesSubplot object at 0x0000023AC4AA07B8>,\n",
       "       <matplotlib.axes._subplots.AxesSubplot object at 0x0000023AC1F0F898>],\n",
       "      dtype=object)"
      ]
     },
     "execution_count": 47,
     "metadata": {},
     "output_type": "execute_result"
    },
    {
     "data": {
      "image/png": "[encoded data removed]",
      "text/plain": [
       "<Figure size 432x288 with 2 Axes>"
      ]
     },
     "metadata": {
      "needs_background": "light"
     },
     "output_type": "display_data"
    }
   ],
   "source": [
    "df['MCC'].hist(by=df['fraude'], bins=50)"
   ]
  },
  {
   "cell_type": "code",
   "execution_count": 48,
   "metadata": {
    "colab": {
     "base_uri": "https://localhost:8080/",
     "height": 359
    },
    "colab_type": "code",
    "executionInfo": {
     "elapsed": 137090,
     "status": "ok",
     "timestamp": 1591441393267,
     "user": {
      "displayName": "Camille GEORGET",
      "photoUrl": "",
      "userId": "03622189545362805141"
     },
     "user_tz": -180
    },
    "id": "yRLcycQRIH--",
    "outputId": "2efb4cf1-d757-4dcd-a563-ac09159490e1",
    "scrolled": true
   },
   "outputs": [
    {
     "data": {
      "text/html": [
       "<div>\n",
       "<style scoped>\n",
       "    .dataframe tbody tr th:only-of-type {\n",
       "        vertical-align: middle;\n",
       "    }\n",
       "\n",
       "    .dataframe tbody tr th {\n",
       "        vertical-align: top;\n",
       "    }\n",
       "\n",
       "    .dataframe thead th {\n",
       "        text-align: right;\n",
       "    }\n",
       "</style>\n",
       "<table border=\"1\" class=\"dataframe\">\n",
       "  <thead>\n",
       "    <tr style=\"text-align: right;\">\n",
       "      <th></th>\n",
       "      <th>index</th>\n",
       "      <th>a</th>\n",
       "      <th>b</th>\n",
       "      <th>missing_value</th>\n",
       "      <th>diff</th>\n",
       "    </tr>\n",
       "  </thead>\n",
       "  <tbody>\n",
       "    <tr>\n",
       "      <th>660</th>\n",
       "      <td>8044</td>\n",
       "      <td>0.000000</td>\n",
       "      <td>0.000138</td>\n",
       "      <td>1</td>\n",
       "      <td>inf</td>\n",
       "    </tr>\n",
       "    <tr>\n",
       "      <th>494</th>\n",
       "      <td>3748</td>\n",
       "      <td>0.000006</td>\n",
       "      <td>0.003036</td>\n",
       "      <td>0</td>\n",
       "      <td>496.275620</td>\n",
       "    </tr>\n",
       "    <tr>\n",
       "      <th>587</th>\n",
       "      <td>5893</td>\n",
       "      <td>0.000002</td>\n",
       "      <td>0.000276</td>\n",
       "      <td>0</td>\n",
       "      <td>157.905879</td>\n",
       "    </tr>\n",
       "    <tr>\n",
       "      <th>553</th>\n",
       "      <td>5718</td>\n",
       "      <td>0.000003</td>\n",
       "      <td>0.000414</td>\n",
       "      <td>0</td>\n",
       "      <td>157.905879</td>\n",
       "    </tr>\n",
       "    <tr>\n",
       "      <th>362</th>\n",
       "      <td>3541</td>\n",
       "      <td>0.000031</td>\n",
       "      <td>0.002760</td>\n",
       "      <td>0</td>\n",
       "      <td>90.231931</td>\n",
       "    </tr>\n",
       "    <tr>\n",
       "      <th>469</th>\n",
       "      <td>5198</td>\n",
       "      <td>0.000009</td>\n",
       "      <td>0.000552</td>\n",
       "      <td>0</td>\n",
       "      <td>63.162352</td>\n",
       "    </tr>\n",
       "    <tr>\n",
       "      <th>544</th>\n",
       "      <td>3185</td>\n",
       "      <td>0.000003</td>\n",
       "      <td>0.000138</td>\n",
       "      <td>0</td>\n",
       "      <td>39.476470</td>\n",
       "    </tr>\n",
       "    <tr>\n",
       "      <th>268</th>\n",
       "      <td>3771</td>\n",
       "      <td>0.000090</td>\n",
       "      <td>0.002484</td>\n",
       "      <td>0</td>\n",
       "      <td>27.595202</td>\n",
       "    </tr>\n",
       "    <tr>\n",
       "      <th>245</th>\n",
       "      <td>9222</td>\n",
       "      <td>0.000109</td>\n",
       "      <td>0.002208</td>\n",
       "      <td>0</td>\n",
       "      <td>20.211953</td>\n",
       "    </tr>\n",
       "    <tr>\n",
       "      <th>308</th>\n",
       "      <td>8042</td>\n",
       "      <td>0.000053</td>\n",
       "      <td>0.000828</td>\n",
       "      <td>0</td>\n",
       "      <td>15.531726</td>\n",
       "    </tr>\n",
       "  </tbody>\n",
       "</table>\n",
       "</div>"
      ],
      "text/plain": [
       "     index         a         b  missing_value        diff\n",
       "660   8044  0.000000  0.000138              1         inf\n",
       "494   3748  0.000006  0.003036              0  496.275620\n",
       "587   5893  0.000002  0.000276              0  157.905879\n",
       "553   5718  0.000003  0.000414              0  157.905879\n",
       "362   3541  0.000031  0.002760              0   90.231931\n",
       "469   5198  0.000009  0.000552              0   63.162352\n",
       "544   3185  0.000003  0.000138              0   39.476470\n",
       "268   3771  0.000090  0.002484              0   27.595202\n",
       "245   9222  0.000109  0.002208              0   20.211953\n",
       "308   8042  0.000053  0.000828              0   15.531726"
      ]
     },
     "execution_count": 48,
     "metadata": {},
     "output_type": "execute_result"
    }
   ],
   "source": [
    "impact_fraude('MCC').head(10)"
   ]
  },
  {
   "cell_type": "markdown",
   "metadata": {
    "colab_type": "text",
    "id": "r8PQWixQIH_A"
   },
   "source": [
    "c'est assez impressionnant, on voit que beaucoup de modalités se retrouvent beaucoup plus souvent chez les fraude que chez les non fraude ! Il y a meme une modalité que l'on ne retrouve que chez la fraude, la n°8044 (c'est une ligne unique). \n",
    "Les MCC 3748, 5893 et 5718 ont plus de 50% de fraude (il faudra peut etre les predire tous en fraude). Et les modalités suivantes sont aussi souvent en fraude. cette variable va nous etre tres utile.\n",
    "On va la simplifier en v2 par niveau de 'diff', avec moins de modalités. On passe de 660 à 9 modalités"
   ]
  },
  {
   "cell_type": "code",
   "execution_count": 49,
   "metadata": {
    "colab": {},
    "colab_type": "code",
    "id": "Es-nZJROIH_A"
   },
   "outputs": [],
   "source": [
    "tempo2 = impact_fraude('MCC').loc[:,['index','diff']]\n",
    "tempo2['MCC_v2'] = 1*(tempo2['diff']>0)+1*(tempo2['diff']>1)+1*(tempo2['diff']>2)+1*(tempo2['diff']>4)+1*(tempo2['diff']>8)+1*(tempo2['diff']>16)+1*(tempo2['diff']>32)+1*(tempo2['diff']>64)\n",
    "tempo2 = tempo2.loc[:,['index','MCC_v2']]\n",
    "tempo2.columns = ['MCC', 'MCC_v2']"
   ]
  },
  {
   "cell_type": "code",
   "execution_count": 50,
   "metadata": {
    "colab": {},
    "colab_type": "code",
    "id": "4IONhFGLIH_C"
   },
   "outputs": [],
   "source": [
    "# on merge ce tableau avec notre base \n",
    "df = pd.merge(df, tempo2, on='MCC', how='outer')"
   ]
  },
  {
   "cell_type": "markdown",
   "metadata": {
    "colab_type": "text",
    "id": "FABVCrVbIH_E"
   },
   "source": [
    "# h) Montant"
   ]
  },
  {
   "cell_type": "code",
   "execution_count": 51,
   "metadata": {
    "colab": {
     "base_uri": "https://localhost:8080/",
     "height": 34
    },
    "colab_type": "code",
    "executionInfo": {
     "elapsed": 137847,
     "status": "ok",
     "timestamp": 1591441394063,
     "user": {
      "displayName": "Camille GEORGET",
      "photoUrl": "",
      "userId": "03622189545362805141"
     },
     "user_tz": -180
    },
    "id": "AJsffmynIH_G",
    "outputId": "7b8dbb70-2601-4c21-bb36-54a2e1cdaa00"
   },
   "outputs": [
    {
     "data": {
      "text/plain": [
       "81202"
      ]
     },
     "execution_count": 51,
     "metadata": {},
     "output_type": "execute_result"
    }
   ],
   "source": [
    "df.Montant.nunique()"
   ]
  },
  {
   "cell_type": "code",
   "execution_count": 52,
   "metadata": {
    "colab": {
     "base_uri": "https://localhost:8080/",
     "height": 346
    },
    "colab_type": "code",
    "executionInfo": {
     "elapsed": 138733,
     "status": "ok",
     "timestamp": 1591441394978,
     "user": {
      "displayName": "Camille GEORGET",
      "photoUrl": "",
      "userId": "03622189545362805141"
     },
     "user_tz": -180
    },
    "id": "cFVYLKdSIH_H",
    "outputId": "afdfc8be-0ed5-4af5-cdc5-4d6b84afbc92",
    "scrolled": true
   },
   "outputs": [
    {
     "data": {
      "text/plain": [
       "array([<matplotlib.axes._subplots.AxesSubplot object at 0x0000023AC4AA0E48>,\n",
       "       <matplotlib.axes._subplots.AxesSubplot object at 0x0000023ACA3EEC18>],\n",
       "      dtype=object)"
      ]
     },
     "execution_count": 52,
     "metadata": {},
     "output_type": "execute_result"
    },
    {
     "data": {
      "image/png": "[encoded data removed]",
      "text/plain": [
       "<Figure size 432x288 with 2 Axes>"
      ]
     },
     "metadata": {
      "needs_background": "light"
     },
     "output_type": "display_data"
    }
   ],
   "source": [
    "df.loc[df.Montant<1000,'Montant'].hist(by=df['fraude'], bins=50)"
   ]
  },
  {
   "cell_type": "markdown",
   "metadata": {
    "colab_type": "text",
    "id": "iXnjCrHEIH_L"
   },
   "source": [
    "Les distributions semblent etre assez similaire pour les montant <1000, \n",
    "Ci dessous la distribution pour les valeurs de plus de 1000 et moins de 10k :\n",
    "On y voit tjrs la meme distribution a peu pres.. on verra si cette variable est interessante plus tard"
   ]
  },
  {
   "cell_type": "code",
   "execution_count": 53,
   "metadata": {
    "colab": {
     "base_uri": "https://localhost:8080/",
     "height": 352
    },
    "colab_type": "code",
    "executionInfo": {
     "elapsed": 139138,
     "status": "ok",
     "timestamp": 1591441395409,
     "user": {
      "displayName": "Camille GEORGET",
      "photoUrl": "",
      "userId": "03622189545362805141"
     },
     "user_tz": -180
    },
    "id": "jBX6XsNuIH_L",
    "outputId": "3d593d6f-4522-47e3-adc0-37a306bf133c",
    "scrolled": false
   },
   "outputs": [
    {
     "data": {
      "text/plain": [
       "array([<matplotlib.axes._subplots.AxesSubplot object at 0x0000023ACBA91128>,\n",
       "       <matplotlib.axes._subplots.AxesSubplot object at 0x0000023AC3B190B8>],\n",
       "      dtype=object)"
      ]
     },
     "execution_count": 53,
     "metadata": {},
     "output_type": "execute_result"
    },
    {
     "data": {
      "image/png": "[encoded data removed]",
      "text/plain": [
       "<Figure size 432x288 with 2 Axes>"
      ]
     },
     "metadata": {
      "needs_background": "light"
     },
     "output_type": "display_data"
    }
   ],
   "source": [
    "df.loc[(df.Montant>=1000)&(df.Montant<10000),'Montant'].hist(by=df['fraude'], bins=50)"
   ]
  },
  {
   "cell_type": "code",
   "execution_count": 54,
   "metadata": {
    "colab": {
     "base_uri": "https://localhost:8080/",
     "height": 51
    },
    "colab_type": "code",
    "executionInfo": {
     "elapsed": 139113,
     "status": "ok",
     "timestamp": 1591441395411,
     "user": {
      "displayName": "Camille GEORGET",
      "photoUrl": "",
      "userId": "03622189545362805141"
     },
     "user_tz": -180
    },
    "id": "Lfl35SPIIH_Q",
    "outputId": "adad5beb-8926-4445-cd19-b348b036b08c"
   },
   "outputs": [
    {
     "data": {
      "text/plain": [
       "504677    15000.0\n",
       "Name: Montant, dtype: float64"
      ]
     },
     "execution_count": 54,
     "metadata": {},
     "output_type": "execute_result"
    }
   ],
   "source": [
    "df.loc[(df.Montant>=10000)&(df.fraude==1),'Montant']"
   ]
  },
  {
   "cell_type": "markdown",
   "metadata": {
    "colab_type": "text",
    "id": "3bW9kkCpIH_V"
   },
   "source": [
    "Pour les montants au dessus de 10k ya une seule valeur qui est en fraude, elle est à 15000"
   ]
  },
  {
   "cell_type": "markdown",
   "metadata": {
    "colab_type": "text",
    "id": "ZSZ4LboeIH_W"
   },
   "source": [
    "# i) Nb de transactions acceptée sur les X dernieres heures"
   ]
  },
  {
   "cell_type": "code",
   "execution_count": 55,
   "metadata": {
    "colab": {
     "base_uri": "https://localhost:8080/",
     "height": 34
    },
    "colab_type": "code",
    "executionInfo": {
     "elapsed": 139087,
     "status": "ok",
     "timestamp": 1591441395412,
     "user": {
      "displayName": "Camille GEORGET",
      "photoUrl": "",
      "userId": "03622189545362805141"
     },
     "user_tz": -180
    },
    "id": "ETmTs4y5IH_W",
    "outputId": "180d3a34-4305-4d70-84ac-9a0e191fe9fe"
   },
   "outputs": [
    {
     "data": {
      "text/plain": [
       "47"
      ]
     },
     "execution_count": 55,
     "metadata": {},
     "output_type": "execute_result"
    }
   ],
   "source": [
    "df.FM_Velocity_Condition_3.nunique()"
   ]
  },
  {
   "cell_type": "code",
   "execution_count": 56,
   "metadata": {
    "colab": {
     "base_uri": "https://localhost:8080/",
     "height": 334
    },
    "colab_type": "code",
    "executionInfo": {
     "elapsed": 139811,
     "status": "ok",
     "timestamp": 1591441396164,
     "user": {
      "displayName": "Camille GEORGET",
      "photoUrl": "",
      "userId": "03622189545362805141"
     },
     "user_tz": -180
    },
    "id": "ssFHoYGpIH_Z",
    "outputId": "af929a7d-409e-488c-9539-0276ac856992"
   },
   "outputs": [
    {
     "data": {
      "text/plain": [
       "array([<matplotlib.axes._subplots.AxesSubplot object at 0x0000023ACB73D550>,\n",
       "       <matplotlib.axes._subplots.AxesSubplot object at 0x0000023AD44BB748>],\n",
       "      dtype=object)"
      ]
     },
     "execution_count": 56,
     "metadata": {},
     "output_type": "execute_result"
    },
    {
     "data": {
      "image/png": "[encoded data removed]",
      "text/plain": [
       "<Figure size 432x288 with 2 Axes>"
      ]
     },
     "metadata": {
      "needs_background": "light"
     },
     "output_type": "display_data"
    }
   ],
   "source": [
    "df['FM_Velocity_Condition_3'].hist(by=df['fraude'], bins=50)"
   ]
  },
  {
   "cell_type": "markdown",
   "metadata": {
    "colab_type": "text",
    "id": "oxiWfBSiIH_c"
   },
   "source": [
    "On voit assez facilement que sur le graph des fraudes, il y a plus de valeurs avec plus de transactions"
   ]
  },
  {
   "cell_type": "code",
   "execution_count": 57,
   "metadata": {
    "colab": {
     "base_uri": "https://localhost:8080/",
     "height": 359
    },
    "colab_type": "code",
    "executionInfo": {
     "elapsed": 139787,
     "status": "ok",
     "timestamp": 1591441396165,
     "user": {
      "displayName": "Camille GEORGET",
      "photoUrl": "",
      "userId": "03622189545362805141"
     },
     "user_tz": -180
    },
    "id": "5s_gI5_bIH_e",
    "outputId": "bd6db39c-8459-4877-8df4-9ffe7932bcc9",
    "scrolled": true
   },
   "outputs": [
    {
     "data": {
      "text/html": [
       "<div>\n",
       "<style scoped>\n",
       "    .dataframe tbody tr th:only-of-type {\n",
       "        vertical-align: middle;\n",
       "    }\n",
       "\n",
       "    .dataframe tbody tr th {\n",
       "        vertical-align: top;\n",
       "    }\n",
       "\n",
       "    .dataframe thead th {\n",
       "        text-align: right;\n",
       "    }\n",
       "</style>\n",
       "<table border=\"1\" class=\"dataframe\">\n",
       "  <thead>\n",
       "    <tr style=\"text-align: right;\">\n",
       "      <th></th>\n",
       "      <th>index</th>\n",
       "      <th>a</th>\n",
       "      <th>b</th>\n",
       "      <th>missing_value</th>\n",
       "      <th>diff</th>\n",
       "    </tr>\n",
       "  </thead>\n",
       "  <tbody>\n",
       "    <tr>\n",
       "      <th>23</th>\n",
       "      <td>20</td>\n",
       "      <td>0.000006</td>\n",
       "      <td>0.001104</td>\n",
       "      <td>0</td>\n",
       "      <td>180.463862</td>\n",
       "    </tr>\n",
       "    <tr>\n",
       "      <th>19</th>\n",
       "      <td>19</td>\n",
       "      <td>0.000010</td>\n",
       "      <td>0.001656</td>\n",
       "      <td>0</td>\n",
       "      <td>157.905879</td>\n",
       "    </tr>\n",
       "    <tr>\n",
       "      <th>22</th>\n",
       "      <td>21</td>\n",
       "      <td>0.000006</td>\n",
       "      <td>0.000828</td>\n",
       "      <td>0</td>\n",
       "      <td>135.347896</td>\n",
       "    </tr>\n",
       "    <tr>\n",
       "      <th>17</th>\n",
       "      <td>17</td>\n",
       "      <td>0.000017</td>\n",
       "      <td>0.001656</td>\n",
       "      <td>0</td>\n",
       "      <td>99.730029</td>\n",
       "    </tr>\n",
       "    <tr>\n",
       "      <th>15</th>\n",
       "      <td>15</td>\n",
       "      <td>0.000031</td>\n",
       "      <td>0.003036</td>\n",
       "      <td>0</td>\n",
       "      <td>99.255124</td>\n",
       "    </tr>\n",
       "    <tr>\n",
       "      <th>14</th>\n",
       "      <td>14</td>\n",
       "      <td>0.000038</td>\n",
       "      <td>0.003312</td>\n",
       "      <td>0</td>\n",
       "      <td>88.133514</td>\n",
       "    </tr>\n",
       "    <tr>\n",
       "      <th>29</th>\n",
       "      <td>24</td>\n",
       "      <td>0.000005</td>\n",
       "      <td>0.000414</td>\n",
       "      <td>0</td>\n",
       "      <td>78.952940</td>\n",
       "    </tr>\n",
       "    <tr>\n",
       "      <th>45</th>\n",
       "      <td>39</td>\n",
       "      <td>0.000002</td>\n",
       "      <td>0.000138</td>\n",
       "      <td>0</td>\n",
       "      <td>78.952940</td>\n",
       "    </tr>\n",
       "    <tr>\n",
       "      <th>39</th>\n",
       "      <td>34</td>\n",
       "      <td>0.000003</td>\n",
       "      <td>0.000276</td>\n",
       "      <td>0</td>\n",
       "      <td>78.952940</td>\n",
       "    </tr>\n",
       "    <tr>\n",
       "      <th>16</th>\n",
       "      <td>16</td>\n",
       "      <td>0.000024</td>\n",
       "      <td>0.001656</td>\n",
       "      <td>0</td>\n",
       "      <td>70.180391</td>\n",
       "    </tr>\n",
       "  </tbody>\n",
       "</table>\n",
       "</div>"
      ],
      "text/plain": [
       "    index         a         b  missing_value        diff\n",
       "23     20  0.000006  0.001104              0  180.463862\n",
       "19     19  0.000010  0.001656              0  157.905879\n",
       "22     21  0.000006  0.000828              0  135.347896\n",
       "17     17  0.000017  0.001656              0   99.730029\n",
       "15     15  0.000031  0.003036              0   99.255124\n",
       "14     14  0.000038  0.003312              0   88.133514\n",
       "29     24  0.000005  0.000414              0   78.952940\n",
       "45     39  0.000002  0.000138              0   78.952940\n",
       "39     34  0.000003  0.000276              0   78.952940\n",
       "16     16  0.000024  0.001656              0   70.180391"
      ]
     },
     "execution_count": 57,
     "metadata": {},
     "output_type": "execute_result"
    }
   ],
   "source": [
    "impact_fraude('FM_Velocity_Condition_3').head(10)"
   ]
  },
  {
   "cell_type": "markdown",
   "metadata": {
    "colab_type": "text",
    "id": "9WeBUonSIH_h"
   },
   "source": [
    "En effet, il faudra faire attention aux lignes avec un grand nombre de transactions. Cela devrait etre identique pour 6, 12 et 24h. On va tout de meme verifier"
   ]
  },
  {
   "cell_type": "code",
   "execution_count": 58,
   "metadata": {
    "colab": {
     "base_uri": "https://localhost:8080/",
     "height": 470
    },
    "colab_type": "code",
    "executionInfo": {
     "elapsed": 140597,
     "status": "ok",
     "timestamp": 1591441397000,
     "user": {
      "displayName": "Camille GEORGET",
      "photoUrl": "",
      "userId": "03622189545362805141"
     },
     "user_tz": -180
    },
    "id": "Ci1Gr2DJIH_i",
    "outputId": "bc438cb0-872d-47ac-91af-39653a26fc10"
   },
   "outputs": [
    {
     "data": {
      "text/html": [
       "<div>\n",
       "<style scoped>\n",
       "    .dataframe tbody tr th:only-of-type {\n",
       "        vertical-align: middle;\n",
       "    }\n",
       "\n",
       "    .dataframe tbody tr th {\n",
       "        vertical-align: top;\n",
       "    }\n",
       "\n",
       "    .dataframe thead th {\n",
       "        text-align: right;\n",
       "    }\n",
       "</style>\n",
       "<table border=\"1\" class=\"dataframe\">\n",
       "  <thead>\n",
       "    <tr style=\"text-align: right;\">\n",
       "      <th></th>\n",
       "      <th>index</th>\n",
       "      <th>a</th>\n",
       "      <th>b</th>\n",
       "      <th>missing_value</th>\n",
       "      <th>diff</th>\n",
       "    </tr>\n",
       "  </thead>\n",
       "  <tbody>\n",
       "    <tr>\n",
       "      <th>81</th>\n",
       "      <td>53</td>\n",
       "      <td>0.000000</td>\n",
       "      <td>0.000138</td>\n",
       "      <td>1</td>\n",
       "      <td>inf</td>\n",
       "    </tr>\n",
       "    <tr>\n",
       "      <th>43</th>\n",
       "      <td>35</td>\n",
       "      <td>0.000002</td>\n",
       "      <td>0.000414</td>\n",
       "      <td>0</td>\n",
       "      <td>236.858819</td>\n",
       "    </tr>\n",
       "    <tr>\n",
       "      <th>26</th>\n",
       "      <td>26</td>\n",
       "      <td>0.000009</td>\n",
       "      <td>0.001794</td>\n",
       "      <td>0</td>\n",
       "      <td>205.277643</td>\n",
       "    </tr>\n",
       "    <tr>\n",
       "      <th>42</th>\n",
       "      <td>34</td>\n",
       "      <td>0.000003</td>\n",
       "      <td>0.000414</td>\n",
       "      <td>0</td>\n",
       "      <td>157.905879</td>\n",
       "    </tr>\n",
       "    <tr>\n",
       "      <th>45</th>\n",
       "      <td>36</td>\n",
       "      <td>0.000002</td>\n",
       "      <td>0.000276</td>\n",
       "      <td>0</td>\n",
       "      <td>157.905879</td>\n",
       "    </tr>\n",
       "  </tbody>\n",
       "</table>\n",
       "</div>"
      ],
      "text/plain": [
       "    index         a         b  missing_value        diff\n",
       "81     53  0.000000  0.000138              1         inf\n",
       "43     35  0.000002  0.000414              0  236.858819\n",
       "26     26  0.000009  0.001794              0  205.277643\n",
       "42     34  0.000003  0.000414              0  157.905879\n",
       "45     36  0.000002  0.000276              0  157.905879"
      ]
     },
     "execution_count": 58,
     "metadata": {},
     "output_type": "execute_result"
    },
    {
     "data": {
      "image/png": "[encoded data removed]",
      "text/plain": [
       "<Figure size 432x288 with 2 Axes>"
      ]
     },
     "metadata": {
      "needs_background": "light"
     },
     "output_type": "display_data"
    }
   ],
   "source": [
    "df['FM_Velocity_Condition_6'].hist(by=df['fraude'], bins=50)\n",
    "impact_fraude('FM_Velocity_Condition_6').head() # meme constat que pour 6 heures"
   ]
  },
  {
   "cell_type": "code",
   "execution_count": 59,
   "metadata": {
    "colab": {
     "base_uri": "https://localhost:8080/",
     "height": 1000
    },
    "colab_type": "code",
    "executionInfo": {
     "elapsed": 141326,
     "status": "ok",
     "timestamp": 1591441397758,
     "user": {
      "displayName": "Camille GEORGET",
      "photoUrl": "",
      "userId": "03622189545362805141"
     },
     "user_tz": -180
    },
    "id": "t8C869UvIH_k",
    "outputId": "6de7acac-dfd4-47a3-a158-52cac05f7c7a",
    "scrolled": true
   },
   "outputs": [
    {
     "data": {
      "text/html": [
       "<div>\n",
       "<style scoped>\n",
       "    .dataframe tbody tr th:only-of-type {\n",
       "        vertical-align: middle;\n",
       "    }\n",
       "\n",
       "    .dataframe tbody tr th {\n",
       "        vertical-align: top;\n",
       "    }\n",
       "\n",
       "    .dataframe thead th {\n",
       "        text-align: right;\n",
       "    }\n",
       "</style>\n",
       "<table border=\"1\" class=\"dataframe\">\n",
       "  <thead>\n",
       "    <tr style=\"text-align: right;\">\n",
       "      <th></th>\n",
       "      <th>index</th>\n",
       "      <th>a</th>\n",
       "      <th>b</th>\n",
       "      <th>missing_value</th>\n",
       "      <th>diff</th>\n",
       "    </tr>\n",
       "  </thead>\n",
       "  <tbody>\n",
       "    <tr>\n",
       "      <th>1</th>\n",
       "      <td>2</td>\n",
       "      <td>1.688344e-01</td>\n",
       "      <td>0.164781</td>\n",
       "      <td>0</td>\n",
       "      <td>0.975989</td>\n",
       "    </tr>\n",
       "    <tr>\n",
       "      <th>0</th>\n",
       "      <td>1</td>\n",
       "      <td>6.967871e-01</td>\n",
       "      <td>0.327767</td>\n",
       "      <td>0</td>\n",
       "      <td>0.470398</td>\n",
       "    </tr>\n",
       "    <tr>\n",
       "      <th>53</th>\n",
       "      <td>52</td>\n",
       "      <td>1.747968e-06</td>\n",
       "      <td>0.000000</td>\n",
       "      <td>1</td>\n",
       "      <td>0.000000</td>\n",
       "    </tr>\n",
       "    <tr>\n",
       "      <th>96</th>\n",
       "      <td>67</td>\n",
       "      <td>8.739838e-07</td>\n",
       "      <td>0.000000</td>\n",
       "      <td>1</td>\n",
       "      <td>0.000000</td>\n",
       "    </tr>\n",
       "    <tr>\n",
       "      <th>84</th>\n",
       "      <td>83</td>\n",
       "      <td>8.739838e-07</td>\n",
       "      <td>0.000000</td>\n",
       "      <td>1</td>\n",
       "      <td>0.000000</td>\n",
       "    </tr>\n",
       "    <tr>\n",
       "      <th>85</th>\n",
       "      <td>81</td>\n",
       "      <td>8.739838e-07</td>\n",
       "      <td>0.000000</td>\n",
       "      <td>1</td>\n",
       "      <td>0.000000</td>\n",
       "    </tr>\n",
       "    <tr>\n",
       "      <th>86</th>\n",
       "      <td>56</td>\n",
       "      <td>8.739838e-07</td>\n",
       "      <td>0.000000</td>\n",
       "      <td>1</td>\n",
       "      <td>0.000000</td>\n",
       "    </tr>\n",
       "    <tr>\n",
       "      <th>87</th>\n",
       "      <td>57</td>\n",
       "      <td>8.739838e-07</td>\n",
       "      <td>0.000000</td>\n",
       "      <td>1</td>\n",
       "      <td>0.000000</td>\n",
       "    </tr>\n",
       "    <tr>\n",
       "      <th>88</th>\n",
       "      <td>58</td>\n",
       "      <td>8.739838e-07</td>\n",
       "      <td>0.000000</td>\n",
       "      <td>1</td>\n",
       "      <td>0.000000</td>\n",
       "    </tr>\n",
       "    <tr>\n",
       "      <th>89</th>\n",
       "      <td>59</td>\n",
       "      <td>8.739838e-07</td>\n",
       "      <td>0.000000</td>\n",
       "      <td>1</td>\n",
       "      <td>0.000000</td>\n",
       "    </tr>\n",
       "    <tr>\n",
       "      <th>90</th>\n",
       "      <td>60</td>\n",
       "      <td>8.739838e-07</td>\n",
       "      <td>0.000000</td>\n",
       "      <td>1</td>\n",
       "      <td>0.000000</td>\n",
       "    </tr>\n",
       "    <tr>\n",
       "      <th>91</th>\n",
       "      <td>62</td>\n",
       "      <td>8.739838e-07</td>\n",
       "      <td>0.000000</td>\n",
       "      <td>1</td>\n",
       "      <td>0.000000</td>\n",
       "    </tr>\n",
       "    <tr>\n",
       "      <th>92</th>\n",
       "      <td>63</td>\n",
       "      <td>8.739838e-07</td>\n",
       "      <td>0.000000</td>\n",
       "      <td>1</td>\n",
       "      <td>0.000000</td>\n",
       "    </tr>\n",
       "    <tr>\n",
       "      <th>93</th>\n",
       "      <td>64</td>\n",
       "      <td>8.739838e-07</td>\n",
       "      <td>0.000000</td>\n",
       "      <td>1</td>\n",
       "      <td>0.000000</td>\n",
       "    </tr>\n",
       "    <tr>\n",
       "      <th>94</th>\n",
       "      <td>65</td>\n",
       "      <td>8.739838e-07</td>\n",
       "      <td>0.000000</td>\n",
       "      <td>1</td>\n",
       "      <td>0.000000</td>\n",
       "    </tr>\n",
       "    <tr>\n",
       "      <th>95</th>\n",
       "      <td>66</td>\n",
       "      <td>8.739838e-07</td>\n",
       "      <td>0.000000</td>\n",
       "      <td>1</td>\n",
       "      <td>0.000000</td>\n",
       "    </tr>\n",
       "    <tr>\n",
       "      <th>97</th>\n",
       "      <td>68</td>\n",
       "      <td>8.739838e-07</td>\n",
       "      <td>0.000000</td>\n",
       "      <td>1</td>\n",
       "      <td>0.000000</td>\n",
       "    </tr>\n",
       "    <tr>\n",
       "      <th>52</th>\n",
       "      <td>51</td>\n",
       "      <td>1.747968e-06</td>\n",
       "      <td>0.000000</td>\n",
       "      <td>1</td>\n",
       "      <td>0.000000</td>\n",
       "    </tr>\n",
       "    <tr>\n",
       "      <th>98</th>\n",
       "      <td>69</td>\n",
       "      <td>8.739838e-07</td>\n",
       "      <td>0.000000</td>\n",
       "      <td>1</td>\n",
       "      <td>0.000000</td>\n",
       "    </tr>\n",
       "    <tr>\n",
       "      <th>99</th>\n",
       "      <td>70</td>\n",
       "      <td>8.739838e-07</td>\n",
       "      <td>0.000000</td>\n",
       "      <td>1</td>\n",
       "      <td>0.000000</td>\n",
       "    </tr>\n",
       "    <tr>\n",
       "      <th>100</th>\n",
       "      <td>71</td>\n",
       "      <td>8.739838e-07</td>\n",
       "      <td>0.000000</td>\n",
       "      <td>1</td>\n",
       "      <td>0.000000</td>\n",
       "    </tr>\n",
       "    <tr>\n",
       "      <th>101</th>\n",
       "      <td>72</td>\n",
       "      <td>8.739838e-07</td>\n",
       "      <td>0.000000</td>\n",
       "      <td>1</td>\n",
       "      <td>0.000000</td>\n",
       "    </tr>\n",
       "    <tr>\n",
       "      <th>102</th>\n",
       "      <td>74</td>\n",
       "      <td>8.739838e-07</td>\n",
       "      <td>0.000000</td>\n",
       "      <td>1</td>\n",
       "      <td>0.000000</td>\n",
       "    </tr>\n",
       "    <tr>\n",
       "      <th>103</th>\n",
       "      <td>75</td>\n",
       "      <td>8.739838e-07</td>\n",
       "      <td>0.000000</td>\n",
       "      <td>1</td>\n",
       "      <td>0.000000</td>\n",
       "    </tr>\n",
       "    <tr>\n",
       "      <th>104</th>\n",
       "      <td>76</td>\n",
       "      <td>8.739838e-07</td>\n",
       "      <td>0.000000</td>\n",
       "      <td>1</td>\n",
       "      <td>0.000000</td>\n",
       "    </tr>\n",
       "    <tr>\n",
       "      <th>105</th>\n",
       "      <td>77</td>\n",
       "      <td>8.739838e-07</td>\n",
       "      <td>0.000000</td>\n",
       "      <td>1</td>\n",
       "      <td>0.000000</td>\n",
       "    </tr>\n",
       "    <tr>\n",
       "      <th>106</th>\n",
       "      <td>80</td>\n",
       "      <td>8.739838e-07</td>\n",
       "      <td>0.000000</td>\n",
       "      <td>1</td>\n",
       "      <td>0.000000</td>\n",
       "    </tr>\n",
       "    <tr>\n",
       "      <th>107</th>\n",
       "      <td>110</td>\n",
       "      <td>8.739838e-07</td>\n",
       "      <td>0.000000</td>\n",
       "      <td>1</td>\n",
       "      <td>0.000000</td>\n",
       "    </tr>\n",
       "    <tr>\n",
       "      <th>42</th>\n",
       "      <td>54</td>\n",
       "      <td>3.495935e-06</td>\n",
       "      <td>0.000000</td>\n",
       "      <td>1</td>\n",
       "      <td>0.000000</td>\n",
       "    </tr>\n",
       "    <tr>\n",
       "      <th>40</th>\n",
       "      <td>49</td>\n",
       "      <td>3.495935e-06</td>\n",
       "      <td>0.000000</td>\n",
       "      <td>1</td>\n",
       "      <td>0.000000</td>\n",
       "    </tr>\n",
       "    <tr>\n",
       "      <th>83</th>\n",
       "      <td>82</td>\n",
       "      <td>8.739838e-07</td>\n",
       "      <td>0.000000</td>\n",
       "      <td>1</td>\n",
       "      <td>0.000000</td>\n",
       "    </tr>\n",
       "    <tr>\n",
       "      <th>82</th>\n",
       "      <td>85</td>\n",
       "      <td>8.739838e-07</td>\n",
       "      <td>0.000000</td>\n",
       "      <td>1</td>\n",
       "      <td>0.000000</td>\n",
       "    </tr>\n",
       "    <tr>\n",
       "      <th>81</th>\n",
       "      <td>107</td>\n",
       "      <td>8.739838e-07</td>\n",
       "      <td>0.000000</td>\n",
       "      <td>1</td>\n",
       "      <td>0.000000</td>\n",
       "    </tr>\n",
       "    <tr>\n",
       "      <th>80</th>\n",
       "      <td>106</td>\n",
       "      <td>8.739838e-07</td>\n",
       "      <td>0.000000</td>\n",
       "      <td>1</td>\n",
       "      <td>0.000000</td>\n",
       "    </tr>\n",
       "    <tr>\n",
       "      <th>51</th>\n",
       "      <td>50</td>\n",
       "      <td>1.747968e-06</td>\n",
       "      <td>0.000000</td>\n",
       "      <td>1</td>\n",
       "      <td>0.000000</td>\n",
       "    </tr>\n",
       "    <tr>\n",
       "      <th>56</th>\n",
       "      <td>79</td>\n",
       "      <td>1.747968e-06</td>\n",
       "      <td>0.000000</td>\n",
       "      <td>1</td>\n",
       "      <td>0.000000</td>\n",
       "    </tr>\n",
       "    <tr>\n",
       "      <th>57</th>\n",
       "      <td>61</td>\n",
       "      <td>1.747968e-06</td>\n",
       "      <td>0.000000</td>\n",
       "      <td>1</td>\n",
       "      <td>0.000000</td>\n",
       "    </tr>\n",
       "    <tr>\n",
       "      <th>58</th>\n",
       "      <td>109</td>\n",
       "      <td>8.739838e-07</td>\n",
       "      <td>0.000000</td>\n",
       "      <td>1</td>\n",
       "      <td>0.000000</td>\n",
       "    </tr>\n",
       "    <tr>\n",
       "      <th>59</th>\n",
       "      <td>95</td>\n",
       "      <td>8.739838e-07</td>\n",
       "      <td>0.000000</td>\n",
       "      <td>1</td>\n",
       "      <td>0.000000</td>\n",
       "    </tr>\n",
       "    <tr>\n",
       "      <th>60</th>\n",
       "      <td>86</td>\n",
       "      <td>8.739838e-07</td>\n",
       "      <td>0.000000</td>\n",
       "      <td>1</td>\n",
       "      <td>0.000000</td>\n",
       "    </tr>\n",
       "    <tr>\n",
       "      <th>61</th>\n",
       "      <td>87</td>\n",
       "      <td>8.739838e-07</td>\n",
       "      <td>0.000000</td>\n",
       "      <td>1</td>\n",
       "      <td>0.000000</td>\n",
       "    </tr>\n",
       "    <tr>\n",
       "      <th>62</th>\n",
       "      <td>88</td>\n",
       "      <td>8.739838e-07</td>\n",
       "      <td>0.000000</td>\n",
       "      <td>1</td>\n",
       "      <td>0.000000</td>\n",
       "    </tr>\n",
       "    <tr>\n",
       "      <th>63</th>\n",
       "      <td>89</td>\n",
       "      <td>8.739838e-07</td>\n",
       "      <td>0.000000</td>\n",
       "      <td>1</td>\n",
       "      <td>0.000000</td>\n",
       "    </tr>\n",
       "    <tr>\n",
       "      <th>64</th>\n",
       "      <td>90</td>\n",
       "      <td>8.739838e-07</td>\n",
       "      <td>0.000000</td>\n",
       "      <td>1</td>\n",
       "      <td>0.000000</td>\n",
       "    </tr>\n",
       "    <tr>\n",
       "      <th>65</th>\n",
       "      <td>91</td>\n",
       "      <td>8.739838e-07</td>\n",
       "      <td>0.000000</td>\n",
       "      <td>1</td>\n",
       "      <td>0.000000</td>\n",
       "    </tr>\n",
       "    <tr>\n",
       "      <th>66</th>\n",
       "      <td>92</td>\n",
       "      <td>8.739838e-07</td>\n",
       "      <td>0.000000</td>\n",
       "      <td>1</td>\n",
       "      <td>0.000000</td>\n",
       "    </tr>\n",
       "    <tr>\n",
       "      <th>67</th>\n",
       "      <td>93</td>\n",
       "      <td>8.739838e-07</td>\n",
       "      <td>0.000000</td>\n",
       "      <td>1</td>\n",
       "      <td>0.000000</td>\n",
       "    </tr>\n",
       "    <tr>\n",
       "      <th>68</th>\n",
       "      <td>94</td>\n",
       "      <td>8.739838e-07</td>\n",
       "      <td>0.000000</td>\n",
       "      <td>1</td>\n",
       "      <td>0.000000</td>\n",
       "    </tr>\n",
       "    <tr>\n",
       "      <th>69</th>\n",
       "      <td>96</td>\n",
       "      <td>8.739838e-07</td>\n",
       "      <td>0.000000</td>\n",
       "      <td>1</td>\n",
       "      <td>0.000000</td>\n",
       "    </tr>\n",
       "    <tr>\n",
       "      <th>70</th>\n",
       "      <td>84</td>\n",
       "      <td>8.739838e-07</td>\n",
       "      <td>0.000000</td>\n",
       "      <td>1</td>\n",
       "      <td>0.000000</td>\n",
       "    </tr>\n",
       "    <tr>\n",
       "      <th>71</th>\n",
       "      <td>97</td>\n",
       "      <td>8.739838e-07</td>\n",
       "      <td>0.000000</td>\n",
       "      <td>1</td>\n",
       "      <td>0.000000</td>\n",
       "    </tr>\n",
       "    <tr>\n",
       "      <th>72</th>\n",
       "      <td>98</td>\n",
       "      <td>8.739838e-07</td>\n",
       "      <td>0.000000</td>\n",
       "      <td>1</td>\n",
       "      <td>0.000000</td>\n",
       "    </tr>\n",
       "    <tr>\n",
       "      <th>73</th>\n",
       "      <td>99</td>\n",
       "      <td>8.739838e-07</td>\n",
       "      <td>0.000000</td>\n",
       "      <td>1</td>\n",
       "      <td>0.000000</td>\n",
       "    </tr>\n",
       "    <tr>\n",
       "      <th>74</th>\n",
       "      <td>100</td>\n",
       "      <td>8.739838e-07</td>\n",
       "      <td>0.000000</td>\n",
       "      <td>1</td>\n",
       "      <td>0.000000</td>\n",
       "    </tr>\n",
       "    <tr>\n",
       "      <th>75</th>\n",
       "      <td>101</td>\n",
       "      <td>8.739838e-07</td>\n",
       "      <td>0.000000</td>\n",
       "      <td>1</td>\n",
       "      <td>0.000000</td>\n",
       "    </tr>\n",
       "    <tr>\n",
       "      <th>76</th>\n",
       "      <td>102</td>\n",
       "      <td>8.739838e-07</td>\n",
       "      <td>0.000000</td>\n",
       "      <td>1</td>\n",
       "      <td>0.000000</td>\n",
       "    </tr>\n",
       "    <tr>\n",
       "      <th>77</th>\n",
       "      <td>103</td>\n",
       "      <td>8.739838e-07</td>\n",
       "      <td>0.000000</td>\n",
       "      <td>1</td>\n",
       "      <td>0.000000</td>\n",
       "    </tr>\n",
       "    <tr>\n",
       "      <th>78</th>\n",
       "      <td>104</td>\n",
       "      <td>8.739838e-07</td>\n",
       "      <td>0.000000</td>\n",
       "      <td>1</td>\n",
       "      <td>0.000000</td>\n",
       "    </tr>\n",
       "    <tr>\n",
       "      <th>79</th>\n",
       "      <td>105</td>\n",
       "      <td>8.739838e-07</td>\n",
       "      <td>0.000000</td>\n",
       "      <td>1</td>\n",
       "      <td>0.000000</td>\n",
       "    </tr>\n",
       "    <tr>\n",
       "      <th>55</th>\n",
       "      <td>55</td>\n",
       "      <td>1.747968e-06</td>\n",
       "      <td>0.000000</td>\n",
       "      <td>1</td>\n",
       "      <td>0.000000</td>\n",
       "    </tr>\n",
       "  </tbody>\n",
       "</table>\n",
       "</div>"
      ],
      "text/plain": [
       "     index             a         b  missing_value      diff\n",
       "1        2  1.688344e-01  0.164781              0  0.975989\n",
       "0        1  6.967871e-01  0.327767              0  0.470398\n",
       "53      52  1.747968e-06  0.000000              1  0.000000\n",
       "96      67  8.739838e-07  0.000000              1  0.000000\n",
       "84      83  8.739838e-07  0.000000              1  0.000000\n",
       "85      81  8.739838e-07  0.000000              1  0.000000\n",
       "86      56  8.739838e-07  0.000000              1  0.000000\n",
       "87      57  8.739838e-07  0.000000              1  0.000000\n",
       "88      58  8.739838e-07  0.000000              1  0.000000\n",
       "89      59  8.739838e-07  0.000000              1  0.000000\n",
       "90      60  8.739838e-07  0.000000              1  0.000000\n",
       "91      62  8.739838e-07  0.000000              1  0.000000\n",
       "92      63  8.739838e-07  0.000000              1  0.000000\n",
       "93      64  8.739838e-07  0.000000              1  0.000000\n",
       "94      65  8.739838e-07  0.000000              1  0.000000\n",
       "95      66  8.739838e-07  0.000000              1  0.000000\n",
       "97      68  8.739838e-07  0.000000              1  0.000000\n",
       "52      51  1.747968e-06  0.000000              1  0.000000\n",
       "98      69  8.739838e-07  0.000000              1  0.000000\n",
       "99      70  8.739838e-07  0.000000              1  0.000000\n",
       "100     71  8.739838e-07  0.000000              1  0.000000\n",
       "101     72  8.739838e-07  0.000000              1  0.000000\n",
       "102     74  8.739838e-07  0.000000              1  0.000000\n",
       "103     75  8.739838e-07  0.000000              1  0.000000\n",
       "104     76  8.739838e-07  0.000000              1  0.000000\n",
       "105     77  8.739838e-07  0.000000              1  0.000000\n",
       "106     80  8.739838e-07  0.000000              1  0.000000\n",
       "107    110  8.739838e-07  0.000000              1  0.000000\n",
       "42      54  3.495935e-06  0.000000              1  0.000000\n",
       "40      49  3.495935e-06  0.000000              1  0.000000\n",
       "83      82  8.739838e-07  0.000000              1  0.000000\n",
       "82      85  8.739838e-07  0.000000              1  0.000000\n",
       "81     107  8.739838e-07  0.000000              1  0.000000\n",
       "80     106  8.739838e-07  0.000000              1  0.000000\n",
       "51      50  1.747968e-06  0.000000              1  0.000000\n",
       "56      79  1.747968e-06  0.000000              1  0.000000\n",
       "57      61  1.747968e-06  0.000000              1  0.000000\n",
       "58     109  8.739838e-07  0.000000              1  0.000000\n",
       "59      95  8.739838e-07  0.000000              1  0.000000\n",
       "60      86  8.739838e-07  0.000000              1  0.000000\n",
       "61      87  8.739838e-07  0.000000              1  0.000000\n",
       "62      88  8.739838e-07  0.000000              1  0.000000\n",
       "63      89  8.739838e-07  0.000000              1  0.000000\n",
       "64      90  8.739838e-07  0.000000              1  0.000000\n",
       "65      91  8.739838e-07  0.000000              1  0.000000\n",
       "66      92  8.739838e-07  0.000000              1  0.000000\n",
       "67      93  8.739838e-07  0.000000              1  0.000000\n",
       "68      94  8.739838e-07  0.000000              1  0.000000\n",
       "69      96  8.739838e-07  0.000000              1  0.000000\n",
       "70      84  8.739838e-07  0.000000              1  0.000000\n",
       "71      97  8.739838e-07  0.000000              1  0.000000\n",
       "72      98  8.739838e-07  0.000000              1  0.000000\n",
       "73      99  8.739838e-07  0.000000              1  0.000000\n",
       "74     100  8.739838e-07  0.000000              1  0.000000\n",
       "75     101  8.739838e-07  0.000000              1  0.000000\n",
       "76     102  8.739838e-07  0.000000              1  0.000000\n",
       "77     103  8.739838e-07  0.000000              1  0.000000\n",
       "78     104  8.739838e-07  0.000000              1  0.000000\n",
       "79     105  8.739838e-07  0.000000              1  0.000000\n",
       "55      55  1.747968e-06  0.000000              1  0.000000"
      ]
     },
     "execution_count": 59,
     "metadata": {},
     "output_type": "execute_result"
    },
    {
     "data": {
      "image/png": "[encoded data removed]",
      "text/plain": [
       "<Figure size 432x288 with 2 Axes>"
      ]
     },
     "metadata": {
      "needs_background": "light"
     },
     "output_type": "display_data"
    }
   ],
   "source": [
    "df['FM_Velocity_Condition_12'].hist(by=df['fraude'], bins=50)\n",
    "impact_fraude('FM_Velocity_Condition_12').tail(60) # meme constat pour 12h"
   ]
  },
  {
   "cell_type": "code",
   "execution_count": 60,
   "metadata": {
    "colab": {
     "base_uri": "https://localhost:8080/",
     "height": 941
    },
    "colab_type": "code",
    "executionInfo": {
     "elapsed": 142099,
     "status": "ok",
     "timestamp": 1591441398552,
     "user": {
      "displayName": "Camille GEORGET",
      "photoUrl": "",
      "userId": "03622189545362805141"
     },
     "user_tz": -180
    },
    "id": "_pWbDgxDIH_m",
    "outputId": "ae2fea4e-cf26-4342-8d30-2c4dd27c72a9",
    "scrolled": true
   },
   "outputs": [
    {
     "data": {
      "text/html": [
       "<div>\n",
       "<style scoped>\n",
       "    .dataframe tbody tr th:only-of-type {\n",
       "        vertical-align: middle;\n",
       "    }\n",
       "\n",
       "    .dataframe tbody tr th {\n",
       "        vertical-align: top;\n",
       "    }\n",
       "\n",
       "    .dataframe thead th {\n",
       "        text-align: right;\n",
       "    }\n",
       "</style>\n",
       "<table border=\"1\" class=\"dataframe\">\n",
       "  <thead>\n",
       "    <tr style=\"text-align: right;\">\n",
       "      <th></th>\n",
       "      <th>index</th>\n",
       "      <th>a</th>\n",
       "      <th>b</th>\n",
       "      <th>missing_value</th>\n",
       "      <th>diff</th>\n",
       "    </tr>\n",
       "  </thead>\n",
       "  <tbody>\n",
       "    <tr>\n",
       "      <th>129</th>\n",
       "      <td>73</td>\n",
       "      <td>0.000000e+00</td>\n",
       "      <td>0.000138</td>\n",
       "      <td>1</td>\n",
       "      <td>inf</td>\n",
       "    </tr>\n",
       "    <tr>\n",
       "      <th>125</th>\n",
       "      <td>108</td>\n",
       "      <td>0.000000e+00</td>\n",
       "      <td>0.000138</td>\n",
       "      <td>1</td>\n",
       "      <td>inf</td>\n",
       "    </tr>\n",
       "    <tr>\n",
       "      <th>126</th>\n",
       "      <td>123</td>\n",
       "      <td>0.000000e+00</td>\n",
       "      <td>0.000138</td>\n",
       "      <td>1</td>\n",
       "      <td>inf</td>\n",
       "    </tr>\n",
       "    <tr>\n",
       "      <th>127</th>\n",
       "      <td>78</td>\n",
       "      <td>0.000000e+00</td>\n",
       "      <td>0.000138</td>\n",
       "      <td>1</td>\n",
       "      <td>inf</td>\n",
       "    </tr>\n",
       "    <tr>\n",
       "      <th>128</th>\n",
       "      <td>118</td>\n",
       "      <td>0.000000e+00</td>\n",
       "      <td>0.000138</td>\n",
       "      <td>1</td>\n",
       "      <td>inf</td>\n",
       "    </tr>\n",
       "    <tr>\n",
       "      <th>92</th>\n",
       "      <td>127</td>\n",
       "      <td>8.739838e-07</td>\n",
       "      <td>0.000138</td>\n",
       "      <td>0</td>\n",
       "      <td>157.905879</td>\n",
       "    </tr>\n",
       "    <tr>\n",
       "      <th>59</th>\n",
       "      <td>53</td>\n",
       "      <td>1.747968e-06</td>\n",
       "      <td>0.000138</td>\n",
       "      <td>0</td>\n",
       "      <td>78.952940</td>\n",
       "    </tr>\n",
       "    <tr>\n",
       "      <th>49</th>\n",
       "      <td>42</td>\n",
       "      <td>9.613822e-06</td>\n",
       "      <td>0.000552</td>\n",
       "      <td>0</td>\n",
       "      <td>57.420320</td>\n",
       "    </tr>\n",
       "    <tr>\n",
       "      <th>32</th>\n",
       "      <td>26</td>\n",
       "      <td>4.020325e-05</td>\n",
       "      <td>0.001932</td>\n",
       "      <td>0</td>\n",
       "      <td>48.058311</td>\n",
       "    </tr>\n",
       "    <tr>\n",
       "      <th>41</th>\n",
       "      <td>34</td>\n",
       "      <td>2.184959e-05</td>\n",
       "      <td>0.000966</td>\n",
       "      <td>0</td>\n",
       "      <td>44.213646</td>\n",
       "    </tr>\n",
       "    <tr>\n",
       "      <th>47</th>\n",
       "      <td>39</td>\n",
       "      <td>1.310976e-05</td>\n",
       "      <td>0.000552</td>\n",
       "      <td>0</td>\n",
       "      <td>42.108234</td>\n",
       "    </tr>\n",
       "    <tr>\n",
       "      <th>21</th>\n",
       "      <td>18</td>\n",
       "      <td>1.197358e-04</td>\n",
       "      <td>0.004554</td>\n",
       "      <td>0</td>\n",
       "      <td>38.035723</td>\n",
       "    </tr>\n",
       "    <tr>\n",
       "      <th>28</th>\n",
       "      <td>25</td>\n",
       "      <td>5.506098e-05</td>\n",
       "      <td>0.002070</td>\n",
       "      <td>0</td>\n",
       "      <td>37.596638</td>\n",
       "    </tr>\n",
       "    <tr>\n",
       "      <th>29</th>\n",
       "      <td>24</td>\n",
       "      <td>5.331301e-05</td>\n",
       "      <td>0.001932</td>\n",
       "      <td>0</td>\n",
       "      <td>36.240694</td>\n",
       "    </tr>\n",
       "    <tr>\n",
       "      <th>37</th>\n",
       "      <td>44</td>\n",
       "      <td>2.796748e-05</td>\n",
       "      <td>0.000966</td>\n",
       "      <td>0</td>\n",
       "      <td>34.541911</td>\n",
       "    </tr>\n",
       "    <tr>\n",
       "      <th>25</th>\n",
       "      <td>23</td>\n",
       "      <td>6.729675e-05</td>\n",
       "      <td>0.002208</td>\n",
       "      <td>0</td>\n",
       "      <td>32.811611</td>\n",
       "    </tr>\n",
       "    <tr>\n",
       "      <th>15</th>\n",
       "      <td>15</td>\n",
       "      <td>2.193699e-04</td>\n",
       "      <td>0.007176</td>\n",
       "      <td>0</td>\n",
       "      <td>32.713569</td>\n",
       "    </tr>\n",
       "    <tr>\n",
       "      <th>19</th>\n",
       "      <td>17</td>\n",
       "      <td>1.555691e-04</td>\n",
       "      <td>0.004968</td>\n",
       "      <td>0</td>\n",
       "      <td>31.936020</td>\n",
       "    </tr>\n",
       "    <tr>\n",
       "      <th>46</th>\n",
       "      <td>40</td>\n",
       "      <td>1.310976e-05</td>\n",
       "      <td>0.000414</td>\n",
       "      <td>0</td>\n",
       "      <td>31.581176</td>\n",
       "    </tr>\n",
       "    <tr>\n",
       "      <th>44</th>\n",
       "      <td>38</td>\n",
       "      <td>1.747968e-05</td>\n",
       "      <td>0.000552</td>\n",
       "      <td>0</td>\n",
       "      <td>31.581176</td>\n",
       "    </tr>\n",
       "  </tbody>\n",
       "</table>\n",
       "</div>"
      ],
      "text/plain": [
       "     index             a         b  missing_value        diff\n",
       "129     73  0.000000e+00  0.000138              1         inf\n",
       "125    108  0.000000e+00  0.000138              1         inf\n",
       "126    123  0.000000e+00  0.000138              1         inf\n",
       "127     78  0.000000e+00  0.000138              1         inf\n",
       "128    118  0.000000e+00  0.000138              1         inf\n",
       "92     127  8.739838e-07  0.000138              0  157.905879\n",
       "59      53  1.747968e-06  0.000138              0   78.952940\n",
       "49      42  9.613822e-06  0.000552              0   57.420320\n",
       "32      26  4.020325e-05  0.001932              0   48.058311\n",
       "41      34  2.184959e-05  0.000966              0   44.213646\n",
       "47      39  1.310976e-05  0.000552              0   42.108234\n",
       "21      18  1.197358e-04  0.004554              0   38.035723\n",
       "28      25  5.506098e-05  0.002070              0   37.596638\n",
       "29      24  5.331301e-05  0.001932              0   36.240694\n",
       "37      44  2.796748e-05  0.000966              0   34.541911\n",
       "25      23  6.729675e-05  0.002208              0   32.811611\n",
       "15      15  2.193699e-04  0.007176              0   32.713569\n",
       "19      17  1.555691e-04  0.004968              0   31.936020\n",
       "46      40  1.310976e-05  0.000414              0   31.581176\n",
       "44      38  1.747968e-05  0.000552              0   31.581176"
      ]
     },
     "execution_count": 60,
     "metadata": {},
     "output_type": "execute_result"
    },
    {
     "data": {
      "image/png": "[encoded data removed]",
      "text/plain": [
       "<Figure size 432x288 with 2 Axes>"
      ]
     },
     "metadata": {
      "needs_background": "light"
     },
     "output_type": "display_data"
    }
   ],
   "source": [
    "df['FM_Velocity_Condition_24'].hist(by=df['fraude'], bins=50)\n",
    "impact_fraude('FM_Velocity_Condition_24').head(20) # meme constat pour 12h"
   ]
  },
  {
   "cell_type": "markdown",
   "metadata": {
    "colab_type": "text",
    "id": "dBX2IuR3IH_o"
   },
   "source": [
    "Laquelle de ces variables garder ? Le premier arbre de decisiion effectué plus loin montrait que la variable sur 24h était la plus importante, on va voir au niveau des correlations ce que ça donne"
   ]
  },
  {
   "cell_type": "code",
   "execution_count": 61,
   "metadata": {
    "colab": {
     "base_uri": "https://localhost:8080/",
     "height": 173
    },
    "colab_type": "code",
    "executionInfo": {
     "elapsed": 142482,
     "status": "ok",
     "timestamp": 1591441398962,
     "user": {
      "displayName": "Camille GEORGET",
      "photoUrl": "",
      "userId": "03622189545362805141"
     },
     "user_tz": -180
    },
    "id": "6ynAYzTaIH_o",
    "outputId": "7ebf600e-8511-4e90-d44c-ca2adffe8f01",
    "scrolled": true
   },
   "outputs": [
    {
     "data": {
      "text/html": [
       "<div>\n",
       "<style scoped>\n",
       "    .dataframe tbody tr th:only-of-type {\n",
       "        vertical-align: middle;\n",
       "    }\n",
       "\n",
       "    .dataframe tbody tr th {\n",
       "        vertical-align: top;\n",
       "    }\n",
       "\n",
       "    .dataframe thead th {\n",
       "        text-align: right;\n",
       "    }\n",
       "</style>\n",
       "<table border=\"1\" class=\"dataframe\">\n",
       "  <thead>\n",
       "    <tr style=\"text-align: right;\">\n",
       "      <th></th>\n",
       "      <th>FM_Velocity_Condition_3</th>\n",
       "      <th>FM_Velocity_Condition_6</th>\n",
       "      <th>FM_Velocity_Condition_12</th>\n",
       "      <th>FM_Velocity_Condition_24</th>\n",
       "    </tr>\n",
       "  </thead>\n",
       "  <tbody>\n",
       "    <tr>\n",
       "      <th>FM_Velocity_Condition_3</th>\n",
       "      <td>1.000000</td>\n",
       "      <td>0.916418</td>\n",
       "      <td>0.819513</td>\n",
       "      <td>0.666534</td>\n",
       "    </tr>\n",
       "    <tr>\n",
       "      <th>FM_Velocity_Condition_6</th>\n",
       "      <td>0.916418</td>\n",
       "      <td>1.000000</td>\n",
       "      <td>0.933532</td>\n",
       "      <td>0.775551</td>\n",
       "    </tr>\n",
       "    <tr>\n",
       "      <th>FM_Velocity_Condition_12</th>\n",
       "      <td>0.819513</td>\n",
       "      <td>0.933532</td>\n",
       "      <td>1.000000</td>\n",
       "      <td>0.885662</td>\n",
       "    </tr>\n",
       "    <tr>\n",
       "      <th>FM_Velocity_Condition_24</th>\n",
       "      <td>0.666534</td>\n",
       "      <td>0.775551</td>\n",
       "      <td>0.885662</td>\n",
       "      <td>1.000000</td>\n",
       "    </tr>\n",
       "  </tbody>\n",
       "</table>\n",
       "</div>"
      ],
      "text/plain": [
       "                          FM_Velocity_Condition_3  FM_Velocity_Condition_6  \\\n",
       "FM_Velocity_Condition_3                  1.000000                 0.916418   \n",
       "FM_Velocity_Condition_6                  0.916418                 1.000000   \n",
       "FM_Velocity_Condition_12                 0.819513                 0.933532   \n",
       "FM_Velocity_Condition_24                 0.666534                 0.775551   \n",
       "\n",
       "                          FM_Velocity_Condition_12  FM_Velocity_Condition_24  \n",
       "FM_Velocity_Condition_3                   0.819513                  0.666534  \n",
       "FM_Velocity_Condition_6                   0.933532                  0.775551  \n",
       "FM_Velocity_Condition_12                  1.000000                  0.885662  \n",
       "FM_Velocity_Condition_24                  0.885662                  1.000000  "
      ]
     },
     "execution_count": 61,
     "metadata": {},
     "output_type": "execute_result"
    }
   ],
   "source": [
    "df.loc[:,['FM_Velocity_Condition_3','FM_Velocity_Condition_6','FM_Velocity_Condition_12','FM_Velocity_Condition_24']].corr()"
   ]
  },
  {
   "cell_type": "code",
   "execution_count": 62,
   "metadata": {
    "colab": {
     "base_uri": "https://localhost:8080/",
     "height": 289
    },
    "colab_type": "code",
    "executionInfo": {
     "elapsed": 142459,
     "status": "ok",
     "timestamp": 1591441398963,
     "user": {
      "displayName": "Camille GEORGET",
      "photoUrl": "",
      "userId": "03622189545362805141"
     },
     "user_tz": -180
    },
    "id": "I_m5eO79IH_p",
    "outputId": "2f88ba19-0e62-4a28-edeb-bf9f1800fb14"
   },
   "outputs": [
    {
     "data": {
      "text/plain": [
       "1     709817\n",
       "2     223327\n",
       "3      87994\n",
       "0      51790\n",
       "4      38282\n",
       "5      17294\n",
       "6       8351\n",
       "7       4375\n",
       "8       2498\n",
       "9       1517\n",
       "10      1029\n",
       "11       756\n",
       "12       575\n",
       "13       459\n",
       "14       338\n",
       "Name: FM_Velocity_Condition_24, dtype: int64"
      ]
     },
     "execution_count": 62,
     "metadata": {},
     "output_type": "execute_result"
    }
   ],
   "source": [
    "# on regarde les effectifs par modalités pour savoir comment classé\n",
    "df['FM_Velocity_Condition_24'].value_counts().head(15)"
   ]
  },
  {
   "cell_type": "markdown",
   "metadata": {
    "colab_type": "text",
    "id": "Mh4uQeK3IH_r"
   },
   "source": [
    "je pensais faire une v2, mais finalement on peut garder la variable telle quelle je pense "
   ]
  },
  {
   "cell_type": "markdown",
   "metadata": {
    "colab_type": "text",
    "id": "0Uq14XQGIH_t"
   },
   "source": [
    "# j) Somme des montants cumulés sur les X dernieres heures"
   ]
  },
  {
   "cell_type": "code",
   "execution_count": 63,
   "metadata": {
    "colab": {
     "base_uri": "https://localhost:8080/",
     "height": 352
    },
    "colab_type": "code",
    "executionInfo": {
     "elapsed": 142864,
     "status": "ok",
     "timestamp": 1591441399407,
     "user": {
      "displayName": "Camille GEORGET",
      "photoUrl": "",
      "userId": "03622189545362805141"
     },
     "user_tz": -180
    },
    "id": "rG-q5E4lIH_u",
    "outputId": "72a8a9ce-8e7a-4a68-e515-ebdc475aa6eb"
   },
   "outputs": [
    {
     "data": {
      "text/plain": [
       "array([<matplotlib.axes._subplots.AxesSubplot object at 0x0000023AC25329E8>,\n",
       "       <matplotlib.axes._subplots.AxesSubplot object at 0x0000023AC256CC88>],\n",
       "      dtype=object)"
      ]
     },
     "execution_count": 63,
     "metadata": {},
     "output_type": "execute_result"
    },
    {
     "data": {
      "image/png": "[encoded data removed]",
      "text/plain": [
       "<Figure size 432x288 with 2 Axes>"
      ]
     },
     "metadata": {
      "needs_background": "light"
     },
     "output_type": "display_data"
    }
   ],
   "source": [
    "df.loc[(df.FM_Sum_3>1000)&(df.FM_Sum_3<10000), 'FM_Sum_3'].hist(by=df['fraude'], bins=50)"
   ]
  },
  {
   "cell_type": "markdown",
   "metadata": {
    "colab_type": "text",
    "id": "xJ-4sPNaIH_w"
   },
   "source": [
    "Les distributions sont similaires pour les montant <1000, entre 1k et 10k, et pour les montants > 10k, ce sont des valeurs rares dans la graph des Fraude (a droite ci dessous, donc elles sont dures a detecter comme ça je pense"
   ]
  },
  {
   "cell_type": "code",
   "execution_count": 64,
   "metadata": {
    "colab": {
     "base_uri": "https://localhost:8080/",
     "height": 353
    },
    "colab_type": "code",
    "executionInfo": {
     "elapsed": 143481,
     "status": "ok",
     "timestamp": 1591441400045,
     "user": {
      "displayName": "Camille GEORGET",
      "photoUrl": "",
      "userId": "03622189545362805141"
     },
     "user_tz": -180
    },
    "id": "MXRis-KIIH_w",
    "outputId": "c77c29f8-74bc-426e-e6ac-4d31c0793e18",
    "scrolled": true
   },
   "outputs": [
    {
     "data": {
      "text/plain": [
       "array([<matplotlib.axes._subplots.AxesSubplot object at 0x0000023A801742E8>,\n",
       "       <matplotlib.axes._subplots.AxesSubplot object at 0x0000023A80194AC8>],\n",
       "      dtype=object)"
      ]
     },
     "execution_count": 64,
     "metadata": {},
     "output_type": "execute_result"
    },
    {
     "data": {
      "image/png": "[encoded data removed]",
      "text/plain": [
       "<Figure size 432x288 with 2 Axes>"
      ]
     },
     "metadata": {
      "needs_background": "light"
     },
     "output_type": "display_data"
    }
   ],
   "source": [
    "df.loc[(df.FM_Sum_3>10000)&(df.FM_Sum_3<20000), 'FM_Sum_3'].hist(by=df['fraude'], bins=50)"
   ]
  },
  {
   "cell_type": "markdown",
   "metadata": {
    "colab_type": "text",
    "id": "1NjBOH_8IH_z"
   },
   "source": [
    "On va regarder le graph des 6, 12 et 24 dernieres heures "
   ]
  },
  {
   "cell_type": "code",
   "execution_count": 65,
   "metadata": {
    "colab": {
     "base_uri": "https://localhost:8080/",
     "height": 353
    },
    "colab_type": "code",
    "executionInfo": {
     "elapsed": 143935,
     "status": "ok",
     "timestamp": 1591441400523,
     "user": {
      "displayName": "Camille GEORGET",
      "photoUrl": "",
      "userId": "03622189545362805141"
     },
     "user_tz": -180
    },
    "id": "PE0iJNIRIH_z",
    "outputId": "23937137-e91d-4929-faae-9eb92bef60e3"
   },
   "outputs": [
    {
     "data": {
      "text/plain": [
       "array([<matplotlib.axes._subplots.AxesSubplot object at 0x0000023A8032C2E8>,\n",
       "       <matplotlib.axes._subplots.AxesSubplot object at 0x0000023A803529E8>],\n",
       "      dtype=object)"
      ]
     },
     "execution_count": 65,
     "metadata": {},
     "output_type": "execute_result"
    },
    {
     "data": {
      "image/png": "[encoded data removed]",
      "text/plain": [
       "<Figure size 432x288 with 2 Axes>"
      ]
     },
     "metadata": {
      "needs_background": "light"
     },
     "output_type": "display_data"
    }
   ],
   "source": [
    "df.loc[(df.FM_Sum_6>10000)&(df.FM_Sum_6<20000), 'FM_Sum_6'].hist(by=df['fraude'])"
   ]
  },
  {
   "cell_type": "code",
   "execution_count": 66,
   "metadata": {
    "colab": {
     "base_uri": "https://localhost:8080/",
     "height": 353
    },
    "colab_type": "code",
    "executionInfo": {
     "elapsed": 144413,
     "status": "ok",
     "timestamp": 1591441401025,
     "user": {
      "displayName": "Camille GEORGET",
      "photoUrl": "",
      "userId": "03622189545362805141"
     },
     "user_tz": -180
    },
    "id": "e3-KorrIIH_5",
    "outputId": "477a1a88-3628-4595-cde3-5c575d739016"
   },
   "outputs": [
    {
     "data": {
      "text/plain": [
       "array([<matplotlib.axes._subplots.AxesSubplot object at 0x0000023A803F6DA0>,\n",
       "       <matplotlib.axes._subplots.AxesSubplot object at 0x0000023A8043FB38>],\n",
       "      dtype=object)"
      ]
     },
     "execution_count": 66,
     "metadata": {},
     "output_type": "execute_result"
    },
    {
     "data": {
      "image/png": "[encoded data removed]",
      "text/plain": [
       "<Figure size 432x288 with 2 Axes>"
      ]
     },
     "metadata": {
      "needs_background": "light"
     },
     "output_type": "display_data"
    }
   ],
   "source": [
    "df.loc[(df.FM_Sum_12>10000)&(df.FM_Sum_12<20000), 'FM_Sum_12'].hist(by=df['fraude'])"
   ]
  },
  {
   "cell_type": "code",
   "execution_count": 67,
   "metadata": {
    "colab": {
     "base_uri": "https://localhost:8080/",
     "height": 352
    },
    "colab_type": "code",
    "executionInfo": {
     "elapsed": 144779,
     "status": "ok",
     "timestamp": 1591441401418,
     "user": {
      "displayName": "Camille GEORGET",
      "photoUrl": "",
      "userId": "03622189545362805141"
     },
     "user_tz": -180
    },
    "id": "22bdxhvjIH_7",
    "outputId": "4ebc4cef-a7d5-44b8-b6a6-b77090851d8b"
   },
   "outputs": [
    {
     "data": {
      "text/plain": [
       "array([<matplotlib.axes._subplots.AxesSubplot object at 0x0000023A804F43C8>,\n",
       "       <matplotlib.axes._subplots.AxesSubplot object at 0x0000023AC24D4320>],\n",
       "      dtype=object)"
      ]
     },
     "execution_count": 67,
     "metadata": {},
     "output_type": "execute_result"
    },
    {
     "data": {
      "image/png": "[encoded data removed]",
      "text/plain": [
       "<Figure size 432x288 with 2 Axes>"
      ]
     },
     "metadata": {
      "needs_background": "light"
     },
     "output_type": "display_data"
    }
   ],
   "source": [
    "df.loc[(df.FM_Sum_24>10000)&(df.FM_Sum_24<30000), 'FM_Sum_24'].hist(by=df['fraude'])"
   ]
  },
  {
   "cell_type": "markdown",
   "metadata": {
    "colab_type": "text",
    "id": "7L3_jbooIH__"
   },
   "source": [
    "les graphs se ressemblent tous, mis a part quelques saut dans les histogrammes de gauches car les valeurs sont rares...\n",
    "On voit neanmoins dans le graphique ci dessous qu'il y a plus de grande valeurs en proportion chez les fraudes "
   ]
  },
  {
   "cell_type": "code",
   "execution_count": 68,
   "metadata": {},
   "outputs": [
    {
     "data": {
      "text/plain": [
       "array([<matplotlib.axes._subplots.AxesSubplot object at 0x0000023AD1B5D5F8>,\n",
       "       <matplotlib.axes._subplots.AxesSubplot object at 0x0000023AD1B6ABA8>],\n",
       "      dtype=object)"
      ]
     },
     "execution_count": 68,
     "metadata": {},
     "output_type": "execute_result"
    },
    {
     "data": {
      "image/png": "[encoded data removed]",
      "text/plain": [
       "<Figure size 432x288 with 2 Axes>"
      ]
     },
     "metadata": {
      "needs_background": "light"
     },
     "output_type": "display_data"
    }
   ],
   "source": [
    "df.loc[df.FM_Sum_24>30000, 'FM_Sum_24'].hist(by=df['fraude'])"
   ]
  },
  {
   "cell_type": "code",
   "execution_count": 69,
   "metadata": {
    "colab": {
     "base_uri": "https://localhost:8080/",
     "height": 173
    },
    "colab_type": "code",
    "executionInfo": {
     "elapsed": 144757,
     "status": "ok",
     "timestamp": 1591441401420,
     "user": {
      "displayName": "Camille GEORGET",
      "photoUrl": "",
      "userId": "03622189545362805141"
     },
     "user_tz": -180
    },
    "id": "qi2wh6DGIH__",
    "outputId": "e3d0313a-d610-4395-ec34-cb281d54efaa"
   },
   "outputs": [
    {
     "data": {
      "text/html": [
       "<div>\n",
       "<style scoped>\n",
       "    .dataframe tbody tr th:only-of-type {\n",
       "        vertical-align: middle;\n",
       "    }\n",
       "\n",
       "    .dataframe tbody tr th {\n",
       "        vertical-align: top;\n",
       "    }\n",
       "\n",
       "    .dataframe thead th {\n",
       "        text-align: right;\n",
       "    }\n",
       "</style>\n",
       "<table border=\"1\" class=\"dataframe\">\n",
       "  <thead>\n",
       "    <tr style=\"text-align: right;\">\n",
       "      <th></th>\n",
       "      <th>FM_Sum_3</th>\n",
       "      <th>FM_Sum_6</th>\n",
       "      <th>FM_Sum_12</th>\n",
       "      <th>FM_Sum_24</th>\n",
       "    </tr>\n",
       "  </thead>\n",
       "  <tbody>\n",
       "    <tr>\n",
       "      <th>FM_Sum_3</th>\n",
       "      <td>1.000000</td>\n",
       "      <td>0.986165</td>\n",
       "      <td>0.965925</td>\n",
       "      <td>0.730005</td>\n",
       "    </tr>\n",
       "    <tr>\n",
       "      <th>FM_Sum_6</th>\n",
       "      <td>0.986165</td>\n",
       "      <td>1.000000</td>\n",
       "      <td>0.984524</td>\n",
       "      <td>0.765130</td>\n",
       "    </tr>\n",
       "    <tr>\n",
       "      <th>FM_Sum_12</th>\n",
       "      <td>0.965925</td>\n",
       "      <td>0.984524</td>\n",
       "      <td>1.000000</td>\n",
       "      <td>0.797025</td>\n",
       "    </tr>\n",
       "    <tr>\n",
       "      <th>FM_Sum_24</th>\n",
       "      <td>0.730005</td>\n",
       "      <td>0.765130</td>\n",
       "      <td>0.797025</td>\n",
       "      <td>1.000000</td>\n",
       "    </tr>\n",
       "  </tbody>\n",
       "</table>\n",
       "</div>"
      ],
      "text/plain": [
       "           FM_Sum_3  FM_Sum_6  FM_Sum_12  FM_Sum_24\n",
       "FM_Sum_3   1.000000  0.986165   0.965925   0.730005\n",
       "FM_Sum_6   0.986165  1.000000   0.984524   0.765130\n",
       "FM_Sum_12  0.965925  0.984524   1.000000   0.797025\n",
       "FM_Sum_24  0.730005  0.765130   0.797025   1.000000"
      ]
     },
     "execution_count": 69,
     "metadata": {},
     "output_type": "execute_result"
    }
   ],
   "source": [
    "df.loc[:,['FM_Sum_3','FM_Sum_6','FM_Sum_12','FM_Sum_24']].corr() # tres correlé, on va surement en garder qu'une, celle sur \n",
    "# 24h"
   ]
  },
  {
   "cell_type": "markdown",
   "metadata": {
    "colab_type": "text",
    "id": "56fDvXhlIIAB"
   },
   "source": [
    "# k) nb de transactions realisées chez un mm commerçant sur les X dernieres heures"
   ]
  },
  {
   "cell_type": "code",
   "execution_count": 70,
   "metadata": {
    "colab": {
     "base_uri": "https://localhost:8080/",
     "height": 34
    },
    "colab_type": "code",
    "executionInfo": {
     "elapsed": 144738,
     "status": "ok",
     "timestamp": 1591441401422,
     "user": {
      "displayName": "Camille GEORGET",
      "photoUrl": "",
      "userId": "03622189545362805141"
     },
     "user_tz": -180
    },
    "id": "rvZAB3TBIIAC",
    "outputId": "4fc1fedd-f0b4-4dbb-95ab-52087343c789"
   },
   "outputs": [
    {
     "data": {
      "text/plain": [
       "39"
      ]
     },
     "execution_count": 70,
     "metadata": {},
     "output_type": "execute_result"
    }
   ],
   "source": [
    "df.FM_Redondance_MCC_3.nunique() # 39 modalités differentes pour 3h"
   ]
  },
  {
   "cell_type": "code",
   "execution_count": 71,
   "metadata": {
    "colab": {
     "base_uri": "https://localhost:8080/",
     "height": 470
    },
    "colab_type": "code",
    "executionInfo": {
     "elapsed": 145550,
     "status": "ok",
     "timestamp": 1591441402290,
     "user": {
      "displayName": "Camille GEORGET",
      "photoUrl": "",
      "userId": "03622189545362805141"
     },
     "user_tz": -180
    },
    "id": "Wz2akofvIIAE",
    "outputId": "3d9e7967-84b6-4be2-c661-356ee0d214de"
   },
   "outputs": [
    {
     "data": {
      "text/html": [
       "<div>\n",
       "<style scoped>\n",
       "    .dataframe tbody tr th:only-of-type {\n",
       "        vertical-align: middle;\n",
       "    }\n",
       "\n",
       "    .dataframe tbody tr th {\n",
       "        vertical-align: top;\n",
       "    }\n",
       "\n",
       "    .dataframe thead th {\n",
       "        text-align: right;\n",
       "    }\n",
       "</style>\n",
       "<table border=\"1\" class=\"dataframe\">\n",
       "  <thead>\n",
       "    <tr style=\"text-align: right;\">\n",
       "      <th></th>\n",
       "      <th>index</th>\n",
       "      <th>a</th>\n",
       "      <th>b</th>\n",
       "      <th>missing_value</th>\n",
       "      <th>diff</th>\n",
       "    </tr>\n",
       "  </thead>\n",
       "  <tbody>\n",
       "    <tr>\n",
       "      <th>16</th>\n",
       "      <td>17</td>\n",
       "      <td>0.000029</td>\n",
       "      <td>0.000552</td>\n",
       "      <td>0</td>\n",
       "      <td>19.140107</td>\n",
       "    </tr>\n",
       "    <tr>\n",
       "      <th>8</th>\n",
       "      <td>9</td>\n",
       "      <td>0.000224</td>\n",
       "      <td>0.003588</td>\n",
       "      <td>0</td>\n",
       "      <td>16.037316</td>\n",
       "    </tr>\n",
       "    <tr>\n",
       "      <th>7</th>\n",
       "      <td>8</td>\n",
       "      <td>0.000329</td>\n",
       "      <td>0.005244</td>\n",
       "      <td>0</td>\n",
       "      <td>15.916242</td>\n",
       "    </tr>\n",
       "    <tr>\n",
       "      <th>15</th>\n",
       "      <td>16</td>\n",
       "      <td>0.000035</td>\n",
       "      <td>0.000552</td>\n",
       "      <td>0</td>\n",
       "      <td>15.790588</td>\n",
       "    </tr>\n",
       "    <tr>\n",
       "      <th>13</th>\n",
       "      <td>14</td>\n",
       "      <td>0.000044</td>\n",
       "      <td>0.000690</td>\n",
       "      <td>0</td>\n",
       "      <td>15.790588</td>\n",
       "    </tr>\n",
       "  </tbody>\n",
       "</table>\n",
       "</div>"
      ],
      "text/plain": [
       "    index         a         b  missing_value       diff\n",
       "16     17  0.000029  0.000552              0  19.140107\n",
       "8       9  0.000224  0.003588              0  16.037316\n",
       "7       8  0.000329  0.005244              0  15.916242\n",
       "15     16  0.000035  0.000552              0  15.790588\n",
       "13     14  0.000044  0.000690              0  15.790588"
      ]
     },
     "execution_count": 71,
     "metadata": {},
     "output_type": "execute_result"
    },
    {
     "data": {
      "image/png": "[encoded data removed]",
      "text/plain": [
       "<Figure size 432x288 with 2 Axes>"
      ]
     },
     "metadata": {
      "needs_background": "light"
     },
     "output_type": "display_data"
    }
   ],
   "source": [
    "# ya aucune valeur >20 pour les fraudes, on affiche les histogrammes pour les données de 0 à 20\n",
    "df.loc[df.FM_Redondance_MCC_3<=20,'FM_Redondance_MCC_3'].hist(by=df['fraude'], bins=50)\n",
    "\n",
    "impact_fraude('FM_Redondance_MCC_3').head()"
   ]
  },
  {
   "cell_type": "markdown",
   "metadata": {
    "colab_type": "text",
    "id": "lKeQpzbJIIAG"
   },
   "source": [
    "on voit que la les transactions ayant été effectué plus de 1 fois sont plus frequente chez les Fraude que les Non Fraudes.\n",
    "Verifions les graphiques pour les 6, 12 et 24 dernieres heures."
   ]
  },
  {
   "cell_type": "code",
   "execution_count": 72,
   "metadata": {
    "colab": {
     "base_uri": "https://localhost:8080/",
     "height": 470
    },
    "colab_type": "code",
    "executionInfo": {
     "elapsed": 146147,
     "status": "ok",
     "timestamp": 1591441402933,
     "user": {
      "displayName": "Camille GEORGET",
      "photoUrl": "",
      "userId": "03622189545362805141"
     },
     "user_tz": -180
    },
    "id": "wYHMlaErIIAG",
    "outputId": "92dd88ce-fe5c-4691-d852-5c40a6aadd38"
   },
   "outputs": [
    {
     "data": {
      "text/html": [
       "<div>\n",
       "<style scoped>\n",
       "    .dataframe tbody tr th:only-of-type {\n",
       "        vertical-align: middle;\n",
       "    }\n",
       "\n",
       "    .dataframe tbody tr th {\n",
       "        vertical-align: top;\n",
       "    }\n",
       "\n",
       "    .dataframe thead th {\n",
       "        text-align: right;\n",
       "    }\n",
       "</style>\n",
       "<table border=\"1\" class=\"dataframe\">\n",
       "  <thead>\n",
       "    <tr style=\"text-align: right;\">\n",
       "      <th></th>\n",
       "      <th>index</th>\n",
       "      <th>a</th>\n",
       "      <th>b</th>\n",
       "      <th>missing_value</th>\n",
       "      <th>diff</th>\n",
       "    </tr>\n",
       "  </thead>\n",
       "  <tbody>\n",
       "    <tr>\n",
       "      <th>24</th>\n",
       "      <td>25</td>\n",
       "      <td>0.000010</td>\n",
       "      <td>0.000276</td>\n",
       "      <td>0</td>\n",
       "      <td>28.710160</td>\n",
       "    </tr>\n",
       "    <tr>\n",
       "      <th>29</th>\n",
       "      <td>30</td>\n",
       "      <td>0.000005</td>\n",
       "      <td>0.000138</td>\n",
       "      <td>0</td>\n",
       "      <td>26.317647</td>\n",
       "    </tr>\n",
       "    <tr>\n",
       "      <th>18</th>\n",
       "      <td>19</td>\n",
       "      <td>0.000017</td>\n",
       "      <td>0.000414</td>\n",
       "      <td>0</td>\n",
       "      <td>23.685882</td>\n",
       "    </tr>\n",
       "    <tr>\n",
       "      <th>21</th>\n",
       "      <td>24</td>\n",
       "      <td>0.000013</td>\n",
       "      <td>0.000276</td>\n",
       "      <td>0</td>\n",
       "      <td>21.054117</td>\n",
       "    </tr>\n",
       "    <tr>\n",
       "      <th>16</th>\n",
       "      <td>17</td>\n",
       "      <td>0.000033</td>\n",
       "      <td>0.000690</td>\n",
       "      <td>0</td>\n",
       "      <td>20.777089</td>\n",
       "    </tr>\n",
       "  </tbody>\n",
       "</table>\n",
       "</div>"
      ],
      "text/plain": [
       "    index         a         b  missing_value       diff\n",
       "24     25  0.000010  0.000276              0  28.710160\n",
       "29     30  0.000005  0.000138              0  26.317647\n",
       "18     19  0.000017  0.000414              0  23.685882\n",
       "21     24  0.000013  0.000276              0  21.054117\n",
       "16     17  0.000033  0.000690              0  20.777089"
      ]
     },
     "execution_count": 72,
     "metadata": {},
     "output_type": "execute_result"
    },
    {
     "data": {
      "image/png": "[encoded data removed]",
      "text/plain": [
       "<Figure size 432x288 with 2 Axes>"
      ]
     },
     "metadata": {
      "needs_background": "light"
     },
     "output_type": "display_data"
    }
   ],
   "source": [
    "df.loc[df.FM_Redondance_MCC_6<=30,'FM_Redondance_MCC_6'].hist(by=df['fraude'], bins=50)\n",
    "impact_fraude('FM_Redondance_MCC_6').head()\n",
    "# meme conclusions pour 6 heures"
   ]
  },
  {
   "cell_type": "code",
   "execution_count": 73,
   "metadata": {
    "colab": {
     "base_uri": "https://localhost:8080/",
     "height": 470
    },
    "colab_type": "code",
    "executionInfo": {
     "elapsed": 146750,
     "status": "ok",
     "timestamp": 1591441403573,
     "user": {
      "displayName": "Camille GEORGET",
      "photoUrl": "",
      "userId": "03622189545362805141"
     },
     "user_tz": -180
    },
    "id": "NPtkIrEqIIAH",
    "outputId": "b9a867b3-33fc-4fb8-ae97-38ea5b32d369"
   },
   "outputs": [
    {
     "data": {
      "text/html": [
       "<div>\n",
       "<style scoped>\n",
       "    .dataframe tbody tr th:only-of-type {\n",
       "        vertical-align: middle;\n",
       "    }\n",
       "\n",
       "    .dataframe tbody tr th {\n",
       "        vertical-align: top;\n",
       "    }\n",
       "\n",
       "    .dataframe thead th {\n",
       "        text-align: right;\n",
       "    }\n",
       "</style>\n",
       "<table border=\"1\" class=\"dataframe\">\n",
       "  <thead>\n",
       "    <tr style=\"text-align: right;\">\n",
       "      <th></th>\n",
       "      <th>index</th>\n",
       "      <th>a</th>\n",
       "      <th>b</th>\n",
       "      <th>missing_value</th>\n",
       "      <th>diff</th>\n",
       "    </tr>\n",
       "  </thead>\n",
       "  <tbody>\n",
       "    <tr>\n",
       "      <th>43</th>\n",
       "      <td>43</td>\n",
       "      <td>8.739838e-07</td>\n",
       "      <td>0.000138</td>\n",
       "      <td>0</td>\n",
       "      <td>157.905879</td>\n",
       "    </tr>\n",
       "    <tr>\n",
       "      <th>19</th>\n",
       "      <td>17</td>\n",
       "      <td>5.069106e-05</td>\n",
       "      <td>0.001104</td>\n",
       "      <td>0</td>\n",
       "      <td>21.780121</td>\n",
       "    </tr>\n",
       "    <tr>\n",
       "      <th>29</th>\n",
       "      <td>30</td>\n",
       "      <td>7.865854e-06</td>\n",
       "      <td>0.000138</td>\n",
       "      <td>0</td>\n",
       "      <td>17.545098</td>\n",
       "    </tr>\n",
       "    <tr>\n",
       "      <th>10</th>\n",
       "      <td>10</td>\n",
       "      <td>2.656911e-04</td>\n",
       "      <td>0.004416</td>\n",
       "      <td>0</td>\n",
       "      <td>16.621671</td>\n",
       "    </tr>\n",
       "    <tr>\n",
       "      <th>9</th>\n",
       "      <td>9</td>\n",
       "      <td>3.443496e-04</td>\n",
       "      <td>0.005658</td>\n",
       "      <td>0</td>\n",
       "      <td>16.431830</td>\n",
       "    </tr>\n",
       "  </tbody>\n",
       "</table>\n",
       "</div>"
      ],
      "text/plain": [
       "    index             a         b  missing_value        diff\n",
       "43     43  8.739838e-07  0.000138              0  157.905879\n",
       "19     17  5.069106e-05  0.001104              0   21.780121\n",
       "29     30  7.865854e-06  0.000138              0   17.545098\n",
       "10     10  2.656911e-04  0.004416              0   16.621671\n",
       "9       9  3.443496e-04  0.005658              0   16.431830"
      ]
     },
     "execution_count": 73,
     "metadata": {},
     "output_type": "execute_result"
    },
    {
     "data": {
      "image/png": "[encoded data removed]",
      "text/plain": [
       "<Figure size 432x288 with 2 Axes>"
      ]
     },
     "metadata": {
      "needs_background": "light"
     },
     "output_type": "display_data"
    }
   ],
   "source": [
    "df['FM_Redondance_MCC_12'].hist(by=df['fraude'], bins=50)\n",
    "impact_fraude('FM_Redondance_MCC_12').head()\n",
    "# meme conclusions pour 12 heures"
   ]
  },
  {
   "cell_type": "code",
   "execution_count": 74,
   "metadata": {
    "colab": {
     "base_uri": "https://localhost:8080/",
     "height": 1000
    },
    "colab_type": "code",
    "executionInfo": {
     "elapsed": 147619,
     "status": "ok",
     "timestamp": 1591441404479,
     "user": {
      "displayName": "Camille GEORGET",
      "photoUrl": "",
      "userId": "03622189545362805141"
     },
     "user_tz": -180
    },
    "id": "GguCOYAmIIAJ",
    "outputId": "1d31a13e-10b2-408a-ef2a-a2dc84340456",
    "scrolled": true
   },
   "outputs": [
    {
     "data": {
      "text/html": [
       "<div>\n",
       "<style scoped>\n",
       "    .dataframe tbody tr th:only-of-type {\n",
       "        vertical-align: middle;\n",
       "    }\n",
       "\n",
       "    .dataframe tbody tr th {\n",
       "        vertical-align: top;\n",
       "    }\n",
       "\n",
       "    .dataframe thead th {\n",
       "        text-align: right;\n",
       "    }\n",
       "</style>\n",
       "<table border=\"1\" class=\"dataframe\">\n",
       "  <thead>\n",
       "    <tr style=\"text-align: right;\">\n",
       "      <th></th>\n",
       "      <th>index</th>\n",
       "      <th>a</th>\n",
       "      <th>b</th>\n",
       "      <th>missing_value</th>\n",
       "      <th>diff</th>\n",
       "    </tr>\n",
       "  </thead>\n",
       "  <tbody>\n",
       "    <tr>\n",
       "      <th>22</th>\n",
       "      <td>19</td>\n",
       "      <td>4.806911e-05</td>\n",
       "      <td>0.000966</td>\n",
       "      <td>0</td>\n",
       "      <td>20.097112</td>\n",
       "    </tr>\n",
       "    <tr>\n",
       "      <th>23</th>\n",
       "      <td>20</td>\n",
       "      <td>4.195122e-05</td>\n",
       "      <td>0.000690</td>\n",
       "      <td>0</td>\n",
       "      <td>16.448529</td>\n",
       "    </tr>\n",
       "    <tr>\n",
       "      <th>18</th>\n",
       "      <td>17</td>\n",
       "      <td>8.477643e-05</td>\n",
       "      <td>0.001242</td>\n",
       "      <td>0</td>\n",
       "      <td>14.651061</td>\n",
       "    </tr>\n",
       "    <tr>\n",
       "      <th>20</th>\n",
       "      <td>18</td>\n",
       "      <td>6.642277e-05</td>\n",
       "      <td>0.000966</td>\n",
       "      <td>0</td>\n",
       "      <td>14.543963</td>\n",
       "    </tr>\n",
       "    <tr>\n",
       "      <th>15</th>\n",
       "      <td>14</td>\n",
       "      <td>1.477033e-04</td>\n",
       "      <td>0.001932</td>\n",
       "      <td>0</td>\n",
       "      <td>13.080960</td>\n",
       "    </tr>\n",
       "    <tr>\n",
       "      <th>10</th>\n",
       "      <td>11</td>\n",
       "      <td>3.172561e-04</td>\n",
       "      <td>0.004140</td>\n",
       "      <td>0</td>\n",
       "      <td>13.050073</td>\n",
       "    </tr>\n",
       "    <tr>\n",
       "      <th>7</th>\n",
       "      <td>8</td>\n",
       "      <td>7.638618e-04</td>\n",
       "      <td>0.009937</td>\n",
       "      <td>0</td>\n",
       "      <td>13.008265</td>\n",
       "    </tr>\n",
       "    <tr>\n",
       "      <th>14</th>\n",
       "      <td>13</td>\n",
       "      <td>1.756707e-04</td>\n",
       "      <td>0.002208</td>\n",
       "      <td>0</td>\n",
       "      <td>12.569622</td>\n",
       "    </tr>\n",
       "    <tr>\n",
       "      <th>9</th>\n",
       "      <td>10</td>\n",
       "      <td>4.230081e-04</td>\n",
       "      <td>0.005244</td>\n",
       "      <td>0</td>\n",
       "      <td>12.397569</td>\n",
       "    </tr>\n",
       "    <tr>\n",
       "      <th>8</th>\n",
       "      <td>9</td>\n",
       "      <td>5.680895e-04</td>\n",
       "      <td>0.006900</td>\n",
       "      <td>0</td>\n",
       "      <td>12.146606</td>\n",
       "    </tr>\n",
       "    <tr>\n",
       "      <th>25</th>\n",
       "      <td>21</td>\n",
       "      <td>3.495935e-05</td>\n",
       "      <td>0.000414</td>\n",
       "      <td>0</td>\n",
       "      <td>11.842941</td>\n",
       "    </tr>\n",
       "    <tr>\n",
       "      <th>17</th>\n",
       "      <td>16</td>\n",
       "      <td>1.101220e-04</td>\n",
       "      <td>0.001242</td>\n",
       "      <td>0</td>\n",
       "      <td>11.278991</td>\n",
       "    </tr>\n",
       "    <tr>\n",
       "      <th>16</th>\n",
       "      <td>15</td>\n",
       "      <td>1.223577e-04</td>\n",
       "      <td>0.001380</td>\n",
       "      <td>0</td>\n",
       "      <td>11.278991</td>\n",
       "    </tr>\n",
       "    <tr>\n",
       "      <th>5</th>\n",
       "      <td>6</td>\n",
       "      <td>1.648333e-03</td>\n",
       "      <td>0.018217</td>\n",
       "      <td>0</td>\n",
       "      <td>11.051737</td>\n",
       "    </tr>\n",
       "    <tr>\n",
       "      <th>11</th>\n",
       "      <td>12</td>\n",
       "      <td>2.700610e-04</td>\n",
       "      <td>0.002898</td>\n",
       "      <td>0</td>\n",
       "      <td>10.731468</td>\n",
       "    </tr>\n",
       "    <tr>\n",
       "      <th>6</th>\n",
       "      <td>7</td>\n",
       "      <td>1.099472e-03</td>\n",
       "      <td>0.011317</td>\n",
       "      <td>0</td>\n",
       "      <td>10.292752</td>\n",
       "    </tr>\n",
       "    <tr>\n",
       "      <th>4</th>\n",
       "      <td>5</td>\n",
       "      <td>2.962805e-03</td>\n",
       "      <td>0.026359</td>\n",
       "      <td>0</td>\n",
       "      <td>8.896762</td>\n",
       "    </tr>\n",
       "    <tr>\n",
       "      <th>26</th>\n",
       "      <td>24</td>\n",
       "      <td>3.408537e-05</td>\n",
       "      <td>0.000276</td>\n",
       "      <td>0</td>\n",
       "      <td>8.097737</td>\n",
       "    </tr>\n",
       "    <tr>\n",
       "      <th>38</th>\n",
       "      <td>43</td>\n",
       "      <td>1.835366e-05</td>\n",
       "      <td>0.000138</td>\n",
       "      <td>0</td>\n",
       "      <td>7.519328</td>\n",
       "    </tr>\n",
       "    <tr>\n",
       "      <th>36</th>\n",
       "      <td>29</td>\n",
       "      <td>1.922764e-05</td>\n",
       "      <td>0.000138</td>\n",
       "      <td>0</td>\n",
       "      <td>7.177540</td>\n",
       "    </tr>\n",
       "    <tr>\n",
       "      <th>35</th>\n",
       "      <td>30</td>\n",
       "      <td>1.922764e-05</td>\n",
       "      <td>0.000138</td>\n",
       "      <td>0</td>\n",
       "      <td>7.177540</td>\n",
       "    </tr>\n",
       "    <tr>\n",
       "      <th>3</th>\n",
       "      <td>4</td>\n",
       "      <td>6.553130e-03</td>\n",
       "      <td>0.041816</td>\n",
       "      <td>0</td>\n",
       "      <td>6.381099</td>\n",
       "    </tr>\n",
       "    <tr>\n",
       "      <th>33</th>\n",
       "      <td>27</td>\n",
       "      <td>2.272358e-05</td>\n",
       "      <td>0.000138</td>\n",
       "      <td>0</td>\n",
       "      <td>6.073303</td>\n",
       "    </tr>\n",
       "    <tr>\n",
       "      <th>32</th>\n",
       "      <td>26</td>\n",
       "      <td>2.447155e-05</td>\n",
       "      <td>0.000138</td>\n",
       "      <td>0</td>\n",
       "      <td>5.639496</td>\n",
       "    </tr>\n",
       "    <tr>\n",
       "      <th>31</th>\n",
       "      <td>28</td>\n",
       "      <td>2.447155e-05</td>\n",
       "      <td>0.000138</td>\n",
       "      <td>0</td>\n",
       "      <td>5.639496</td>\n",
       "    </tr>\n",
       "    <tr>\n",
       "      <th>29</th>\n",
       "      <td>25</td>\n",
       "      <td>2.796748e-05</td>\n",
       "      <td>0.000138</td>\n",
       "      <td>0</td>\n",
       "      <td>4.934559</td>\n",
       "    </tr>\n",
       "    <tr>\n",
       "      <th>27</th>\n",
       "      <td>22</td>\n",
       "      <td>3.146342e-05</td>\n",
       "      <td>0.000138</td>\n",
       "      <td>0</td>\n",
       "      <td>4.386274</td>\n",
       "    </tr>\n",
       "    <tr>\n",
       "      <th>2</th>\n",
       "      <td>3</td>\n",
       "      <td>2.033411e-02</td>\n",
       "      <td>0.076456</td>\n",
       "      <td>0</td>\n",
       "      <td>3.759987</td>\n",
       "    </tr>\n",
       "    <tr>\n",
       "      <th>24</th>\n",
       "      <td>23</td>\n",
       "      <td>3.758130e-05</td>\n",
       "      <td>0.000138</td>\n",
       "      <td>0</td>\n",
       "      <td>3.672230</td>\n",
       "    </tr>\n",
       "    <tr>\n",
       "      <th>1</th>\n",
       "      <td>2</td>\n",
       "      <td>9.954937e-02</td>\n",
       "      <td>0.181479</td>\n",
       "      <td>0</td>\n",
       "      <td>1.823009</td>\n",
       "    </tr>\n",
       "    <tr>\n",
       "      <th>13</th>\n",
       "      <td>47</td>\n",
       "      <td>1.826626e-04</td>\n",
       "      <td>0.000138</td>\n",
       "      <td>0</td>\n",
       "      <td>0.755531</td>\n",
       "    </tr>\n",
       "    <tr>\n",
       "      <th>0</th>\n",
       "      <td>1</td>\n",
       "      <td>8.636882e-01</td>\n",
       "      <td>0.602539</td>\n",
       "      <td>0</td>\n",
       "      <td>0.697635</td>\n",
       "    </tr>\n",
       "    <tr>\n",
       "      <th>30</th>\n",
       "      <td>33</td>\n",
       "      <td>2.447155e-05</td>\n",
       "      <td>0.000000</td>\n",
       "      <td>1</td>\n",
       "      <td>0.000000</td>\n",
       "    </tr>\n",
       "    <tr>\n",
       "      <th>46</th>\n",
       "      <td>42</td>\n",
       "      <td>7.865854e-06</td>\n",
       "      <td>0.000000</td>\n",
       "      <td>1</td>\n",
       "      <td>0.000000</td>\n",
       "    </tr>\n",
       "    <tr>\n",
       "      <th>57</th>\n",
       "      <td>57</td>\n",
       "      <td>8.739838e-07</td>\n",
       "      <td>0.000000</td>\n",
       "      <td>1</td>\n",
       "      <td>0.000000</td>\n",
       "    </tr>\n",
       "    <tr>\n",
       "      <th>56</th>\n",
       "      <td>56</td>\n",
       "      <td>8.739838e-07</td>\n",
       "      <td>0.000000</td>\n",
       "      <td>1</td>\n",
       "      <td>0.000000</td>\n",
       "    </tr>\n",
       "    <tr>\n",
       "      <th>55</th>\n",
       "      <td>55</td>\n",
       "      <td>8.739838e-07</td>\n",
       "      <td>0.000000</td>\n",
       "      <td>1</td>\n",
       "      <td>0.000000</td>\n",
       "    </tr>\n",
       "    <tr>\n",
       "      <th>54</th>\n",
       "      <td>54</td>\n",
       "      <td>8.739838e-07</td>\n",
       "      <td>0.000000</td>\n",
       "      <td>1</td>\n",
       "      <td>0.000000</td>\n",
       "    </tr>\n",
       "    <tr>\n",
       "      <th>53</th>\n",
       "      <td>53</td>\n",
       "      <td>8.739838e-07</td>\n",
       "      <td>0.000000</td>\n",
       "      <td>1</td>\n",
       "      <td>0.000000</td>\n",
       "    </tr>\n",
       "    <tr>\n",
       "      <th>52</th>\n",
       "      <td>52</td>\n",
       "      <td>8.739838e-07</td>\n",
       "      <td>0.000000</td>\n",
       "      <td>1</td>\n",
       "      <td>0.000000</td>\n",
       "    </tr>\n",
       "    <tr>\n",
       "      <th>51</th>\n",
       "      <td>58</td>\n",
       "      <td>8.739838e-07</td>\n",
       "      <td>0.000000</td>\n",
       "      <td>1</td>\n",
       "      <td>0.000000</td>\n",
       "    </tr>\n",
       "    <tr>\n",
       "      <th>50</th>\n",
       "      <td>51</td>\n",
       "      <td>1.747968e-06</td>\n",
       "      <td>0.000000</td>\n",
       "      <td>1</td>\n",
       "      <td>0.000000</td>\n",
       "    </tr>\n",
       "    <tr>\n",
       "      <th>49</th>\n",
       "      <td>50</td>\n",
       "      <td>1.747968e-06</td>\n",
       "      <td>0.000000</td>\n",
       "      <td>1</td>\n",
       "      <td>0.000000</td>\n",
       "    </tr>\n",
       "    <tr>\n",
       "      <th>48</th>\n",
       "      <td>39</td>\n",
       "      <td>7.865854e-06</td>\n",
       "      <td>0.000000</td>\n",
       "      <td>1</td>\n",
       "      <td>0.000000</td>\n",
       "    </tr>\n",
       "    <tr>\n",
       "      <th>47</th>\n",
       "      <td>40</td>\n",
       "      <td>7.865854e-06</td>\n",
       "      <td>0.000000</td>\n",
       "      <td>1</td>\n",
       "      <td>0.000000</td>\n",
       "    </tr>\n",
       "    <tr>\n",
       "      <th>45</th>\n",
       "      <td>41</td>\n",
       "      <td>7.865854e-06</td>\n",
       "      <td>0.000000</td>\n",
       "      <td>1</td>\n",
       "      <td>0.000000</td>\n",
       "    </tr>\n",
       "    <tr>\n",
       "      <th>28</th>\n",
       "      <td>44</td>\n",
       "      <td>2.884146e-05</td>\n",
       "      <td>0.000000</td>\n",
       "      <td>1</td>\n",
       "      <td>0.000000</td>\n",
       "    </tr>\n",
       "    <tr>\n",
       "      <th>44</th>\n",
       "      <td>38</td>\n",
       "      <td>8.739838e-06</td>\n",
       "      <td>0.000000</td>\n",
       "      <td>1</td>\n",
       "      <td>0.000000</td>\n",
       "    </tr>\n",
       "    <tr>\n",
       "      <th>43</th>\n",
       "      <td>37</td>\n",
       "      <td>8.739838e-06</td>\n",
       "      <td>0.000000</td>\n",
       "      <td>1</td>\n",
       "      <td>0.000000</td>\n",
       "    </tr>\n",
       "    <tr>\n",
       "      <th>42</th>\n",
       "      <td>36</td>\n",
       "      <td>9.613822e-06</td>\n",
       "      <td>0.000000</td>\n",
       "      <td>1</td>\n",
       "      <td>0.000000</td>\n",
       "    </tr>\n",
       "  </tbody>\n",
       "</table>\n",
       "</div>"
      ],
      "text/plain": [
       "    index             a         b  missing_value       diff\n",
       "22     19  4.806911e-05  0.000966              0  20.097112\n",
       "23     20  4.195122e-05  0.000690              0  16.448529\n",
       "18     17  8.477643e-05  0.001242              0  14.651061\n",
       "20     18  6.642277e-05  0.000966              0  14.543963\n",
       "15     14  1.477033e-04  0.001932              0  13.080960\n",
       "10     11  3.172561e-04  0.004140              0  13.050073\n",
       "7       8  7.638618e-04  0.009937              0  13.008265\n",
       "14     13  1.756707e-04  0.002208              0  12.569622\n",
       "9      10  4.230081e-04  0.005244              0  12.397569\n",
       "8       9  5.680895e-04  0.006900              0  12.146606\n",
       "25     21  3.495935e-05  0.000414              0  11.842941\n",
       "17     16  1.101220e-04  0.001242              0  11.278991\n",
       "16     15  1.223577e-04  0.001380              0  11.278991\n",
       "5       6  1.648333e-03  0.018217              0  11.051737\n",
       "11     12  2.700610e-04  0.002898              0  10.731468\n",
       "6       7  1.099472e-03  0.011317              0  10.292752\n",
       "4       5  2.962805e-03  0.026359              0   8.896762\n",
       "26     24  3.408537e-05  0.000276              0   8.097737\n",
       "38     43  1.835366e-05  0.000138              0   7.519328\n",
       "36     29  1.922764e-05  0.000138              0   7.177540\n",
       "35     30  1.922764e-05  0.000138              0   7.177540\n",
       "3       4  6.553130e-03  0.041816              0   6.381099\n",
       "33     27  2.272358e-05  0.000138              0   6.073303\n",
       "32     26  2.447155e-05  0.000138              0   5.639496\n",
       "31     28  2.447155e-05  0.000138              0   5.639496\n",
       "29     25  2.796748e-05  0.000138              0   4.934559\n",
       "27     22  3.146342e-05  0.000138              0   4.386274\n",
       "2       3  2.033411e-02  0.076456              0   3.759987\n",
       "24     23  3.758130e-05  0.000138              0   3.672230\n",
       "1       2  9.954937e-02  0.181479              0   1.823009\n",
       "13     47  1.826626e-04  0.000138              0   0.755531\n",
       "0       1  8.636882e-01  0.602539              0   0.697635\n",
       "30     33  2.447155e-05  0.000000              1   0.000000\n",
       "46     42  7.865854e-06  0.000000              1   0.000000\n",
       "57     57  8.739838e-07  0.000000              1   0.000000\n",
       "56     56  8.739838e-07  0.000000              1   0.000000\n",
       "55     55  8.739838e-07  0.000000              1   0.000000\n",
       "54     54  8.739838e-07  0.000000              1   0.000000\n",
       "53     53  8.739838e-07  0.000000              1   0.000000\n",
       "52     52  8.739838e-07  0.000000              1   0.000000\n",
       "51     58  8.739838e-07  0.000000              1   0.000000\n",
       "50     51  1.747968e-06  0.000000              1   0.000000\n",
       "49     50  1.747968e-06  0.000000              1   0.000000\n",
       "48     39  7.865854e-06  0.000000              1   0.000000\n",
       "47     40  7.865854e-06  0.000000              1   0.000000\n",
       "45     41  7.865854e-06  0.000000              1   0.000000\n",
       "28     44  2.884146e-05  0.000000              1   0.000000\n",
       "44     38  8.739838e-06  0.000000              1   0.000000\n",
       "43     37  8.739838e-06  0.000000              1   0.000000\n",
       "42     36  9.613822e-06  0.000000              1   0.000000"
      ]
     },
     "execution_count": 74,
     "metadata": {},
     "output_type": "execute_result"
    },
    {
     "data": {
      "image/png": "[encoded data removed]",
      "text/plain": [
       "<Figure size 432x288 with 2 Axes>"
      ]
     },
     "metadata": {
      "needs_background": "light"
     },
     "output_type": "display_data"
    }
   ],
   "source": [
    "df['FM_Redondance_MCC_24'].hist(by=df['fraude'], bins=50)\n",
    "impact_fraude('FM_Redondance_MCC_24').head(50)\n",
    "# meme conclusions pour 24 heures"
   ]
  },
  {
   "cell_type": "code",
   "execution_count": 75,
   "metadata": {
    "colab": {
     "base_uri": "https://localhost:8080/",
     "height": 173
    },
    "colab_type": "code",
    "executionInfo": {
     "elapsed": 147560,
     "status": "ok",
     "timestamp": 1591441404480,
     "user": {
      "displayName": "Camille GEORGET",
      "photoUrl": "",
      "userId": "03622189545362805141"
     },
     "user_tz": -180
    },
    "id": "f1nezF54IIAL",
    "outputId": "3637eacf-5f70-4e77-b873-5b3181ede9c2",
    "scrolled": true
   },
   "outputs": [
    {
     "data": {
      "text/html": [
       "<div>\n",
       "<style scoped>\n",
       "    .dataframe tbody tr th:only-of-type {\n",
       "        vertical-align: middle;\n",
       "    }\n",
       "\n",
       "    .dataframe tbody tr th {\n",
       "        vertical-align: top;\n",
       "    }\n",
       "\n",
       "    .dataframe thead th {\n",
       "        text-align: right;\n",
       "    }\n",
       "</style>\n",
       "<table border=\"1\" class=\"dataframe\">\n",
       "  <thead>\n",
       "    <tr style=\"text-align: right;\">\n",
       "      <th></th>\n",
       "      <th>FM_Redondance_MCC_3</th>\n",
       "      <th>FM_Redondance_MCC_6</th>\n",
       "      <th>FM_Redondance_MCC_12</th>\n",
       "      <th>FM_Redondance_MCC_24</th>\n",
       "    </tr>\n",
       "  </thead>\n",
       "  <tbody>\n",
       "    <tr>\n",
       "      <th>FM_Redondance_MCC_3</th>\n",
       "      <td>1.000000</td>\n",
       "      <td>0.938014</td>\n",
       "      <td>0.815473</td>\n",
       "      <td>0.642582</td>\n",
       "    </tr>\n",
       "    <tr>\n",
       "      <th>FM_Redondance_MCC_6</th>\n",
       "      <td>0.938014</td>\n",
       "      <td>1.000000</td>\n",
       "      <td>0.928384</td>\n",
       "      <td>0.784288</td>\n",
       "    </tr>\n",
       "    <tr>\n",
       "      <th>FM_Redondance_MCC_12</th>\n",
       "      <td>0.815473</td>\n",
       "      <td>0.928384</td>\n",
       "      <td>1.000000</td>\n",
       "      <td>0.918083</td>\n",
       "    </tr>\n",
       "    <tr>\n",
       "      <th>FM_Redondance_MCC_24</th>\n",
       "      <td>0.642582</td>\n",
       "      <td>0.784288</td>\n",
       "      <td>0.918083</td>\n",
       "      <td>1.000000</td>\n",
       "    </tr>\n",
       "  </tbody>\n",
       "</table>\n",
       "</div>"
      ],
      "text/plain": [
       "                      FM_Redondance_MCC_3  FM_Redondance_MCC_6  \\\n",
       "FM_Redondance_MCC_3              1.000000             0.938014   \n",
       "FM_Redondance_MCC_6              0.938014             1.000000   \n",
       "FM_Redondance_MCC_12             0.815473             0.928384   \n",
       "FM_Redondance_MCC_24             0.642582             0.784288   \n",
       "\n",
       "                      FM_Redondance_MCC_12  FM_Redondance_MCC_24  \n",
       "FM_Redondance_MCC_3               0.815473              0.642582  \n",
       "FM_Redondance_MCC_6               0.928384              0.784288  \n",
       "FM_Redondance_MCC_12              1.000000              0.918083  \n",
       "FM_Redondance_MCC_24              0.918083              1.000000  "
      ]
     },
     "execution_count": 75,
     "metadata": {},
     "output_type": "execute_result"
    }
   ],
   "source": [
    "df.loc[:,['FM_Redondance_MCC_3','FM_Redondance_MCC_6','FM_Redondance_MCC_12','FM_Redondance_MCC_24']].corr()\n",
    "# a voir, on va surement en garder une seule "
   ]
  },
  {
   "cell_type": "code",
   "execution_count": 76,
   "metadata": {
    "colab": {
     "base_uri": "https://localhost:8080/",
     "height": 204
    },
    "colab_type": "code",
    "executionInfo": {
     "elapsed": 147527,
     "status": "ok",
     "timestamp": 1591441404481,
     "user": {
      "displayName": "Camille GEORGET",
      "photoUrl": "",
      "userId": "03622189545362805141"
     },
     "user_tz": -180
    },
    "id": "HPcUPWx0IIAM",
    "outputId": "5d24ed34-0dc2-44b4-f3a3-adb0f9e5222c"
   },
   "outputs": [
    {
     "data": {
      "text/plain": [
       "1     992586\n",
       "2     115218\n",
       "3      23820\n",
       "4       7801\n",
       "5       3581\n",
       "6       2018\n",
       "7       1340\n",
       "8        946\n",
       "9        700\n",
       "10       522\n",
       "Name: FM_Redondance_MCC_24, dtype: int64"
      ]
     },
     "execution_count": 76,
     "metadata": {},
     "output_type": "execute_result"
    }
   ],
   "source": [
    "df['FM_Redondance_MCC_24'].value_counts().head(10)"
   ]
  },
  {
   "cell_type": "markdown",
   "metadata": {
    "colab_type": "text",
    "id": "8e3J5FOUIIAO"
   },
   "source": [
    "Bilan : on garde cette variable telle quelle"
   ]
  },
  {
   "cell_type": "markdown",
   "metadata": {
    "colab_type": "text",
    "id": "pLgtKYzrIIAS"
   },
   "source": [
    "# l) Nb de transactions realisées dans des pays differents les X dernieres heures"
   ]
  },
  {
   "cell_type": "code",
   "execution_count": 77,
   "metadata": {
    "colab": {
     "base_uri": "https://localhost:8080/",
     "height": 34
    },
    "colab_type": "code",
    "executionInfo": {
     "elapsed": 147479,
     "status": "ok",
     "timestamp": 1591441404483,
     "user": {
      "displayName": "Camille GEORGET",
      "photoUrl": "",
      "userId": "03622189545362805141"
     },
     "user_tz": -180
    },
    "id": "N2nElRPWIIAS",
    "outputId": "7f0e331f-77cb-47b4-e022-467facb96b25"
   },
   "outputs": [
    {
     "data": {
      "text/plain": [
       "17"
      ]
     },
     "execution_count": 77,
     "metadata": {},
     "output_type": "execute_result"
    }
   ],
   "source": [
    "df.FM_Difference_Pays_24.nunique() # 17 modalités differentes au maximum sur les 24 dernieres heures"
   ]
  },
  {
   "cell_type": "code",
   "execution_count": 78,
   "metadata": {
    "colab": {
     "base_uri": "https://localhost:8080/",
     "height": 625
    },
    "colab_type": "code",
    "executionInfo": {
     "elapsed": 148324,
     "status": "ok",
     "timestamp": 1591441405361,
     "user": {
      "displayName": "Camille GEORGET",
      "photoUrl": "",
      "userId": "03622189545362805141"
     },
     "user_tz": -180
    },
    "id": "aA4FjZWYIIAU",
    "outputId": "6eac19c2-c738-44b8-96fe-f6664201d700"
   },
   "outputs": [
    {
     "data": {
      "text/html": [
       "<div>\n",
       "<style scoped>\n",
       "    .dataframe tbody tr th:only-of-type {\n",
       "        vertical-align: middle;\n",
       "    }\n",
       "\n",
       "    .dataframe tbody tr th {\n",
       "        vertical-align: top;\n",
       "    }\n",
       "\n",
       "    .dataframe thead th {\n",
       "        text-align: right;\n",
       "    }\n",
       "</style>\n",
       "<table border=\"1\" class=\"dataframe\">\n",
       "  <thead>\n",
       "    <tr style=\"text-align: right;\">\n",
       "      <th></th>\n",
       "      <th>index</th>\n",
       "      <th>a</th>\n",
       "      <th>b</th>\n",
       "      <th>missing_value</th>\n",
       "      <th>diff</th>\n",
       "    </tr>\n",
       "  </thead>\n",
       "  <tbody>\n",
       "    <tr>\n",
       "      <th>3</th>\n",
       "      <td>4</td>\n",
       "      <td>0.000745</td>\n",
       "      <td>0.005106</td>\n",
       "      <td>0</td>\n",
       "      <td>6.857415</td>\n",
       "    </tr>\n",
       "    <tr>\n",
       "      <th>2</th>\n",
       "      <td>3</td>\n",
       "      <td>0.003451</td>\n",
       "      <td>0.017113</td>\n",
       "      <td>0</td>\n",
       "      <td>4.958301</td>\n",
       "    </tr>\n",
       "    <tr>\n",
       "      <th>1</th>\n",
       "      <td>2</td>\n",
       "      <td>0.043780</td>\n",
       "      <td>0.102677</td>\n",
       "      <td>0</td>\n",
       "      <td>2.345324</td>\n",
       "    </tr>\n",
       "    <tr>\n",
       "      <th>4</th>\n",
       "      <td>5</td>\n",
       "      <td>0.000251</td>\n",
       "      <td>0.000552</td>\n",
       "      <td>0</td>\n",
       "      <td>2.200779</td>\n",
       "    </tr>\n",
       "    <tr>\n",
       "      <th>0</th>\n",
       "      <td>1</td>\n",
       "      <td>0.951473</td>\n",
       "      <td>0.874551</td>\n",
       "      <td>0</td>\n",
       "      <td>0.919155</td>\n",
       "    </tr>\n",
       "    <tr>\n",
       "      <th>5</th>\n",
       "      <td>6</td>\n",
       "      <td>0.000145</td>\n",
       "      <td>0.000000</td>\n",
       "      <td>1</td>\n",
       "      <td>0.000000</td>\n",
       "    </tr>\n",
       "    <tr>\n",
       "      <th>6</th>\n",
       "      <td>7</td>\n",
       "      <td>0.000064</td>\n",
       "      <td>0.000000</td>\n",
       "      <td>1</td>\n",
       "      <td>0.000000</td>\n",
       "    </tr>\n",
       "    <tr>\n",
       "      <th>7</th>\n",
       "      <td>8</td>\n",
       "      <td>0.000050</td>\n",
       "      <td>0.000000</td>\n",
       "      <td>1</td>\n",
       "      <td>0.000000</td>\n",
       "    </tr>\n",
       "    <tr>\n",
       "      <th>8</th>\n",
       "      <td>9</td>\n",
       "      <td>0.000031</td>\n",
       "      <td>0.000000</td>\n",
       "      <td>1</td>\n",
       "      <td>0.000000</td>\n",
       "    </tr>\n",
       "    <tr>\n",
       "      <th>9</th>\n",
       "      <td>10</td>\n",
       "      <td>0.000011</td>\n",
       "      <td>0.000000</td>\n",
       "      <td>1</td>\n",
       "      <td>0.000000</td>\n",
       "    </tr>\n",
       "  </tbody>\n",
       "</table>\n",
       "</div>"
      ],
      "text/plain": [
       "   index         a         b  missing_value      diff\n",
       "3      4  0.000745  0.005106              0  6.857415\n",
       "2      3  0.003451  0.017113              0  4.958301\n",
       "1      2  0.043780  0.102677              0  2.345324\n",
       "4      5  0.000251  0.000552              0  2.200779\n",
       "0      1  0.951473  0.874551              0  0.919155\n",
       "5      6  0.000145  0.000000              1  0.000000\n",
       "6      7  0.000064  0.000000              1  0.000000\n",
       "7      8  0.000050  0.000000              1  0.000000\n",
       "8      9  0.000031  0.000000              1  0.000000\n",
       "9     10  0.000011  0.000000              1  0.000000"
      ]
     },
     "execution_count": 78,
     "metadata": {},
     "output_type": "execute_result"
    },
    {
     "data": {
      "image/png": "[encoded data removed]",
      "text/plain": [
       "<Figure size 432x288 with 2 Axes>"
      ]
     },
     "metadata": {
      "needs_background": "light"
     },
     "output_type": "display_data"
    }
   ],
   "source": [
    "df['FM_Difference_Pays_3'].hist(by=df['fraude'], bins=50)\n",
    "impact_fraude('FM_Difference_Pays_3').head(18)"
   ]
  },
  {
   "cell_type": "code",
   "execution_count": 79,
   "metadata": {
    "colab": {
     "base_uri": "https://localhost:8080/",
     "height": 780
    },
    "colab_type": "code",
    "executionInfo": {
     "elapsed": 149166,
     "status": "ok",
     "timestamp": 1591441406238,
     "user": {
      "displayName": "Camille GEORGET",
      "photoUrl": "",
      "userId": "03622189545362805141"
     },
     "user_tz": -180
    },
    "id": "_I-ZosPCIIAV",
    "outputId": "9ddedc73-ca35-4d64-ef5a-97bc178d0125"
   },
   "outputs": [
    {
     "data": {
      "text/html": [
       "<div>\n",
       "<style scoped>\n",
       "    .dataframe tbody tr th:only-of-type {\n",
       "        vertical-align: middle;\n",
       "    }\n",
       "\n",
       "    .dataframe tbody tr th {\n",
       "        vertical-align: top;\n",
       "    }\n",
       "\n",
       "    .dataframe thead th {\n",
       "        text-align: right;\n",
       "    }\n",
       "</style>\n",
       "<table border=\"1\" class=\"dataframe\">\n",
       "  <thead>\n",
       "    <tr style=\"text-align: right;\">\n",
       "      <th></th>\n",
       "      <th>index</th>\n",
       "      <th>a</th>\n",
       "      <th>b</th>\n",
       "      <th>missing_value</th>\n",
       "      <th>diff</th>\n",
       "    </tr>\n",
       "  </thead>\n",
       "  <tbody>\n",
       "    <tr>\n",
       "      <th>3</th>\n",
       "      <td>4</td>\n",
       "      <td>9.360366e-04</td>\n",
       "      <td>0.007728</td>\n",
       "      <td>0</td>\n",
       "      <td>8.256517</td>\n",
       "    </tr>\n",
       "    <tr>\n",
       "      <th>4</th>\n",
       "      <td>5</td>\n",
       "      <td>4.116464e-04</td>\n",
       "      <td>0.002346</td>\n",
       "      <td>0</td>\n",
       "      <td>5.699363</td>\n",
       "    </tr>\n",
       "    <tr>\n",
       "      <th>2</th>\n",
       "      <td>3</td>\n",
       "      <td>4.559573e-03</td>\n",
       "      <td>0.022219</td>\n",
       "      <td>0</td>\n",
       "      <td>4.873078</td>\n",
       "    </tr>\n",
       "    <tr>\n",
       "      <th>1</th>\n",
       "      <td>2</td>\n",
       "      <td>5.326057e-02</td>\n",
       "      <td>0.118548</td>\n",
       "      <td>0</td>\n",
       "      <td>2.225815</td>\n",
       "    </tr>\n",
       "    <tr>\n",
       "      <th>0</th>\n",
       "      <td>1</td>\n",
       "      <td>9.401767e-01</td>\n",
       "      <td>0.849020</td>\n",
       "      <td>0</td>\n",
       "      <td>0.903043</td>\n",
       "    </tr>\n",
       "    <tr>\n",
       "      <th>5</th>\n",
       "      <td>6</td>\n",
       "      <td>2.656911e-04</td>\n",
       "      <td>0.000138</td>\n",
       "      <td>0</td>\n",
       "      <td>0.519427</td>\n",
       "    </tr>\n",
       "    <tr>\n",
       "      <th>6</th>\n",
       "      <td>7</td>\n",
       "      <td>1.214837e-04</td>\n",
       "      <td>0.000000</td>\n",
       "      <td>1</td>\n",
       "      <td>0.000000</td>\n",
       "    </tr>\n",
       "    <tr>\n",
       "      <th>7</th>\n",
       "      <td>8</td>\n",
       "      <td>1.031301e-04</td>\n",
       "      <td>0.000000</td>\n",
       "      <td>1</td>\n",
       "      <td>0.000000</td>\n",
       "    </tr>\n",
       "    <tr>\n",
       "      <th>8</th>\n",
       "      <td>9</td>\n",
       "      <td>7.428862e-05</td>\n",
       "      <td>0.000000</td>\n",
       "      <td>1</td>\n",
       "      <td>0.000000</td>\n",
       "    </tr>\n",
       "    <tr>\n",
       "      <th>9</th>\n",
       "      <td>10</td>\n",
       "      <td>4.020325e-05</td>\n",
       "      <td>0.000000</td>\n",
       "      <td>1</td>\n",
       "      <td>0.000000</td>\n",
       "    </tr>\n",
       "    <tr>\n",
       "      <th>10</th>\n",
       "      <td>11</td>\n",
       "      <td>3.495935e-05</td>\n",
       "      <td>0.000000</td>\n",
       "      <td>1</td>\n",
       "      <td>0.000000</td>\n",
       "    </tr>\n",
       "    <tr>\n",
       "      <th>11</th>\n",
       "      <td>12</td>\n",
       "      <td>1.136179e-05</td>\n",
       "      <td>0.000000</td>\n",
       "      <td>1</td>\n",
       "      <td>0.000000</td>\n",
       "    </tr>\n",
       "    <tr>\n",
       "      <th>12</th>\n",
       "      <td>14</td>\n",
       "      <td>2.621951e-06</td>\n",
       "      <td>0.000000</td>\n",
       "      <td>1</td>\n",
       "      <td>0.000000</td>\n",
       "    </tr>\n",
       "    <tr>\n",
       "      <th>13</th>\n",
       "      <td>15</td>\n",
       "      <td>8.739838e-07</td>\n",
       "      <td>0.000000</td>\n",
       "      <td>1</td>\n",
       "      <td>0.000000</td>\n",
       "    </tr>\n",
       "    <tr>\n",
       "      <th>14</th>\n",
       "      <td>13</td>\n",
       "      <td>8.739838e-07</td>\n",
       "      <td>0.000000</td>\n",
       "      <td>1</td>\n",
       "      <td>0.000000</td>\n",
       "    </tr>\n",
       "  </tbody>\n",
       "</table>\n",
       "</div>"
      ],
      "text/plain": [
       "    index             a         b  missing_value      diff\n",
       "3       4  9.360366e-04  0.007728              0  8.256517\n",
       "4       5  4.116464e-04  0.002346              0  5.699363\n",
       "2       3  4.559573e-03  0.022219              0  4.873078\n",
       "1       2  5.326057e-02  0.118548              0  2.225815\n",
       "0       1  9.401767e-01  0.849020              0  0.903043\n",
       "5       6  2.656911e-04  0.000138              0  0.519427\n",
       "6       7  1.214837e-04  0.000000              1  0.000000\n",
       "7       8  1.031301e-04  0.000000              1  0.000000\n",
       "8       9  7.428862e-05  0.000000              1  0.000000\n",
       "9      10  4.020325e-05  0.000000              1  0.000000\n",
       "10     11  3.495935e-05  0.000000              1  0.000000\n",
       "11     12  1.136179e-05  0.000000              1  0.000000\n",
       "12     14  2.621951e-06  0.000000              1  0.000000\n",
       "13     15  8.739838e-07  0.000000              1  0.000000\n",
       "14     13  8.739838e-07  0.000000              1  0.000000"
      ]
     },
     "execution_count": 79,
     "metadata": {},
     "output_type": "execute_result"
    },
    {
     "data": {
      "image/png": "[encoded data removed]",
      "text/plain": [
       "<Figure size 432x288 with 2 Axes>"
      ]
     },
     "metadata": {
      "needs_background": "light"
     },
     "output_type": "display_data"
    }
   ],
   "source": [
    "df['FM_Difference_Pays_6'].hist(by=df['fraude'], bins=50)\n",
    "impact_fraude('FM_Difference_Pays_6').head(20)"
   ]
  },
  {
   "cell_type": "code",
   "execution_count": 80,
   "metadata": {
    "colab": {
     "base_uri": "https://localhost:8080/",
     "height": 780
    },
    "colab_type": "code",
    "executionInfo": {
     "elapsed": 149667,
     "status": "ok",
     "timestamp": 1591441406772,
     "user": {
      "displayName": "Camille GEORGET",
      "photoUrl": "",
      "userId": "03622189545362805141"
     },
     "user_tz": -180
    },
    "id": "NlEY4qiDIIAX",
    "outputId": "04571f61-77d4-4dc8-ee33-5671029d3ff5"
   },
   "outputs": [
    {
     "data": {
      "text/html": [
       "<div>\n",
       "<style scoped>\n",
       "    .dataframe tbody tr th:only-of-type {\n",
       "        vertical-align: middle;\n",
       "    }\n",
       "\n",
       "    .dataframe tbody tr th {\n",
       "        vertical-align: top;\n",
       "    }\n",
       "\n",
       "    .dataframe thead th {\n",
       "        text-align: right;\n",
       "    }\n",
       "</style>\n",
       "<table border=\"1\" class=\"dataframe\">\n",
       "  <thead>\n",
       "    <tr style=\"text-align: right;\">\n",
       "      <th></th>\n",
       "      <th>index</th>\n",
       "      <th>a</th>\n",
       "      <th>b</th>\n",
       "      <th>missing_value</th>\n",
       "      <th>diff</th>\n",
       "    </tr>\n",
       "  </thead>\n",
       "  <tbody>\n",
       "    <tr>\n",
       "      <th>3</th>\n",
       "      <td>4</td>\n",
       "      <td>0.001062</td>\n",
       "      <td>0.009246</td>\n",
       "      <td>0</td>\n",
       "      <td>8.707567</td>\n",
       "    </tr>\n",
       "    <tr>\n",
       "      <th>2</th>\n",
       "      <td>3</td>\n",
       "      <td>0.005808</td>\n",
       "      <td>0.025393</td>\n",
       "      <td>0</td>\n",
       "      <td>4.372413</td>\n",
       "    </tr>\n",
       "    <tr>\n",
       "      <th>4</th>\n",
       "      <td>5</td>\n",
       "      <td>0.000553</td>\n",
       "      <td>0.001794</td>\n",
       "      <td>0</td>\n",
       "      <td>3.242933</td>\n",
       "    </tr>\n",
       "    <tr>\n",
       "      <th>5</th>\n",
       "      <td>6</td>\n",
       "      <td>0.000397</td>\n",
       "      <td>0.001242</td>\n",
       "      <td>0</td>\n",
       "      <td>3.130293</td>\n",
       "    </tr>\n",
       "    <tr>\n",
       "      <th>1</th>\n",
       "      <td>2</td>\n",
       "      <td>0.062875</td>\n",
       "      <td>0.139525</td>\n",
       "      <td>0</td>\n",
       "      <td>2.219080</td>\n",
       "    </tr>\n",
       "    <tr>\n",
       "      <th>0</th>\n",
       "      <td>1</td>\n",
       "      <td>0.928592</td>\n",
       "      <td>0.822799</td>\n",
       "      <td>0</td>\n",
       "      <td>0.886071</td>\n",
       "    </tr>\n",
       "    <tr>\n",
       "      <th>6</th>\n",
       "      <td>7</td>\n",
       "      <td>0.000243</td>\n",
       "      <td>0.000000</td>\n",
       "      <td>1</td>\n",
       "      <td>0.000000</td>\n",
       "    </tr>\n",
       "    <tr>\n",
       "      <th>7</th>\n",
       "      <td>8</td>\n",
       "      <td>0.000156</td>\n",
       "      <td>0.000000</td>\n",
       "      <td>1</td>\n",
       "      <td>0.000000</td>\n",
       "    </tr>\n",
       "    <tr>\n",
       "      <th>8</th>\n",
       "      <td>9</td>\n",
       "      <td>0.000116</td>\n",
       "      <td>0.000000</td>\n",
       "      <td>1</td>\n",
       "      <td>0.000000</td>\n",
       "    </tr>\n",
       "    <tr>\n",
       "      <th>9</th>\n",
       "      <td>10</td>\n",
       "      <td>0.000080</td>\n",
       "      <td>0.000000</td>\n",
       "      <td>1</td>\n",
       "      <td>0.000000</td>\n",
       "    </tr>\n",
       "    <tr>\n",
       "      <th>10</th>\n",
       "      <td>11</td>\n",
       "      <td>0.000056</td>\n",
       "      <td>0.000000</td>\n",
       "      <td>1</td>\n",
       "      <td>0.000000</td>\n",
       "    </tr>\n",
       "    <tr>\n",
       "      <th>11</th>\n",
       "      <td>12</td>\n",
       "      <td>0.000035</td>\n",
       "      <td>0.000000</td>\n",
       "      <td>1</td>\n",
       "      <td>0.000000</td>\n",
       "    </tr>\n",
       "    <tr>\n",
       "      <th>12</th>\n",
       "      <td>13</td>\n",
       "      <td>0.000022</td>\n",
       "      <td>0.000000</td>\n",
       "      <td>1</td>\n",
       "      <td>0.000000</td>\n",
       "    </tr>\n",
       "    <tr>\n",
       "      <th>13</th>\n",
       "      <td>14</td>\n",
       "      <td>0.000003</td>\n",
       "      <td>0.000000</td>\n",
       "      <td>1</td>\n",
       "      <td>0.000000</td>\n",
       "    </tr>\n",
       "    <tr>\n",
       "      <th>14</th>\n",
       "      <td>15</td>\n",
       "      <td>0.000002</td>\n",
       "      <td>0.000000</td>\n",
       "      <td>1</td>\n",
       "      <td>0.000000</td>\n",
       "    </tr>\n",
       "  </tbody>\n",
       "</table>\n",
       "</div>"
      ],
      "text/plain": [
       "    index         a         b  missing_value      diff\n",
       "3       4  0.001062  0.009246              0  8.707567\n",
       "2       3  0.005808  0.025393              0  4.372413\n",
       "4       5  0.000553  0.001794              0  3.242933\n",
       "5       6  0.000397  0.001242              0  3.130293\n",
       "1       2  0.062875  0.139525              0  2.219080\n",
       "0       1  0.928592  0.822799              0  0.886071\n",
       "6       7  0.000243  0.000000              1  0.000000\n",
       "7       8  0.000156  0.000000              1  0.000000\n",
       "8       9  0.000116  0.000000              1  0.000000\n",
       "9      10  0.000080  0.000000              1  0.000000\n",
       "10     11  0.000056  0.000000              1  0.000000\n",
       "11     12  0.000035  0.000000              1  0.000000\n",
       "12     13  0.000022  0.000000              1  0.000000\n",
       "13     14  0.000003  0.000000              1  0.000000\n",
       "14     15  0.000002  0.000000              1  0.000000"
      ]
     },
     "execution_count": 80,
     "metadata": {},
     "output_type": "execute_result"
    },
    {
     "data": {
      "image/png": "[encoded data removed]",
      "text/plain": [
       "<Figure size 432x288 with 2 Axes>"
      ]
     },
     "metadata": {
      "needs_background": "light"
     },
     "output_type": "display_data"
    }
   ],
   "source": [
    "df['FM_Difference_Pays_12'].hist(by=df['fraude'], bins=50)\n",
    "impact_fraude('FM_Difference_Pays_12').head(20)"
   ]
  },
  {
   "cell_type": "code",
   "execution_count": 81,
   "metadata": {
    "colab": {
     "base_uri": "https://localhost:8080/",
     "height": 842
    },
    "colab_type": "code",
    "executionInfo": {
     "elapsed": 150515,
     "status": "ok",
     "timestamp": 1591441407649,
     "user": {
      "displayName": "Camille GEORGET",
      "photoUrl": "",
      "userId": "03622189545362805141"
     },
     "user_tz": -180
    },
    "id": "CZDq17lfIIAY",
    "outputId": "7ae6d34f-1a86-4948-e9f1-206b50cc4d65"
   },
   "outputs": [
    {
     "data": {
      "text/html": [
       "<div>\n",
       "<style scoped>\n",
       "    .dataframe tbody tr th:only-of-type {\n",
       "        vertical-align: middle;\n",
       "    }\n",
       "\n",
       "    .dataframe tbody tr th {\n",
       "        vertical-align: top;\n",
       "    }\n",
       "\n",
       "    .dataframe thead th {\n",
       "        text-align: right;\n",
       "    }\n",
       "</style>\n",
       "<table border=\"1\" class=\"dataframe\">\n",
       "  <thead>\n",
       "    <tr style=\"text-align: right;\">\n",
       "      <th></th>\n",
       "      <th>index</th>\n",
       "      <th>a</th>\n",
       "      <th>b</th>\n",
       "      <th>missing_value</th>\n",
       "      <th>diff</th>\n",
       "    </tr>\n",
       "  </thead>\n",
       "  <tbody>\n",
       "    <tr>\n",
       "      <th>4</th>\n",
       "      <td>5</td>\n",
       "      <td>0.000589</td>\n",
       "      <td>0.006624</td>\n",
       "      <td>0</td>\n",
       "      <td>11.245523</td>\n",
       "    </tr>\n",
       "    <tr>\n",
       "      <th>3</th>\n",
       "      <td>4</td>\n",
       "      <td>0.001393</td>\n",
       "      <td>0.010627</td>\n",
       "      <td>0</td>\n",
       "      <td>7.627825</td>\n",
       "    </tr>\n",
       "    <tr>\n",
       "      <th>5</th>\n",
       "      <td>6</td>\n",
       "      <td>0.000473</td>\n",
       "      <td>0.003174</td>\n",
       "      <td>0</td>\n",
       "      <td>6.713189</td>\n",
       "    </tr>\n",
       "    <tr>\n",
       "      <th>2</th>\n",
       "      <td>3</td>\n",
       "      <td>0.009463</td>\n",
       "      <td>0.032846</td>\n",
       "      <td>0</td>\n",
       "      <td>3.471100</td>\n",
       "    </tr>\n",
       "    <tr>\n",
       "      <th>6</th>\n",
       "      <td>7</td>\n",
       "      <td>0.000456</td>\n",
       "      <td>0.000966</td>\n",
       "      <td>0</td>\n",
       "      <td>2.117512</td>\n",
       "    </tr>\n",
       "    <tr>\n",
       "      <th>1</th>\n",
       "      <td>2</td>\n",
       "      <td>0.083990</td>\n",
       "      <td>0.165195</td>\n",
       "      <td>0</td>\n",
       "      <td>1.966840</td>\n",
       "    </tr>\n",
       "    <tr>\n",
       "      <th>0</th>\n",
       "      <td>1</td>\n",
       "      <td>0.902367</td>\n",
       "      <td>0.780569</td>\n",
       "      <td>0</td>\n",
       "      <td>0.865023</td>\n",
       "    </tr>\n",
       "    <tr>\n",
       "      <th>12</th>\n",
       "      <td>13</td>\n",
       "      <td>0.000090</td>\n",
       "      <td>0.000000</td>\n",
       "      <td>1</td>\n",
       "      <td>0.000000</td>\n",
       "    </tr>\n",
       "    <tr>\n",
       "      <th>15</th>\n",
       "      <td>16</td>\n",
       "      <td>0.000011</td>\n",
       "      <td>0.000000</td>\n",
       "      <td>1</td>\n",
       "      <td>0.000000</td>\n",
       "    </tr>\n",
       "    <tr>\n",
       "      <th>14</th>\n",
       "      <td>15</td>\n",
       "      <td>0.000026</td>\n",
       "      <td>0.000000</td>\n",
       "      <td>1</td>\n",
       "      <td>0.000000</td>\n",
       "    </tr>\n",
       "    <tr>\n",
       "      <th>13</th>\n",
       "      <td>14</td>\n",
       "      <td>0.000050</td>\n",
       "      <td>0.000000</td>\n",
       "      <td>1</td>\n",
       "      <td>0.000000</td>\n",
       "    </tr>\n",
       "    <tr>\n",
       "      <th>8</th>\n",
       "      <td>9</td>\n",
       "      <td>0.000270</td>\n",
       "      <td>0.000000</td>\n",
       "      <td>1</td>\n",
       "      <td>0.000000</td>\n",
       "    </tr>\n",
       "    <tr>\n",
       "      <th>11</th>\n",
       "      <td>12</td>\n",
       "      <td>0.000132</td>\n",
       "      <td>0.000000</td>\n",
       "      <td>1</td>\n",
       "      <td>0.000000</td>\n",
       "    </tr>\n",
       "    <tr>\n",
       "      <th>10</th>\n",
       "      <td>10</td>\n",
       "      <td>0.000153</td>\n",
       "      <td>0.000000</td>\n",
       "      <td>1</td>\n",
       "      <td>0.000000</td>\n",
       "    </tr>\n",
       "    <tr>\n",
       "      <th>9</th>\n",
       "      <td>11</td>\n",
       "      <td>0.000176</td>\n",
       "      <td>0.000000</td>\n",
       "      <td>1</td>\n",
       "      <td>0.000000</td>\n",
       "    </tr>\n",
       "    <tr>\n",
       "      <th>7</th>\n",
       "      <td>8</td>\n",
       "      <td>0.000359</td>\n",
       "      <td>0.000000</td>\n",
       "      <td>1</td>\n",
       "      <td>0.000000</td>\n",
       "    </tr>\n",
       "    <tr>\n",
       "      <th>16</th>\n",
       "      <td>17</td>\n",
       "      <td>0.000002</td>\n",
       "      <td>0.000000</td>\n",
       "      <td>1</td>\n",
       "      <td>0.000000</td>\n",
       "    </tr>\n",
       "  </tbody>\n",
       "</table>\n",
       "</div>"
      ],
      "text/plain": [
       "    index         a         b  missing_value       diff\n",
       "4       5  0.000589  0.006624              0  11.245523\n",
       "3       4  0.001393  0.010627              0   7.627825\n",
       "5       6  0.000473  0.003174              0   6.713189\n",
       "2       3  0.009463  0.032846              0   3.471100\n",
       "6       7  0.000456  0.000966              0   2.117512\n",
       "1       2  0.083990  0.165195              0   1.966840\n",
       "0       1  0.902367  0.780569              0   0.865023\n",
       "12     13  0.000090  0.000000              1   0.000000\n",
       "15     16  0.000011  0.000000              1   0.000000\n",
       "14     15  0.000026  0.000000              1   0.000000\n",
       "13     14  0.000050  0.000000              1   0.000000\n",
       "8       9  0.000270  0.000000              1   0.000000\n",
       "11     12  0.000132  0.000000              1   0.000000\n",
       "10     10  0.000153  0.000000              1   0.000000\n",
       "9      11  0.000176  0.000000              1   0.000000\n",
       "7       8  0.000359  0.000000              1   0.000000\n",
       "16     17  0.000002  0.000000              1   0.000000"
      ]
     },
     "execution_count": 81,
     "metadata": {},
     "output_type": "execute_result"
    },
    {
     "data": {
      "image/png": "[encoded data removed]",
      "text/plain": [
       "<Figure size 432x288 with 2 Axes>"
      ]
     },
     "metadata": {
      "needs_background": "light"
     },
     "output_type": "display_data"
    }
   ],
   "source": [
    "df['FM_Difference_Pays_24'].hist(by=df['fraude'], bins=50)\n",
    "impact_fraude('FM_Difference_Pays_24').head(18)"
   ]
  },
  {
   "cell_type": "code",
   "execution_count": 82,
   "metadata": {
    "colab": {
     "base_uri": "https://localhost:8080/",
     "height": 323
    },
    "colab_type": "code",
    "executionInfo": {
     "elapsed": 150491,
     "status": "ok",
     "timestamp": 1591441407650,
     "user": {
      "displayName": "Camille GEORGET",
      "photoUrl": "",
      "userId": "03622189545362805141"
     },
     "user_tz": -180
    },
    "id": "niqYFxXiIIAa",
    "outputId": "e6ae5f2e-ad77-4224-e121-b4dc6bf8cc6b"
   },
   "outputs": [
    {
     "data": {
      "text/plain": [
       "1     1038132\n",
       "2       97297\n",
       "3       11065\n",
       "4        1671\n",
       "5         722\n",
       "6         564\n",
       "7         529\n",
       "8         411\n",
       "9         309\n",
       "11        201\n",
       "10        175\n",
       "12        151\n",
       "13        103\n",
       "14         57\n",
       "15         30\n",
       "16         13\n",
       "17          2\n",
       "Name: FM_Difference_Pays_24, dtype: int64"
      ]
     },
     "execution_count": 82,
     "metadata": {},
     "output_type": "execute_result"
    }
   ],
   "source": [
    "df['FM_Difference_Pays_24'].value_counts()"
   ]
  },
  {
   "cell_type": "markdown",
   "metadata": {
    "colab_type": "text",
    "id": "yYULn8gKIIAb"
   },
   "source": [
    "Bilan de cette variable, dès qu'on depasse les 1 il faut se mefier de la transaction a mon avis. Pas tout a fait finalement. Entre 2 et 6-7 ya plus de fraude, mais apres yen a pas, donc la relation n'est pas forcement lineaire."
   ]
  },
  {
   "cell_type": "code",
   "execution_count": 83,
   "metadata": {
    "colab": {
     "base_uri": "https://localhost:8080/",
     "height": 173
    },
    "colab_type": "code",
    "executionInfo": {
     "elapsed": 150469,
     "status": "ok",
     "timestamp": 1591441407651,
     "user": {
      "displayName": "Camille GEORGET",
      "photoUrl": "",
      "userId": "03622189545362805141"
     },
     "user_tz": -180
    },
    "id": "ydzu_RuWIIAb",
    "outputId": "6232d6a2-9f3f-4f6f-95c6-5df977d9280f"
   },
   "outputs": [
    {
     "data": {
      "text/html": [
       "<div>\n",
       "<style scoped>\n",
       "    .dataframe tbody tr th:only-of-type {\n",
       "        vertical-align: middle;\n",
       "    }\n",
       "\n",
       "    .dataframe tbody tr th {\n",
       "        vertical-align: top;\n",
       "    }\n",
       "\n",
       "    .dataframe thead th {\n",
       "        text-align: right;\n",
       "    }\n",
       "</style>\n",
       "<table border=\"1\" class=\"dataframe\">\n",
       "  <thead>\n",
       "    <tr style=\"text-align: right;\">\n",
       "      <th></th>\n",
       "      <th>FM_Difference_Pays_3</th>\n",
       "      <th>FM_Difference_Pays_6</th>\n",
       "      <th>FM_Difference_Pays_12</th>\n",
       "      <th>FM_Difference_Pays_24</th>\n",
       "    </tr>\n",
       "  </thead>\n",
       "  <tbody>\n",
       "    <tr>\n",
       "      <th>FM_Difference_Pays_3</th>\n",
       "      <td>1.000000</td>\n",
       "      <td>0.903196</td>\n",
       "      <td>0.817996</td>\n",
       "      <td>0.700447</td>\n",
       "    </tr>\n",
       "    <tr>\n",
       "      <th>FM_Difference_Pays_6</th>\n",
       "      <td>0.903196</td>\n",
       "      <td>1.000000</td>\n",
       "      <td>0.922671</td>\n",
       "      <td>0.796280</td>\n",
       "    </tr>\n",
       "    <tr>\n",
       "      <th>FM_Difference_Pays_12</th>\n",
       "      <td>0.817996</td>\n",
       "      <td>0.922671</td>\n",
       "      <td>1.000000</td>\n",
       "      <td>0.875230</td>\n",
       "    </tr>\n",
       "    <tr>\n",
       "      <th>FM_Difference_Pays_24</th>\n",
       "      <td>0.700447</td>\n",
       "      <td>0.796280</td>\n",
       "      <td>0.875230</td>\n",
       "      <td>1.000000</td>\n",
       "    </tr>\n",
       "  </tbody>\n",
       "</table>\n",
       "</div>"
      ],
      "text/plain": [
       "                       FM_Difference_Pays_3  FM_Difference_Pays_6  \\\n",
       "FM_Difference_Pays_3               1.000000              0.903196   \n",
       "FM_Difference_Pays_6               0.903196              1.000000   \n",
       "FM_Difference_Pays_12              0.817996              0.922671   \n",
       "FM_Difference_Pays_24              0.700447              0.796280   \n",
       "\n",
       "                       FM_Difference_Pays_12  FM_Difference_Pays_24  \n",
       "FM_Difference_Pays_3                0.817996               0.700447  \n",
       "FM_Difference_Pays_6                0.922671               0.796280  \n",
       "FM_Difference_Pays_12               1.000000               0.875230  \n",
       "FM_Difference_Pays_24               0.875230               1.000000  "
      ]
     },
     "execution_count": 83,
     "metadata": {},
     "output_type": "execute_result"
    }
   ],
   "source": [
    "df.loc[:,['FM_Difference_Pays_3','FM_Difference_Pays_6','FM_Difference_Pays_12','FM_Difference_Pays_24']].corr()\n",
    "# tres correlées on va en garder une je pense, on verra "
   ]
  },
  {
   "cell_type": "markdown",
   "metadata": {
    "colab_type": "text",
    "id": "Q5OMTclJIIAd"
   },
   "source": [
    "on va laisser cette variable telle quelle "
   ]
  },
  {
   "cell_type": "code",
   "execution_count": null,
   "metadata": {
    "colab": {},
    "colab_type": "code",
    "id": "TAbIRTclIIAd"
   },
   "outputs": [],
   "source": []
  },
  {
   "cell_type": "markdown",
   "metadata": {
    "colab_type": "text",
    "id": "0beTqP3yIIAe"
   },
   "source": [
    "Fin de la premiere visualisation des variable"
   ]
  },
  {
   "cell_type": "code",
   "execution_count": null,
   "metadata": {
    "colab": {},
    "colab_type": "code",
    "id": "fs4bnkW4IIAf"
   },
   "outputs": [],
   "source": []
  },
  {
   "cell_type": "code",
   "execution_count": null,
   "metadata": {
    "colab": {},
    "colab_type": "code",
    "id": "urOphZ1FIIAg"
   },
   "outputs": [],
   "source": []
  },
  {
   "cell_type": "code",
   "execution_count": null,
   "metadata": {
    "colab": {},
    "colab_type": "code",
    "id": "feQXnBtDIIAh"
   },
   "outputs": [],
   "source": []
  },
  {
   "cell_type": "code",
   "execution_count": null,
   "metadata": {
    "colab": {},
    "colab_type": "code",
    "id": "BP83r6mVIIAj"
   },
   "outputs": [],
   "source": []
  },
  {
   "cell_type": "code",
   "execution_count": null,
   "metadata": {
    "colab": {},
    "colab_type": "code",
    "id": "PH813a6SIIAk"
   },
   "outputs": [],
   "source": []
  },
  {
   "cell_type": "code",
   "execution_count": null,
   "metadata": {
    "colab": {},
    "colab_type": "code",
    "id": "8J2ZWEojIIAl"
   },
   "outputs": [],
   "source": []
  },
  {
   "cell_type": "code",
   "execution_count": null,
   "metadata": {
    "colab": {},
    "colab_type": "code",
    "id": "LOv42dxOIIAp"
   },
   "outputs": [],
   "source": []
  },
  {
   "cell_type": "code",
   "execution_count": null,
   "metadata": {
    "colab": {},
    "colab_type": "code",
    "id": "Zob2p7DTIIAr"
   },
   "outputs": [],
   "source": []
  },
  {
   "cell_type": "markdown",
   "metadata": {
    "colab_type": "text",
    "id": "b6j-anSaIIAs"
   },
   "source": [
    "# II. Creation du jeu de train et du jeu de test\n",
    "\n",
    "\n",
    "On va creer un jeu de Train, Test, on va en mettre autant en proportion dans le jeu de train et de test.\n",
    "\n",
    "Pour les arbres :forets il faudra aussi convertir en dummy les variables categorielles non ordonnées"
   ]
  },
  {
   "cell_type": "code",
   "execution_count": 84,
   "metadata": {
    "colab": {},
    "colab_type": "code",
    "id": "4gwtsfEUIIAs"
   },
   "outputs": [],
   "source": [
    "#On va enlever les variables Carte, Date , et les variables pour lesquelles on a cree une v2\n",
    "\n",
    "# Note IMPORTANTE : je retire les variable sur 3,6,12 heures car apres les avoir inclues dans un arbre, j'ai regardé les 'important features' et c'etait\n",
    "# les variables sur 24h qui etaient le plus important (cf plus bas)\n",
    "df2= df.drop(['Date','Carte','Pays','Heure','CodeRep','MCC'],axis=1)"
   ]
  },
  {
   "cell_type": "code",
   "execution_count": 85,
   "metadata": {
    "colab": {
     "base_uri": "https://localhost:8080/",
     "height": 224
    },
    "colab_type": "code",
    "executionInfo": {
     "elapsed": 150698,
     "status": "ok",
     "timestamp": 1591441407969,
     "user": {
      "displayName": "Camille GEORGET",
      "photoUrl": "",
      "userId": "03622189545362805141"
     },
     "user_tz": -180
    },
    "id": "tGkzyY8jIIAu",
    "outputId": "b327ccde-910e-48bc-a170-ab88251bef95"
   },
   "outputs": [
    {
     "data": {
      "text/html": [
       "<div>\n",
       "<style scoped>\n",
       "    .dataframe tbody tr th:only-of-type {\n",
       "        vertical-align: middle;\n",
       "    }\n",
       "\n",
       "    .dataframe tbody tr th {\n",
       "        vertical-align: top;\n",
       "    }\n",
       "\n",
       "    .dataframe thead th {\n",
       "        text-align: right;\n",
       "    }\n",
       "</style>\n",
       "<table border=\"1\" class=\"dataframe\">\n",
       "  <thead>\n",
       "    <tr style=\"text-align: right;\">\n",
       "      <th></th>\n",
       "      <th>Montant</th>\n",
       "      <th>fraude</th>\n",
       "      <th>FM_Velocity_Condition_3</th>\n",
       "      <th>FM_Velocity_Condition_6</th>\n",
       "      <th>FM_Velocity_Condition_12</th>\n",
       "      <th>FM_Velocity_Condition_24</th>\n",
       "      <th>FM_Sum_3</th>\n",
       "      <th>FM_Sum_6</th>\n",
       "      <th>FM_Sum_12</th>\n",
       "      <th>FM_Sum_24</th>\n",
       "      <th>...</th>\n",
       "      <th>FM_Redondance_MCC_12</th>\n",
       "      <th>FM_Redondance_MCC_24</th>\n",
       "      <th>FM_Difference_Pays_3</th>\n",
       "      <th>FM_Difference_Pays_6</th>\n",
       "      <th>FM_Difference_Pays_12</th>\n",
       "      <th>FM_Difference_Pays_24</th>\n",
       "      <th>Pays_v2</th>\n",
       "      <th>Heure_v2</th>\n",
       "      <th>CodeRep_v2</th>\n",
       "      <th>MCC_v2</th>\n",
       "    </tr>\n",
       "  </thead>\n",
       "  <tbody>\n",
       "    <tr>\n",
       "      <th>0</th>\n",
       "      <td>69.25</td>\n",
       "      <td>0</td>\n",
       "      <td>0</td>\n",
       "      <td>0</td>\n",
       "      <td>0</td>\n",
       "      <td>0</td>\n",
       "      <td>69.25</td>\n",
       "      <td>69.25</td>\n",
       "      <td>69.25</td>\n",
       "      <td>69.25</td>\n",
       "      <td>...</td>\n",
       "      <td>1</td>\n",
       "      <td>1</td>\n",
       "      <td>1</td>\n",
       "      <td>1</td>\n",
       "      <td>1</td>\n",
       "      <td>1</td>\n",
       "      <td>1</td>\n",
       "      <td>0</td>\n",
       "      <td>0</td>\n",
       "      <td>1</td>\n",
       "    </tr>\n",
       "    <tr>\n",
       "      <th>1</th>\n",
       "      <td>10.46</td>\n",
       "      <td>0</td>\n",
       "      <td>1</td>\n",
       "      <td>1</td>\n",
       "      <td>1</td>\n",
       "      <td>3</td>\n",
       "      <td>10.46</td>\n",
       "      <td>10.46</td>\n",
       "      <td>10.46</td>\n",
       "      <td>285.51</td>\n",
       "      <td>...</td>\n",
       "      <td>1</td>\n",
       "      <td>1</td>\n",
       "      <td>1</td>\n",
       "      <td>1</td>\n",
       "      <td>1</td>\n",
       "      <td>1</td>\n",
       "      <td>1</td>\n",
       "      <td>1</td>\n",
       "      <td>1</td>\n",
       "      <td>1</td>\n",
       "    </tr>\n",
       "    <tr>\n",
       "      <th>2</th>\n",
       "      <td>131.49</td>\n",
       "      <td>0</td>\n",
       "      <td>1</td>\n",
       "      <td>2</td>\n",
       "      <td>2</td>\n",
       "      <td>3</td>\n",
       "      <td>131.49</td>\n",
       "      <td>66.99</td>\n",
       "      <td>66.99</td>\n",
       "      <td>198.48</td>\n",
       "      <td>...</td>\n",
       "      <td>1</td>\n",
       "      <td>1</td>\n",
       "      <td>1</td>\n",
       "      <td>1</td>\n",
       "      <td>1</td>\n",
       "      <td>1</td>\n",
       "      <td>1</td>\n",
       "      <td>1</td>\n",
       "      <td>1</td>\n",
       "      <td>1</td>\n",
       "    </tr>\n",
       "    <tr>\n",
       "      <th>3</th>\n",
       "      <td>53.62</td>\n",
       "      <td>0</td>\n",
       "      <td>2</td>\n",
       "      <td>2</td>\n",
       "      <td>2</td>\n",
       "      <td>2</td>\n",
       "      <td>76.55</td>\n",
       "      <td>76.55</td>\n",
       "      <td>76.55</td>\n",
       "      <td>76.55</td>\n",
       "      <td>...</td>\n",
       "      <td>1</td>\n",
       "      <td>1</td>\n",
       "      <td>1</td>\n",
       "      <td>1</td>\n",
       "      <td>1</td>\n",
       "      <td>1</td>\n",
       "      <td>1</td>\n",
       "      <td>1</td>\n",
       "      <td>1</td>\n",
       "      <td>1</td>\n",
       "    </tr>\n",
       "    <tr>\n",
       "      <th>4</th>\n",
       "      <td>13.49</td>\n",
       "      <td>0</td>\n",
       "      <td>1</td>\n",
       "      <td>1</td>\n",
       "      <td>1</td>\n",
       "      <td>2</td>\n",
       "      <td>13.49</td>\n",
       "      <td>13.49</td>\n",
       "      <td>13.49</td>\n",
       "      <td>18.65</td>\n",
       "      <td>...</td>\n",
       "      <td>1</td>\n",
       "      <td>2</td>\n",
       "      <td>1</td>\n",
       "      <td>1</td>\n",
       "      <td>1</td>\n",
       "      <td>1</td>\n",
       "      <td>1</td>\n",
       "      <td>1</td>\n",
       "      <td>1</td>\n",
       "      <td>1</td>\n",
       "    </tr>\n",
       "  </tbody>\n",
       "</table>\n",
       "<p>5 rows × 22 columns</p>\n",
       "</div>"
      ],
      "text/plain": [
       "   Montant  fraude  FM_Velocity_Condition_3  FM_Velocity_Condition_6  \\\n",
       "0    69.25       0                        0                        0   \n",
       "1    10.46       0                        1                        1   \n",
       "2   131.49       0                        1                        2   \n",
       "3    53.62       0                        2                        2   \n",
       "4    13.49       0                        1                        1   \n",
       "\n",
       "   FM_Velocity_Condition_12  FM_Velocity_Condition_24  FM_Sum_3  FM_Sum_6  \\\n",
       "0                         0                         0     69.25     69.25   \n",
       "1                         1                         3     10.46     10.46   \n",
       "2                         2                         3    131.49     66.99   \n",
       "3                         2                         2     76.55     76.55   \n",
       "4                         1                         2     13.49     13.49   \n",
       "\n",
       "   FM_Sum_12  FM_Sum_24  ...  FM_Redondance_MCC_12  FM_Redondance_MCC_24  \\\n",
       "0      69.25      69.25  ...                     1                     1   \n",
       "1      10.46     285.51  ...                     1                     1   \n",
       "2      66.99     198.48  ...                     1                     1   \n",
       "3      76.55      76.55  ...                     1                     1   \n",
       "4      13.49      18.65  ...                     1                     2   \n",
       "\n",
       "   FM_Difference_Pays_3  FM_Difference_Pays_6  FM_Difference_Pays_12  \\\n",
       "0                     1                     1                      1   \n",
       "1                     1                     1                      1   \n",
       "2                     1                     1                      1   \n",
       "3                     1                     1                      1   \n",
       "4                     1                     1                      1   \n",
       "\n",
       "   FM_Difference_Pays_24  Pays_v2  Heure_v2  CodeRep_v2  MCC_v2  \n",
       "0                      1        1         0           0       1  \n",
       "1                      1        1         1           1       1  \n",
       "2                      1        1         1           1       1  \n",
       "3                      1        1         1           1       1  \n",
       "4                      1        1         1           1       1  \n",
       "\n",
       "[5 rows x 22 columns]"
      ]
     },
     "execution_count": 85,
     "metadata": {},
     "output_type": "execute_result"
    }
   ],
   "source": [
    "df2.head() "
   ]
  },
  {
   "cell_type": "code",
   "execution_count": 86,
   "metadata": {
    "colab": {},
    "colab_type": "code",
    "id": "VrnPfa_8IIAv"
   },
   "outputs": [],
   "source": [
    "from sklearn.model_selection import train_test_split\n",
    "\n",
    "# 1ere etape, on cree 2 tableau, un de test et un de train que l'on stratifie selon 'fraude'\n",
    "dftrain, dftest = train_test_split(df2, test_size=0.15, random_state=42, stratify=df2.fraude)"
   ]
  },
  {
   "cell_type": "code",
   "execution_count": 87,
   "metadata": {
    "colab": {
     "base_uri": "https://localhost:8080/",
     "height": 68
    },
    "colab_type": "code",
    "executionInfo": {
     "elapsed": 151383,
     "status": "ok",
     "timestamp": 1591441408686,
     "user": {
      "displayName": "Camille GEORGET",
      "photoUrl": "",
      "userId": "03622189545362805141"
     },
     "user_tz": -180
    },
    "id": "SR4uxGtDIIAw",
    "outputId": "9a7845ca-f99d-4e19-efb9-27d5035a4d21"
   },
   "outputs": [
    {
     "data": {
      "text/plain": [
       "0    972558\n",
       "1      6159\n",
       "Name: fraude, dtype: int64"
      ]
     },
     "execution_count": 87,
     "metadata": {},
     "output_type": "execute_result"
    }
   ],
   "source": [
    "dftrain.fraude.value_counts()"
   ]
  },
  {
   "cell_type": "code",
   "execution_count": 88,
   "metadata": {
    "colab": {},
    "colab_type": "code",
    "id": "qivV88CeIIAx"
   },
   "outputs": [],
   "source": [
    "# pour faciliter l'entrainement de mes modeles, je vais supprimer les 3/4 des valeurs 'non fraude' du jeux de train. \n",
    "# Les données sont très désequilibrés donc pour reequilibrer un peu et gagner du temps, je vais supprimer 800K obs sur les 900k\n",
    "tab1 = dftrain.loc[dftrain.fraude==1,:]\n",
    "tab2 = dftrain.loc[dftrain.fraude==0,:]\n",
    "\n",
    "# on va melanger le tableau des non fraude et garder uniquement 100k ; test avec 100k pour aller plus vite dans nos algo\n",
    "tab2 = tab2.sample(frac=1).reset_index(drop=True) # frac=1 c'est l'axe\n",
    "tab2 = tab2.loc[:100000,:] \n",
    "\n",
    "#on joint les deux tab\n",
    "dftrain = pd.concat([tab1,tab2])\n",
    "\n",
    "\n",
    "# on va aussi essayer de construire un df equilibré (50/50)\n",
    "tab2eq = tab2.loc[:6159,:] \n",
    "dftraineq = pd.concat([tab1,tab2eq])\n"
   ]
  },
  {
   "cell_type": "markdown",
   "metadata": {
    "colab_type": "text",
    "id": "eQrWYSUjIIAz"
   },
   "source": [
    "### on peut verifier les matrices de corr de notre jeu de train et de test pour voir si elles sont bien similaires. ça nous permet de nous assurer que nos jeu de test et de train sont 'similaires'"
   ]
  },
  {
   "cell_type": "code",
   "execution_count": 89,
   "metadata": {
    "colab": {
     "base_uri": "https://localhost:8080/",
     "height": 439
    },
    "colab_type": "code",
    "executionInfo": {
     "elapsed": 2840,
     "status": "ok",
     "timestamp": 1591444329042,
     "user": {
      "displayName": "Camille GEORGET",
      "photoUrl": "",
      "userId": "03622189545362805141"
     },
     "user_tz": -180
    },
    "id": "3T86CAkzIIAz",
    "outputId": "cc92829b-f7eb-46d5-ab56-57518aae2d28"
   },
   "outputs": [
    {
     "name": "stdout",
     "output_type": "stream",
     "text": [
      "Matrice correlation : train\n"
     ]
    },
    {
     "data": {
      "text/plain": [
       "<matplotlib.axes._subplots.AxesSubplot at 0x23a83c54710>"
      ]
     },
     "execution_count": 89,
     "metadata": {},
     "output_type": "execute_result"
    },
    {
     "data": {
      "image/png": "[encoded data removed]",
      "text/plain": [
       "<Figure size 432x288 with 2 Axes>"
      ]
     },
     "metadata": {
      "needs_background": "light"
     },
     "output_type": "display_data"
    }
   ],
   "source": [
    "import seaborn as sn\n",
    "corrMatrix_train = dftrain.corr()\n",
    "print(\"Matrice correlation : train\")\n",
    "sn.heatmap(corrMatrix_train) "
   ]
  },
  {
   "cell_type": "code",
   "execution_count": 90,
   "metadata": {
    "colab": {
     "base_uri": "https://localhost:8080/",
     "height": 439
    },
    "colab_type": "code",
    "executionInfo": {
     "elapsed": 3277,
     "status": "ok",
     "timestamp": 1591444329500,
     "user": {
      "displayName": "Camille GEORGET",
      "photoUrl": "",
      "userId": "03622189545362805141"
     },
     "user_tz": -180
    },
    "id": "oT6_S-xEIIA0",
    "outputId": "35bf65c9-a4d0-45a8-9ce7-2bba49d55e42",
    "scrolled": false
   },
   "outputs": [
    {
     "name": "stdout",
     "output_type": "stream",
     "text": [
      "Matrice correlation : test\n"
     ]
    },
    {
     "data": {
      "text/plain": [
       "<matplotlib.axes._subplots.AxesSubplot at 0x23a855f1668>"
      ]
     },
     "execution_count": 90,
     "metadata": {},
     "output_type": "execute_result"
    },
    {
     "data": {
      "image/png": "[encoded data removed]",
      "text/plain": [
       "<Figure size 432x288 with 2 Axes>"
      ]
     },
     "metadata": {
      "needs_background": "light"
     },
     "output_type": "display_data"
    }
   ],
   "source": [
    "corrMatrix_test = dftest.corr()\n",
    "print(\"Matrice correlation : test\")\n",
    "sn.heatmap(corrMatrix_test)  "
   ]
  },
  {
   "cell_type": "markdown",
   "metadata": {
    "colab_type": "text",
    "id": "VIAGHaHCIIA1"
   },
   "source": [
    "### Retour au traitement des jeu de données"
   ]
  },
  {
   "cell_type": "code",
   "execution_count": 91,
   "metadata": {
    "colab": {},
    "colab_type": "code",
    "id": "CV16d8v9IIA2"
   },
   "outputs": [],
   "source": [
    "# finalement, je vais mettre quelques variables en dummy\n",
    "dftrain2 = pd.get_dummies(dftrain, columns=['Pays_v2','MCC_v2','CodeRep_v2']) \n",
    "dftest2 = pd.get_dummies(dftest, columns=['Pays_v2','MCC_v2','CodeRep_v2']) \n",
    "\n",
    "# meme chose pour le tableau equilibré\n",
    "dftraineq = pd.get_dummies(dftraineq, columns=['Pays_v2','MCC_v2','CodeRep_v2']) "
   ]
  },
  {
   "cell_type": "code",
   "execution_count": null,
   "metadata": {
    "colab": {},
    "colab_type": "code",
    "id": "BgaK5IAuR0N9"
   },
   "outputs": [],
   "source": []
  },
  {
   "cell_type": "code",
   "execution_count": 92,
   "metadata": {
    "colab": {
     "base_uri": "https://localhost:8080/",
     "height": 1000
    },
    "colab_type": "code",
    "executionInfo": {
     "elapsed": 3544,
     "status": "ok",
     "timestamp": 1591444329818,
     "user": {
      "displayName": "Camille GEORGET",
      "photoUrl": "",
      "userId": "03622189545362805141"
     },
     "user_tz": -180
    },
    "id": "bPACvcjPIIA3",
    "outputId": "1e8fb0b6-a93e-4165-eb59-45878bee525d"
   },
   "outputs": [
    {
     "name": "stdout",
     "output_type": "stream",
     "text": [
      "Montant                     151.70\n",
      "fraude                        0.00\n",
      "FM_Velocity_Condition_3       1.00\n",
      "FM_Velocity_Condition_6       1.00\n",
      "FM_Velocity_Condition_12      1.00\n",
      "FM_Velocity_Condition_24      2.00\n",
      "FM_Sum_3                    151.70\n",
      "FM_Sum_6                    151.70\n",
      "FM_Sum_12                   151.70\n",
      "FM_Sum_24                   114.36\n",
      "FM_Redondance_MCC_3           1.00\n",
      "FM_Redondance_MCC_6           1.00\n",
      "FM_Redondance_MCC_12          1.00\n",
      "FM_Redondance_MCC_24          1.00\n",
      "FM_Difference_Pays_3          1.00\n",
      "FM_Difference_Pays_6          1.00\n",
      "FM_Difference_Pays_12         1.00\n",
      "FM_Difference_Pays_24         1.00\n",
      "Heure_v2                      0.00\n",
      "Pays_v2_0                     0.00\n",
      "Pays_v2_1                     0.00\n",
      "Pays_v2_2                     1.00\n",
      "Pays_v2_3                     0.00\n",
      "Pays_v2_4                     0.00\n",
      "MCC_v2_0                      0.00\n",
      "MCC_v2_1                      0.00\n",
      "MCC_v2_2                      1.00\n",
      "MCC_v2_3                      0.00\n",
      "MCC_v2_4                      0.00\n",
      "MCC_v2_5                      0.00\n",
      "MCC_v2_6                      0.00\n",
      "MCC_v2_7                      0.00\n",
      "MCC_v2_8                      0.00\n",
      "CodeRep_v2_0                  0.00\n",
      "CodeRep_v2_1                  1.00\n",
      "CodeRep_v2_2                  0.00\n",
      "CodeRep_v2_3                  0.00\n",
      "CodeRep_v2_4                  0.00\n",
      "Name: 1, dtype: float64\n",
      "____________________________________________________________________________________________________\n",
      "Montant                      10.46\n",
      "fraude                        0.00\n",
      "FM_Velocity_Condition_3       1.00\n",
      "FM_Velocity_Condition_6       1.00\n",
      "FM_Velocity_Condition_12      1.00\n",
      "FM_Velocity_Condition_24      3.00\n",
      "FM_Sum_3                     10.46\n",
      "FM_Sum_6                     10.46\n",
      "FM_Sum_12                    10.46\n",
      "FM_Sum_24                   285.51\n",
      "FM_Redondance_MCC_3           1.00\n",
      "FM_Redondance_MCC_6           1.00\n",
      "FM_Redondance_MCC_12          1.00\n",
      "FM_Redondance_MCC_24          1.00\n",
      "FM_Difference_Pays_3          1.00\n",
      "FM_Difference_Pays_6          1.00\n",
      "FM_Difference_Pays_12         1.00\n",
      "FM_Difference_Pays_24         1.00\n",
      "Heure_v2                      1.00\n",
      "Pays_v2_0                     0.00\n",
      "Pays_v2_1                     1.00\n",
      "Pays_v2_2                     0.00\n",
      "Pays_v2_3                     0.00\n",
      "Pays_v2_4                     0.00\n",
      "MCC_v2_0                      0.00\n",
      "MCC_v2_1                      1.00\n",
      "MCC_v2_2                      0.00\n",
      "MCC_v2_3                      0.00\n",
      "MCC_v2_4                      0.00\n",
      "MCC_v2_5                      0.00\n",
      "MCC_v2_6                      0.00\n",
      "MCC_v2_7                      0.00\n",
      "MCC_v2_8                      0.00\n",
      "CodeRep_v2_0                  0.00\n",
      "CodeRep_v2_1                  1.00\n",
      "CodeRep_v2_2                  0.00\n",
      "CodeRep_v2_3                  0.00\n",
      "CodeRep_v2_4                  0.00\n",
      "Name: 1, dtype: float64\n"
     ]
    }
   ],
   "source": [
    "print(dftrain2.loc[1,:])\n",
    "print('_'*100)\n",
    "print(dftest2.loc[1,:]) \n",
    "# ATTENTION A bien verifier qu'on a 5 modalité de pays, 9 modalités de MCC et 5 modalités de CodeRep,\n",
    "# Car il se pourrait que une modalité sautent si il n'est pas présente dans le jeu de train, et ce serait grave \n",
    "# car si elle est presente dans le jeu de test, le modèle de saurait pas quoi faire "
   ]
  },
  {
   "cell_type": "code",
   "execution_count": 93,
   "metadata": {
    "colab": {
     "base_uri": "https://localhost:8080/",
     "height": 54
    },
    "colab_type": "code",
    "executionInfo": {
     "elapsed": 3518,
     "status": "ok",
     "timestamp": 1591444329819,
     "user": {
      "displayName": "Camille GEORGET",
      "photoUrl": "",
      "userId": "03622189545362805141"
     },
     "user_tz": -180
    },
    "id": "cA6lKeSlIIA4",
    "outputId": "686240a7-d1ea-439c-eb35-3f13c82884f3"
   },
   "outputs": [],
   "source": [
    "# je reviens a la separation classique\n",
    "y_train = dftrain2.fraude\n",
    "y_test = dftest2.fraude\n",
    "# on fait un jeu avec les 3 variables v1 et un autre avec les 3 variable v2 (elles sont simplifiées en categorie)\n",
    "x_train_v1 = dftrain2.drop(['fraude', 'FM_Velocity_Condition_3','FM_Velocity_Condition_6','FM_Velocity_Condition_12','FM_Sum_3','FM_Sum_6','FM_Sum_12','FM_Redondance_MCC_3','FM_Redondance_MCC_6','FM_Redondance_MCC_12', 'FM_Difference_Pays_3','FM_Difference_Pays_6','FM_Difference_Pays_12'], axis=1)\n",
    "x_test_v1 = dftest2.drop(['fraude', 'FM_Velocity_Condition_3','FM_Velocity_Condition_6','FM_Velocity_Condition_12','FM_Sum_3','FM_Sum_6','FM_Sum_12','FM_Redondance_MCC_3','FM_Redondance_MCC_6','FM_Redondance_MCC_12', 'FM_Difference_Pays_3','FM_Difference_Pays_6','FM_Difference_Pays_12'], axis=1)\n",
    "\n",
    "# meme chose pour le jeu equilibré, on choisis de garder les variables v1 pour lui\n",
    "y_traineq = dftraineq.fraude\n",
    "x_traineq = dftraineq.drop(['fraude','FM_Velocity_Condition_3','FM_Velocity_Condition_6','FM_Velocity_Condition_12','FM_Sum_3','FM_Sum_6','FM_Sum_12','FM_Redondance_MCC_3','FM_Redondance_MCC_6','FM_Redondance_MCC_12', 'FM_Difference_Pays_3','FM_Difference_Pays_6','FM_Difference_Pays_12'], axis=1)\n",
    "\n",
    "\n",
    "# On fait un dernier jeu equilibré avec les variables sur 3-6-12-24h pour pouvoir faire la PCA\n",
    "x_traineq_pca = dftraineq.drop(['fraude'], axis=1)\n",
    "x_test_pca = dftest2.drop(['fraude'], axis = 1) "
   ]
  },
  {
   "cell_type": "code",
   "execution_count": 94,
   "metadata": {},
   "outputs": [],
   "source": [
    "# a present on peut faire la pca pour le dernier jeux equilbré afin de voir si ça apportera qqchose \n",
    "\n",
    "\n",
    "# je vais ajouter 8 variables qui seront les coordonnées des 2 axes pricipaux\n",
    "# des la pca pour les 4 variables sur 3-6-12-24h ; et apres on supprimera ces variables. On le fait pr le train et le test\n",
    "from sklearn.preprocessing import StandardScaler\n",
    "from sklearn.decomposition import PCA\n",
    "from sklearn.pipeline import Pipeline\n",
    "\n",
    "pipeline = Pipeline([('scaling', StandardScaler()), ('pca', PCA(n_components=2))])\n",
    "\n",
    "FM_Velocity_pca = pipeline.fit_transform(x_traineq_pca.loc[:,['FM_Velocity_Condition_3','FM_Velocity_Condition_6','FM_Velocity_Condition_12','FM_Velocity_Condition_24']])\n",
    "FM_Velocity_pca2 = pipeline.transform(x_test_pca.loc[:,['FM_Velocity_Condition_3','FM_Velocity_Condition_6','FM_Velocity_Condition_12','FM_Velocity_Condition_24']])\n",
    "\n",
    "FM_Sum_pca = pipeline.fit_transform(x_traineq_pca.loc[:,['FM_Sum_3','FM_Sum_6','FM_Sum_12','FM_Sum_24']])\n",
    "FM_Sum_pca2 = pipeline.transform(x_test_pca.loc[:,['FM_Sum_3','FM_Sum_6','FM_Sum_12','FM_Sum_24']])\n",
    "\n",
    "\n",
    "FM_Redondance_pca = pipeline.fit_transform(x_traineq_pca.loc[:,['FM_Redondance_MCC_3','FM_Redondance_MCC_6','FM_Redondance_MCC_12','FM_Redondance_MCC_24']])\n",
    "FM_Redondance_pca2 = pipeline.transform(x_test_pca.loc[:,['FM_Redondance_MCC_3','FM_Redondance_MCC_6','FM_Redondance_MCC_12','FM_Redondance_MCC_24']])\n",
    "\n",
    "FM_Difference_pca = pipeline.fit_transform(x_traineq_pca.loc[:,['FM_Difference_Pays_3','FM_Difference_Pays_6','FM_Difference_Pays_12','FM_Difference_Pays_24']])\n",
    "FM_Difference_pca2 = pipeline.transform(x_test_pca.loc[:,['FM_Difference_Pays_3','FM_Difference_Pays_6','FM_Difference_Pays_12','FM_Difference_Pays_24']])\n",
    "\n",
    "# on peut maitenant ajouter ces coordonnées aux tableau prncipal, on fera different jeux par la suite\n",
    "x_traineq_pca['FM_Velocity_pca1'] =  FM_Velocity_pca[:,0]\n",
    "x_traineq_pca['FM_Velocity_pca2'] =  FM_Velocity_pca[:,1]\n",
    "x_test_pca['FM_Velocity_pca1'] =  FM_Velocity_pca2[:,0]\n",
    "x_test_pca['FM_Velocity_pca2'] =  FM_Velocity_pca2[:,1]\n",
    "\n",
    "x_traineq_pca['FM_SUM_pca1'] = FM_Sum_pca[:,0]\n",
    "x_traineq_pca['FM_SUM_pca2'] = FM_Sum_pca[:,1]\n",
    "x_test_pca['FM_SUM_pca1'] = FM_Sum_pca2[:,0]\n",
    "x_test_pca['FM_SUM_pca2'] = FM_Sum_pca2[:,1]\n",
    "\n",
    "x_traineq_pca['FM_Redondance_pca1'] = FM_Redondance_pca[:,0]\n",
    "x_traineq_pca['FM_Redondance_pca2'] = FM_Redondance_pca[:,1]\n",
    "x_test_pca['FM_Redondance_pca1'] = FM_Redondance_pca2[:,0]\n",
    "x_test_pca['FM_Redondance_pca2'] = FM_Redondance_pca2[:,1]\n",
    "\n",
    "x_traineq_pca['FM_Difference_pca1'] = FM_Difference_pca[:,0]\n",
    "x_traineq_pca['FM_Difference_pca2'] = FM_Difference_pca[:,1] \n",
    "x_test_pca['FM_Difference_pca1'] = FM_Difference_pca2[:,0]\n",
    "x_test_pca['FM_Difference_pca2'] = FM_Difference_pca2[:,1] \n",
    "\n",
    "\n",
    "# Ok finalement on peut supprimer les variables qui ont servis a la pca, et on aura fini le traitement de ce tableau \n",
    "x_traineq_pca = x_traineq_pca.drop(['FM_Velocity_Condition_3','FM_Velocity_Condition_6','FM_Velocity_Condition_12', 'FM_Velocity_Condition_24','FM_Sum_3','FM_Sum_6','FM_Sum_12','FM_Sum_24','FM_Redondance_MCC_3','FM_Redondance_MCC_6','FM_Redondance_MCC_12','FM_Redondance_MCC_24', 'FM_Difference_Pays_3','FM_Difference_Pays_6','FM_Difference_Pays_12', 'FM_Difference_Pays_24'], axis=1)\n",
    "x_test_pca = x_test_pca.drop(['FM_Velocity_Condition_3','FM_Velocity_Condition_6','FM_Velocity_Condition_12', 'FM_Velocity_Condition_24','FM_Sum_3','FM_Sum_6','FM_Sum_12','FM_Sum_24','FM_Redondance_MCC_3','FM_Redondance_MCC_6','FM_Redondance_MCC_12','FM_Redondance_MCC_24', 'FM_Difference_Pays_3','FM_Difference_Pays_6','FM_Difference_Pays_12', 'FM_Difference_Pays_24'], axis=1)"
   ]
  },
  {
   "cell_type": "markdown",
   "metadata": {},
   "source": [
    "On obtient donc 4 jeux de données diff a tester : \n",
    "    - un avec les variable 24h inchangés, en quanti\n",
    "    - un avec les v2 des variables 24h\n",
    "    - un jeu equilibré avec les variables 24h en quanti\n",
    "    - un jeu equilibré avec les variables sur 3-6-12-24h resumé par 2 dim d'une pca "
   ]
  },
  {
   "cell_type": "code",
   "execution_count": 95,
   "metadata": {
    "colab": {
     "base_uri": "https://localhost:8080/",
     "height": 71
    },
    "colab_type": "code",
    "executionInfo": {
     "elapsed": 3480,
     "status": "ok",
     "timestamp": 1591444329822,
     "user": {
      "displayName": "Camille GEORGET",
      "photoUrl": "",
      "userId": "03622189545362805141"
     },
     "user_tz": -180
    },
    "id": "WgsyVku_IIA8",
    "outputId": "3e766e04-5a9f-4ef1-95bd-7d9e6b5c6ef1"
   },
   "outputs": [
    {
     "name": "stderr",
     "output_type": "stream",
     "text": [
      "Using TensorFlow backend.\n"
     ]
    },
    {
     "ename": "TypeError",
     "evalue": "expected bytes, Descriptor found",
     "output_type": "error",
     "traceback": [
      "\u001b[1;31m---------------------------------------------------------------------------\u001b[0m",
      "\u001b[1;31mTypeError\u001b[0m                                 Traceback (most recent call last)",
      "\u001b[1;32m<ipython-input-95-97f86cc98ab6>\u001b[0m in \u001b[0;36m<module>\u001b[1;34m\u001b[0m\n\u001b[0;32m      1\u001b[0m \u001b[1;31m# essayons de faire un jeu plus equilibré avec smote (a partir du train_v1) # A REVOIR CEST UN ABANDON PR LE MOMENT\u001b[0m\u001b[1;33m\u001b[0m\u001b[1;33m\u001b[0m\u001b[1;33m\u001b[0m\u001b[0m\n\u001b[0;32m      2\u001b[0m \u001b[1;33m\u001b[0m\u001b[0m\n\u001b[1;32m----> 3\u001b[1;33m \u001b[1;32mfrom\u001b[0m \u001b[0mimblearn\u001b[0m\u001b[1;33m.\u001b[0m\u001b[0mover_sampling\u001b[0m \u001b[1;32mimport\u001b[0m \u001b[0mSMOTE\u001b[0m\u001b[1;33m\u001b[0m\u001b[1;33m\u001b[0m\u001b[0m\n\u001b[0m\u001b[0;32m      4\u001b[0m \u001b[1;31m# transform the dataset\u001b[0m\u001b[1;33m\u001b[0m\u001b[1;33m\u001b[0m\u001b[1;33m\u001b[0m\u001b[0m\n\u001b[0;32m      5\u001b[0m \u001b[0moversample\u001b[0m \u001b[1;33m=\u001b[0m \u001b[0mSMOTE\u001b[0m\u001b[1;33m(\u001b[0m\u001b[0msampling_strategy\u001b[0m\u001b[1;33m=\u001b[0m\u001b[1;36m0.2\u001b[0m\u001b[1;33m)\u001b[0m\u001b[1;33m\u001b[0m\u001b[1;33m\u001b[0m\u001b[0m\n",
      "\u001b[1;32mC:\\ProgramData\\Anaconda3\\lib\\site-packages\\imblearn\\__init__.py\u001b[0m in \u001b[0;36m<module>\u001b[1;34m\u001b[0m\n\u001b[0;32m     35\u001b[0m \u001b[1;32mfrom\u001b[0m \u001b[1;33m.\u001b[0m \u001b[1;32mimport\u001b[0m \u001b[0mensemble\u001b[0m\u001b[1;33m\u001b[0m\u001b[1;33m\u001b[0m\u001b[0m\n\u001b[0;32m     36\u001b[0m \u001b[1;32mfrom\u001b[0m \u001b[1;33m.\u001b[0m \u001b[1;32mimport\u001b[0m \u001b[0mexceptions\u001b[0m\u001b[1;33m\u001b[0m\u001b[1;33m\u001b[0m\u001b[0m\n\u001b[1;32m---> 37\u001b[1;33m \u001b[1;32mfrom\u001b[0m \u001b[1;33m.\u001b[0m \u001b[1;32mimport\u001b[0m \u001b[0mkeras\u001b[0m\u001b[1;33m\u001b[0m\u001b[1;33m\u001b[0m\u001b[0m\n\u001b[0m\u001b[0;32m     38\u001b[0m \u001b[1;32mfrom\u001b[0m \u001b[1;33m.\u001b[0m \u001b[1;32mimport\u001b[0m \u001b[0mmetrics\u001b[0m\u001b[1;33m\u001b[0m\u001b[1;33m\u001b[0m\u001b[0m\n\u001b[0;32m     39\u001b[0m \u001b[1;32mfrom\u001b[0m \u001b[1;33m.\u001b[0m \u001b[1;32mimport\u001b[0m \u001b[0mover_sampling\u001b[0m\u001b[1;33m\u001b[0m\u001b[1;33m\u001b[0m\u001b[0m\n",
      "\u001b[1;32mC:\\ProgramData\\Anaconda3\\lib\\site-packages\\imblearn\\keras\\__init__.py\u001b[0m in \u001b[0;36m<module>\u001b[1;34m\u001b[0m\n\u001b[0;32m      2\u001b[0m in keras.\"\"\"\n\u001b[0;32m      3\u001b[0m \u001b[1;33m\u001b[0m\u001b[0m\n\u001b[1;32m----> 4\u001b[1;33m \u001b[1;32mfrom\u001b[0m \u001b[1;33m.\u001b[0m\u001b[0m_generator\u001b[0m \u001b[1;32mimport\u001b[0m \u001b[0mBalancedBatchGenerator\u001b[0m\u001b[1;33m\u001b[0m\u001b[1;33m\u001b[0m\u001b[0m\n\u001b[0m\u001b[0;32m      5\u001b[0m \u001b[1;32mfrom\u001b[0m \u001b[1;33m.\u001b[0m\u001b[0m_generator\u001b[0m \u001b[1;32mimport\u001b[0m \u001b[0mbalanced_batch_generator\u001b[0m\u001b[1;33m\u001b[0m\u001b[1;33m\u001b[0m\u001b[0m\n\u001b[0;32m      6\u001b[0m \u001b[1;33m\u001b[0m\u001b[0m\n",
      "\u001b[1;32mC:\\ProgramData\\Anaconda3\\lib\\site-packages\\imblearn\\keras\\_generator.py\u001b[0m in \u001b[0;36m<module>\u001b[1;34m\u001b[0m\n\u001b[0;32m     40\u001b[0m \u001b[1;33m\u001b[0m\u001b[0m\n\u001b[0;32m     41\u001b[0m \u001b[1;33m\u001b[0m\u001b[0m\n\u001b[1;32m---> 42\u001b[1;33m \u001b[0mParentClass\u001b[0m\u001b[1;33m,\u001b[0m \u001b[0mHAS_KERAS\u001b[0m \u001b[1;33m=\u001b[0m \u001b[0mimport_keras\u001b[0m\u001b[1;33m(\u001b[0m\u001b[1;33m)\u001b[0m\u001b[1;33m\u001b[0m\u001b[1;33m\u001b[0m\u001b[0m\n\u001b[0m\u001b[0;32m     43\u001b[0m \u001b[1;33m\u001b[0m\u001b[0m\n\u001b[0;32m     44\u001b[0m \u001b[1;32mfrom\u001b[0m \u001b[0mscipy\u001b[0m\u001b[1;33m.\u001b[0m\u001b[0msparse\u001b[0m \u001b[1;32mimport\u001b[0m \u001b[0missparse\u001b[0m\u001b[1;33m\u001b[0m\u001b[1;33m\u001b[0m\u001b[0m\n",
      "\u001b[1;32mC:\\ProgramData\\Anaconda3\\lib\\site-packages\\imblearn\\keras\\_generator.py\u001b[0m in \u001b[0;36mimport_keras\u001b[1;34m()\u001b[0m\n\u001b[0;32m     30\u001b[0m             \u001b[1;32mreturn\u001b[0m \u001b[0mtuple\u001b[0m\u001b[1;33m(\u001b[0m\u001b[1;33m)\u001b[0m\u001b[1;33m,\u001b[0m \u001b[1;32mFalse\u001b[0m\u001b[1;33m\u001b[0m\u001b[1;33m\u001b[0m\u001b[0m\n\u001b[0;32m     31\u001b[0m \u001b[1;33m\u001b[0m\u001b[0m\n\u001b[1;32m---> 32\u001b[1;33m     \u001b[0mParentClassKeras\u001b[0m\u001b[1;33m,\u001b[0m \u001b[0mhas_keras_k\u001b[0m \u001b[1;33m=\u001b[0m \u001b[0mimport_from_keras\u001b[0m\u001b[1;33m(\u001b[0m\u001b[1;33m)\u001b[0m\u001b[1;33m\u001b[0m\u001b[1;33m\u001b[0m\u001b[0m\n\u001b[0m\u001b[0;32m     33\u001b[0m     \u001b[0mParentClassTensorflow\u001b[0m\u001b[1;33m,\u001b[0m \u001b[0mhas_keras_tf\u001b[0m \u001b[1;33m=\u001b[0m \u001b[0mimport_from_tensforflow\u001b[0m\u001b[1;33m(\u001b[0m\u001b[1;33m)\u001b[0m\u001b[1;33m\u001b[0m\u001b[1;33m\u001b[0m\u001b[0m\n\u001b[0;32m     34\u001b[0m     \u001b[0mhas_keras\u001b[0m \u001b[1;33m=\u001b[0m \u001b[0mhas_keras_k\u001b[0m \u001b[1;32mor\u001b[0m \u001b[0mhas_keras_tf\u001b[0m\u001b[1;33m\u001b[0m\u001b[1;33m\u001b[0m\u001b[0m\n",
      "\u001b[1;32mC:\\ProgramData\\Anaconda3\\lib\\site-packages\\imblearn\\keras\\_generator.py\u001b[0m in \u001b[0;36mimport_from_keras\u001b[1;34m()\u001b[0m\n\u001b[0;32m     16\u001b[0m     \u001b[1;32mdef\u001b[0m \u001b[0mimport_from_keras\u001b[0m\u001b[1;33m(\u001b[0m\u001b[1;33m)\u001b[0m\u001b[1;33m:\u001b[0m\u001b[1;33m\u001b[0m\u001b[1;33m\u001b[0m\u001b[0m\n\u001b[0;32m     17\u001b[0m         \u001b[1;32mtry\u001b[0m\u001b[1;33m:\u001b[0m\u001b[1;33m\u001b[0m\u001b[1;33m\u001b[0m\u001b[0m\n\u001b[1;32m---> 18\u001b[1;33m             \u001b[1;32mimport\u001b[0m \u001b[0mkeras\u001b[0m\u001b[1;33m\u001b[0m\u001b[1;33m\u001b[0m\u001b[0m\n\u001b[0m\u001b[0;32m     19\u001b[0m \u001b[1;33m\u001b[0m\u001b[0m\n\u001b[0;32m     20\u001b[0m             \u001b[1;32mreturn\u001b[0m \u001b[1;33m(\u001b[0m\u001b[0mkeras\u001b[0m\u001b[1;33m.\u001b[0m\u001b[0mutils\u001b[0m\u001b[1;33m.\u001b[0m\u001b[0mSequence\u001b[0m\u001b[1;33m,\u001b[0m\u001b[1;33m)\u001b[0m\u001b[1;33m,\u001b[0m \u001b[1;32mTrue\u001b[0m\u001b[1;33m\u001b[0m\u001b[1;33m\u001b[0m\u001b[0m\n",
      "\u001b[1;32mC:\\ProgramData\\Anaconda3\\lib\\site-packages\\keras\\__init__.py\u001b[0m in \u001b[0;36m<module>\u001b[1;34m\u001b[0m\n\u001b[0;32m      1\u001b[0m \u001b[1;32mfrom\u001b[0m \u001b[0m__future__\u001b[0m \u001b[1;32mimport\u001b[0m \u001b[0mabsolute_import\u001b[0m\u001b[1;33m\u001b[0m\u001b[1;33m\u001b[0m\u001b[0m\n\u001b[0;32m      2\u001b[0m \u001b[1;33m\u001b[0m\u001b[0m\n\u001b[1;32m----> 3\u001b[1;33m \u001b[1;32mfrom\u001b[0m \u001b[1;33m.\u001b[0m \u001b[1;32mimport\u001b[0m \u001b[0mutils\u001b[0m\u001b[1;33m\u001b[0m\u001b[1;33m\u001b[0m\u001b[0m\n\u001b[0m\u001b[0;32m      4\u001b[0m \u001b[1;32mfrom\u001b[0m \u001b[1;33m.\u001b[0m \u001b[1;32mimport\u001b[0m \u001b[0mactivations\u001b[0m\u001b[1;33m\u001b[0m\u001b[1;33m\u001b[0m\u001b[0m\n\u001b[0;32m      5\u001b[0m \u001b[1;32mfrom\u001b[0m \u001b[1;33m.\u001b[0m \u001b[1;32mimport\u001b[0m \u001b[0mapplications\u001b[0m\u001b[1;33m\u001b[0m\u001b[1;33m\u001b[0m\u001b[0m\n",
      "\u001b[1;32mC:\\ProgramData\\Anaconda3\\lib\\site-packages\\keras\\utils\\__init__.py\u001b[0m in \u001b[0;36m<module>\u001b[1;34m\u001b[0m\n\u001b[0;32m      4\u001b[0m \u001b[1;32mfrom\u001b[0m \u001b[1;33m.\u001b[0m \u001b[1;32mimport\u001b[0m \u001b[0mdata_utils\u001b[0m\u001b[1;33m\u001b[0m\u001b[1;33m\u001b[0m\u001b[0m\n\u001b[0;32m      5\u001b[0m \u001b[1;32mfrom\u001b[0m \u001b[1;33m.\u001b[0m \u001b[1;32mimport\u001b[0m \u001b[0mio_utils\u001b[0m\u001b[1;33m\u001b[0m\u001b[1;33m\u001b[0m\u001b[0m\n\u001b[1;32m----> 6\u001b[1;33m \u001b[1;32mfrom\u001b[0m \u001b[1;33m.\u001b[0m \u001b[1;32mimport\u001b[0m \u001b[0mconv_utils\u001b[0m\u001b[1;33m\u001b[0m\u001b[1;33m\u001b[0m\u001b[0m\n\u001b[0m\u001b[0;32m      7\u001b[0m \u001b[1;32mfrom\u001b[0m \u001b[1;33m.\u001b[0m \u001b[1;32mimport\u001b[0m \u001b[0mlosses_utils\u001b[0m\u001b[1;33m\u001b[0m\u001b[1;33m\u001b[0m\u001b[0m\n\u001b[0;32m      8\u001b[0m \u001b[1;32mfrom\u001b[0m \u001b[1;33m.\u001b[0m \u001b[1;32mimport\u001b[0m \u001b[0mmetrics_utils\u001b[0m\u001b[1;33m\u001b[0m\u001b[1;33m\u001b[0m\u001b[0m\n",
      "\u001b[1;32mC:\\ProgramData\\Anaconda3\\lib\\site-packages\\keras\\utils\\conv_utils.py\u001b[0m in \u001b[0;36m<module>\u001b[1;34m\u001b[0m\n\u001b[0;32m      7\u001b[0m \u001b[1;32mfrom\u001b[0m \u001b[0msix\u001b[0m\u001b[1;33m.\u001b[0m\u001b[0mmoves\u001b[0m \u001b[1;32mimport\u001b[0m \u001b[0mrange\u001b[0m\u001b[1;33m\u001b[0m\u001b[1;33m\u001b[0m\u001b[0m\n\u001b[0;32m      8\u001b[0m \u001b[1;32mimport\u001b[0m \u001b[0mnumpy\u001b[0m \u001b[1;32mas\u001b[0m \u001b[0mnp\u001b[0m\u001b[1;33m\u001b[0m\u001b[1;33m\u001b[0m\u001b[0m\n\u001b[1;32m----> 9\u001b[1;33m \u001b[1;32mfrom\u001b[0m \u001b[1;33m.\u001b[0m\u001b[1;33m.\u001b[0m \u001b[1;32mimport\u001b[0m \u001b[0mbackend\u001b[0m \u001b[1;32mas\u001b[0m \u001b[0mK\u001b[0m\u001b[1;33m\u001b[0m\u001b[1;33m\u001b[0m\u001b[0m\n\u001b[0m\u001b[0;32m     10\u001b[0m \u001b[1;33m\u001b[0m\u001b[0m\n\u001b[0;32m     11\u001b[0m \u001b[1;33m\u001b[0m\u001b[0m\n",
      "\u001b[1;32mC:\\ProgramData\\Anaconda3\\lib\\site-packages\\keras\\backend\\__init__.py\u001b[0m in \u001b[0;36m<module>\u001b[1;34m\u001b[0m\n\u001b[1;32m----> 1\u001b[1;33m \u001b[1;32mfrom\u001b[0m \u001b[1;33m.\u001b[0m\u001b[0mload_backend\u001b[0m \u001b[1;32mimport\u001b[0m \u001b[0mepsilon\u001b[0m\u001b[1;33m\u001b[0m\u001b[1;33m\u001b[0m\u001b[0m\n\u001b[0m\u001b[0;32m      2\u001b[0m \u001b[1;32mfrom\u001b[0m \u001b[1;33m.\u001b[0m\u001b[0mload_backend\u001b[0m \u001b[1;32mimport\u001b[0m \u001b[0mset_epsilon\u001b[0m\u001b[1;33m\u001b[0m\u001b[1;33m\u001b[0m\u001b[0m\n\u001b[0;32m      3\u001b[0m \u001b[1;32mfrom\u001b[0m \u001b[1;33m.\u001b[0m\u001b[0mload_backend\u001b[0m \u001b[1;32mimport\u001b[0m \u001b[0mfloatx\u001b[0m\u001b[1;33m\u001b[0m\u001b[1;33m\u001b[0m\u001b[0m\n\u001b[0;32m      4\u001b[0m \u001b[1;32mfrom\u001b[0m \u001b[1;33m.\u001b[0m\u001b[0mload_backend\u001b[0m \u001b[1;32mimport\u001b[0m \u001b[0mset_floatx\u001b[0m\u001b[1;33m\u001b[0m\u001b[1;33m\u001b[0m\u001b[0m\n\u001b[0;32m      5\u001b[0m \u001b[1;32mfrom\u001b[0m \u001b[1;33m.\u001b[0m\u001b[0mload_backend\u001b[0m \u001b[1;32mimport\u001b[0m \u001b[0mcast_to_floatx\u001b[0m\u001b[1;33m\u001b[0m\u001b[1;33m\u001b[0m\u001b[0m\n",
      "\u001b[1;32mC:\\ProgramData\\Anaconda3\\lib\\site-packages\\keras\\backend\\load_backend.py\u001b[0m in \u001b[0;36m<module>\u001b[1;34m\u001b[0m\n\u001b[0;32m     88\u001b[0m \u001b[1;32melif\u001b[0m \u001b[0m_BACKEND\u001b[0m \u001b[1;33m==\u001b[0m \u001b[1;34m'tensorflow'\u001b[0m\u001b[1;33m:\u001b[0m\u001b[1;33m\u001b[0m\u001b[1;33m\u001b[0m\u001b[0m\n\u001b[0;32m     89\u001b[0m     \u001b[0msys\u001b[0m\u001b[1;33m.\u001b[0m\u001b[0mstderr\u001b[0m\u001b[1;33m.\u001b[0m\u001b[0mwrite\u001b[0m\u001b[1;33m(\u001b[0m\u001b[1;34m'Using TensorFlow backend.\\n'\u001b[0m\u001b[1;33m)\u001b[0m\u001b[1;33m\u001b[0m\u001b[1;33m\u001b[0m\u001b[0m\n\u001b[1;32m---> 90\u001b[1;33m     \u001b[1;32mfrom\u001b[0m \u001b[1;33m.\u001b[0m\u001b[0mtensorflow_backend\u001b[0m \u001b[1;32mimport\u001b[0m \u001b[1;33m*\u001b[0m\u001b[1;33m\u001b[0m\u001b[1;33m\u001b[0m\u001b[0m\n\u001b[0m\u001b[0;32m     91\u001b[0m \u001b[1;32melse\u001b[0m\u001b[1;33m:\u001b[0m\u001b[1;33m\u001b[0m\u001b[1;33m\u001b[0m\u001b[0m\n\u001b[0;32m     92\u001b[0m     \u001b[1;31m# Try and load external backend.\u001b[0m\u001b[1;33m\u001b[0m\u001b[1;33m\u001b[0m\u001b[1;33m\u001b[0m\u001b[0m\n",
      "\u001b[1;32mC:\\ProgramData\\Anaconda3\\lib\\site-packages\\keras\\backend\\tensorflow_backend.py\u001b[0m in \u001b[0;36m<module>\u001b[1;34m\u001b[0m\n\u001b[0;32m      3\u001b[0m \u001b[1;32mfrom\u001b[0m \u001b[0m__future__\u001b[0m \u001b[1;32mimport\u001b[0m \u001b[0mprint_function\u001b[0m\u001b[1;33m\u001b[0m\u001b[1;33m\u001b[0m\u001b[0m\n\u001b[0;32m      4\u001b[0m \u001b[1;33m\u001b[0m\u001b[0m\n\u001b[1;32m----> 5\u001b[1;33m \u001b[1;32mimport\u001b[0m \u001b[0mtensorflow\u001b[0m \u001b[1;32mas\u001b[0m \u001b[0mtf\u001b[0m\u001b[1;33m\u001b[0m\u001b[1;33m\u001b[0m\u001b[0m\n\u001b[0m\u001b[0;32m      6\u001b[0m \u001b[1;32mfrom\u001b[0m \u001b[0mtensorflow\u001b[0m\u001b[1;33m.\u001b[0m\u001b[0mpython\u001b[0m\u001b[1;33m.\u001b[0m\u001b[0meager\u001b[0m \u001b[1;32mimport\u001b[0m \u001b[0mcontext\u001b[0m\u001b[1;33m\u001b[0m\u001b[1;33m\u001b[0m\u001b[0m\n\u001b[0;32m      7\u001b[0m \u001b[1;32mfrom\u001b[0m \u001b[0mtensorflow\u001b[0m\u001b[1;33m.\u001b[0m\u001b[0mpython\u001b[0m\u001b[1;33m.\u001b[0m\u001b[0mframework\u001b[0m \u001b[1;32mimport\u001b[0m \u001b[0mdevice\u001b[0m \u001b[1;32mas\u001b[0m \u001b[0mtfdev\u001b[0m\u001b[1;33m\u001b[0m\u001b[1;33m\u001b[0m\u001b[0m\n",
      "\u001b[1;32mC:\\ProgramData\\Anaconda3\\lib\\site-packages\\tensorflow\\__init__.py\u001b[0m in \u001b[0;36m<module>\u001b[1;34m\u001b[0m\n\u001b[0;32m     22\u001b[0m \u001b[1;33m\u001b[0m\u001b[0m\n\u001b[0;32m     23\u001b[0m \u001b[1;31m# pylint: disable=g-bad-import-order\u001b[0m\u001b[1;33m\u001b[0m\u001b[1;33m\u001b[0m\u001b[1;33m\u001b[0m\u001b[0m\n\u001b[1;32m---> 24\u001b[1;33m \u001b[1;32mfrom\u001b[0m \u001b[0mtensorflow\u001b[0m\u001b[1;33m.\u001b[0m\u001b[0mpython\u001b[0m \u001b[1;32mimport\u001b[0m \u001b[0mpywrap_tensorflow\u001b[0m  \u001b[1;31m# pylint: disable=unused-import\u001b[0m\u001b[1;33m\u001b[0m\u001b[1;33m\u001b[0m\u001b[0m\n\u001b[0m\u001b[0;32m     25\u001b[0m \u001b[1;33m\u001b[0m\u001b[0m\n\u001b[0;32m     26\u001b[0m \u001b[1;32mfrom\u001b[0m \u001b[0mtensorflow\u001b[0m\u001b[1;33m.\u001b[0m\u001b[0m_api\u001b[0m\u001b[1;33m.\u001b[0m\u001b[0mv1\u001b[0m \u001b[1;32mimport\u001b[0m \u001b[0mapp\u001b[0m\u001b[1;33m\u001b[0m\u001b[1;33m\u001b[0m\u001b[0m\n",
      "\u001b[1;32mC:\\ProgramData\\Anaconda3\\lib\\site-packages\\tensorflow\\python\\__init__.py\u001b[0m in \u001b[0;36m<module>\u001b[1;34m\u001b[0m\n\u001b[0;32m     50\u001b[0m \u001b[1;33m\u001b[0m\u001b[0m\n\u001b[0;32m     51\u001b[0m \u001b[1;31m# Protocol buffers\u001b[0m\u001b[1;33m\u001b[0m\u001b[1;33m\u001b[0m\u001b[1;33m\u001b[0m\u001b[0m\n\u001b[1;32m---> 52\u001b[1;33m \u001b[1;32mfrom\u001b[0m \u001b[0mtensorflow\u001b[0m\u001b[1;33m.\u001b[0m\u001b[0mcore\u001b[0m\u001b[1;33m.\u001b[0m\u001b[0mframework\u001b[0m\u001b[1;33m.\u001b[0m\u001b[0mgraph_pb2\u001b[0m \u001b[1;32mimport\u001b[0m \u001b[1;33m*\u001b[0m\u001b[1;33m\u001b[0m\u001b[1;33m\u001b[0m\u001b[0m\n\u001b[0m\u001b[0;32m     53\u001b[0m \u001b[1;32mfrom\u001b[0m \u001b[0mtensorflow\u001b[0m\u001b[1;33m.\u001b[0m\u001b[0mcore\u001b[0m\u001b[1;33m.\u001b[0m\u001b[0mframework\u001b[0m\u001b[1;33m.\u001b[0m\u001b[0mnode_def_pb2\u001b[0m \u001b[1;32mimport\u001b[0m \u001b[1;33m*\u001b[0m\u001b[1;33m\u001b[0m\u001b[1;33m\u001b[0m\u001b[0m\n\u001b[0;32m     54\u001b[0m \u001b[1;32mfrom\u001b[0m \u001b[0mtensorflow\u001b[0m\u001b[1;33m.\u001b[0m\u001b[0mcore\u001b[0m\u001b[1;33m.\u001b[0m\u001b[0mframework\u001b[0m\u001b[1;33m.\u001b[0m\u001b[0msummary_pb2\u001b[0m \u001b[1;32mimport\u001b[0m \u001b[1;33m*\u001b[0m\u001b[1;33m\u001b[0m\u001b[1;33m\u001b[0m\u001b[0m\n",
      "\u001b[1;32mC:\\ProgramData\\Anaconda3\\lib\\site-packages\\tensorflow\\core\\framework\\graph_pb2.py\u001b[0m in \u001b[0;36m<module>\u001b[1;34m\u001b[0m\n\u001b[0;32m     13\u001b[0m \u001b[1;33m\u001b[0m\u001b[0m\n\u001b[0;32m     14\u001b[0m \u001b[1;33m\u001b[0m\u001b[0m\n\u001b[1;32m---> 15\u001b[1;33m \u001b[1;32mfrom\u001b[0m \u001b[0mtensorflow\u001b[0m\u001b[1;33m.\u001b[0m\u001b[0mcore\u001b[0m\u001b[1;33m.\u001b[0m\u001b[0mframework\u001b[0m \u001b[1;32mimport\u001b[0m \u001b[0mnode_def_pb2\u001b[0m \u001b[1;32mas\u001b[0m \u001b[0mtensorflow_dot_core_dot_framework_dot_node__def__pb2\u001b[0m\u001b[1;33m\u001b[0m\u001b[1;33m\u001b[0m\u001b[0m\n\u001b[0m\u001b[0;32m     16\u001b[0m \u001b[1;32mfrom\u001b[0m \u001b[0mtensorflow\u001b[0m\u001b[1;33m.\u001b[0m\u001b[0mcore\u001b[0m\u001b[1;33m.\u001b[0m\u001b[0mframework\u001b[0m \u001b[1;32mimport\u001b[0m \u001b[0mfunction_pb2\u001b[0m \u001b[1;32mas\u001b[0m \u001b[0mtensorflow_dot_core_dot_framework_dot_function__pb2\u001b[0m\u001b[1;33m\u001b[0m\u001b[1;33m\u001b[0m\u001b[0m\n\u001b[0;32m     17\u001b[0m \u001b[1;32mfrom\u001b[0m \u001b[0mtensorflow\u001b[0m\u001b[1;33m.\u001b[0m\u001b[0mcore\u001b[0m\u001b[1;33m.\u001b[0m\u001b[0mframework\u001b[0m \u001b[1;32mimport\u001b[0m \u001b[0mversions_pb2\u001b[0m \u001b[1;32mas\u001b[0m \u001b[0mtensorflow_dot_core_dot_framework_dot_versions__pb2\u001b[0m\u001b[1;33m\u001b[0m\u001b[1;33m\u001b[0m\u001b[0m\n",
      "\u001b[1;32mC:\\ProgramData\\Anaconda3\\lib\\site-packages\\tensorflow\\core\\framework\\node_def_pb2.py\u001b[0m in \u001b[0;36m<module>\u001b[1;34m\u001b[0m\n\u001b[0;32m     13\u001b[0m \u001b[1;33m\u001b[0m\u001b[0m\n\u001b[0;32m     14\u001b[0m \u001b[1;33m\u001b[0m\u001b[0m\n\u001b[1;32m---> 15\u001b[1;33m \u001b[1;32mfrom\u001b[0m \u001b[0mtensorflow\u001b[0m\u001b[1;33m.\u001b[0m\u001b[0mcore\u001b[0m\u001b[1;33m.\u001b[0m\u001b[0mframework\u001b[0m \u001b[1;32mimport\u001b[0m \u001b[0mattr_value_pb2\u001b[0m \u001b[1;32mas\u001b[0m \u001b[0mtensorflow_dot_core_dot_framework_dot_attr__value__pb2\u001b[0m\u001b[1;33m\u001b[0m\u001b[1;33m\u001b[0m\u001b[0m\n\u001b[0m\u001b[0;32m     16\u001b[0m \u001b[1;33m\u001b[0m\u001b[0m\n\u001b[0;32m     17\u001b[0m \u001b[1;33m\u001b[0m\u001b[0m\n",
      "\u001b[1;32mC:\\ProgramData\\Anaconda3\\lib\\site-packages\\tensorflow\\core\\framework\\attr_value_pb2.py\u001b[0m in \u001b[0;36m<module>\u001b[1;34m\u001b[0m\n\u001b[0;32m     13\u001b[0m \u001b[1;33m\u001b[0m\u001b[0m\n\u001b[0;32m     14\u001b[0m \u001b[1;33m\u001b[0m\u001b[0m\n\u001b[1;32m---> 15\u001b[1;33m \u001b[1;32mfrom\u001b[0m \u001b[0mtensorflow\u001b[0m\u001b[1;33m.\u001b[0m\u001b[0mcore\u001b[0m\u001b[1;33m.\u001b[0m\u001b[0mframework\u001b[0m \u001b[1;32mimport\u001b[0m \u001b[0mtensor_pb2\u001b[0m \u001b[1;32mas\u001b[0m \u001b[0mtensorflow_dot_core_dot_framework_dot_tensor__pb2\u001b[0m\u001b[1;33m\u001b[0m\u001b[1;33m\u001b[0m\u001b[0m\n\u001b[0m\u001b[0;32m     16\u001b[0m \u001b[1;32mfrom\u001b[0m \u001b[0mtensorflow\u001b[0m\u001b[1;33m.\u001b[0m\u001b[0mcore\u001b[0m\u001b[1;33m.\u001b[0m\u001b[0mframework\u001b[0m \u001b[1;32mimport\u001b[0m \u001b[0mtensor_shape_pb2\u001b[0m \u001b[1;32mas\u001b[0m \u001b[0mtensorflow_dot_core_dot_framework_dot_tensor__shape__pb2\u001b[0m\u001b[1;33m\u001b[0m\u001b[1;33m\u001b[0m\u001b[0m\n\u001b[0;32m     17\u001b[0m \u001b[1;32mfrom\u001b[0m \u001b[0mtensorflow\u001b[0m\u001b[1;33m.\u001b[0m\u001b[0mcore\u001b[0m\u001b[1;33m.\u001b[0m\u001b[0mframework\u001b[0m \u001b[1;32mimport\u001b[0m \u001b[0mtypes_pb2\u001b[0m \u001b[1;32mas\u001b[0m \u001b[0mtensorflow_dot_core_dot_framework_dot_types__pb2\u001b[0m\u001b[1;33m\u001b[0m\u001b[1;33m\u001b[0m\u001b[0m\n",
      "\u001b[1;32mC:\\ProgramData\\Anaconda3\\lib\\site-packages\\tensorflow\\core\\framework\\tensor_pb2.py\u001b[0m in \u001b[0;36m<module>\u001b[1;34m\u001b[0m\n\u001b[0;32m     13\u001b[0m \u001b[1;33m\u001b[0m\u001b[0m\n\u001b[0;32m     14\u001b[0m \u001b[1;33m\u001b[0m\u001b[0m\n\u001b[1;32m---> 15\u001b[1;33m \u001b[1;32mfrom\u001b[0m \u001b[0mtensorflow\u001b[0m\u001b[1;33m.\u001b[0m\u001b[0mcore\u001b[0m\u001b[1;33m.\u001b[0m\u001b[0mframework\u001b[0m \u001b[1;32mimport\u001b[0m \u001b[0mresource_handle_pb2\u001b[0m \u001b[1;32mas\u001b[0m \u001b[0mtensorflow_dot_core_dot_framework_dot_resource__handle__pb2\u001b[0m\u001b[1;33m\u001b[0m\u001b[1;33m\u001b[0m\u001b[0m\n\u001b[0m\u001b[0;32m     16\u001b[0m \u001b[1;32mfrom\u001b[0m \u001b[0mtensorflow\u001b[0m\u001b[1;33m.\u001b[0m\u001b[0mcore\u001b[0m\u001b[1;33m.\u001b[0m\u001b[0mframework\u001b[0m \u001b[1;32mimport\u001b[0m \u001b[0mtensor_shape_pb2\u001b[0m \u001b[1;32mas\u001b[0m \u001b[0mtensorflow_dot_core_dot_framework_dot_tensor__shape__pb2\u001b[0m\u001b[1;33m\u001b[0m\u001b[1;33m\u001b[0m\u001b[0m\n\u001b[0;32m     17\u001b[0m \u001b[1;32mfrom\u001b[0m \u001b[0mtensorflow\u001b[0m\u001b[1;33m.\u001b[0m\u001b[0mcore\u001b[0m\u001b[1;33m.\u001b[0m\u001b[0mframework\u001b[0m \u001b[1;32mimport\u001b[0m \u001b[0mtypes_pb2\u001b[0m \u001b[1;32mas\u001b[0m \u001b[0mtensorflow_dot_core_dot_framework_dot_types__pb2\u001b[0m\u001b[1;33m\u001b[0m\u001b[1;33m\u001b[0m\u001b[0m\n",
      "\u001b[1;32mC:\\ProgramData\\Anaconda3\\lib\\site-packages\\tensorflow\\core\\framework\\resource_handle_pb2.py\u001b[0m in \u001b[0;36m<module>\u001b[1;34m\u001b[0m\n\u001b[0;32m     89\u001b[0m ResourceHandleProto = _reflection.GeneratedProtocolMessageType('ResourceHandleProto', (_message.Message,), dict(\n\u001b[0;32m     90\u001b[0m   \u001b[0mDESCRIPTOR\u001b[0m \u001b[1;33m=\u001b[0m \u001b[0m_RESOURCEHANDLEPROTO\u001b[0m\u001b[1;33m,\u001b[0m\u001b[1;33m\u001b[0m\u001b[1;33m\u001b[0m\u001b[0m\n\u001b[1;32m---> 91\u001b[1;33m   \u001b[0m__module__\u001b[0m \u001b[1;33m=\u001b[0m \u001b[1;34m'tensorflow.core.framework.resource_handle_pb2'\u001b[0m\u001b[1;33m\u001b[0m\u001b[1;33m\u001b[0m\u001b[0m\n\u001b[0m\u001b[0;32m     92\u001b[0m   \u001b[1;31m# @@protoc_insertion_point(class_scope:tensorflow.ResourceHandleProto)\u001b[0m\u001b[1;33m\u001b[0m\u001b[1;33m\u001b[0m\u001b[1;33m\u001b[0m\u001b[0m\n\u001b[0;32m     93\u001b[0m   ))\n",
      "\u001b[1;31mTypeError\u001b[0m: expected bytes, Descriptor found"
     ]
    }
   ],
   "source": [
    "# essayons de faire un jeu plus equilibré avec smote (a partir du train_v1) # APrès des test ce n'est pas convaincant, \n",
    "# on abandonne le SMOTE\n",
    "\n",
    "from imblearn.over_sampling import SMOTE\n",
    "# transform the dataset\n",
    "oversample = SMOTE(sampling_strategy=0.2)\n",
    "x_smote, y_smote = oversample.fit_resample(x_train_v1, y_train)"
   ]
  },
  {
   "cell_type": "markdown",
   "metadata": {
    "colab_type": "text",
    "id": "noxjgNeqQ1nI"
   },
   "source": [
    "## Regardons rapidement quels sont les important features ds un arbre afin de selectionner les variables sur 3-6-12-24h (fait auparavant, j'ai enlevé les variables sur 3-6-12h car les 24h etaient les plus importantes sur 1 arbre\n",
    "\n"
   ]
  },
  {
   "cell_type": "code",
   "execution_count": null,
   "metadata": {
    "colab": {
     "base_uri": "https://localhost:8080/",
     "height": 839
    },
    "colab_type": "code",
    "executionInfo": {
     "elapsed": 4003,
     "status": "ok",
     "timestamp": 1591444330452,
     "user": {
      "displayName": "Camille GEORGET",
      "photoUrl": "",
      "userId": "03622189545362805141"
     },
     "user_tz": -180
    },
    "id": "afFZBi0aRBlY",
    "outputId": "bfc8387d-d8ae-431c-918e-b7ba19cdcdbe",
    "scrolled": true
   },
   "outputs": [],
   "source": [
    "from sklearn.tree import DecisionTreeClassifier\n",
    "\n",
    "# il met quelques minutes a tourner \n",
    "arbre = DecisionTreeClassifier(max_depth=10)\n",
    "arbre.fit(x_train_v1 , y_train)\n",
    "\n",
    "results(x_train_v1, y_train, x_test_v1, y_test,arbre, 0.03)\n",
    "\n",
    "# Voici le tableau des feature les plus importants\n",
    "l1 = []\n",
    "l2 = []\n",
    "for name, score in zip(list(x_train_v1.columns) , arbre.feature_importances_):\n",
    "    l1.append(name)\n",
    "    l2.append(score)\n",
    "l1l2 = {'name':  l1,\n",
    "        'score': l2}\n",
    "\n",
    "importance = pd.DataFrame (l1l2, columns = ['name','score'])\n",
    "# on trie les feature par importance\n",
    "importance.sort_values(by=['score'], ascending=False, inplace=True)\n",
    "importance.head(20)"
   ]
  },
  {
   "cell_type": "code",
   "execution_count": null,
   "metadata": {},
   "outputs": [],
   "source": []
  },
  {
   "cell_type": "markdown",
   "metadata": {},
   "source": [
    "# Dimensionality Reduction and Clustering: a partir du jeu equilibré"
   ]
  },
  {
   "cell_type": "code",
   "execution_count": null,
   "metadata": {},
   "outputs": [],
   "source": [
    "# On centre reduit les données de x_traineq avant d'appliquer ces methode\n",
    "from sklearn.manifold import TSNE\n",
    "from sklearn.decomposition import PCA, TruncatedSVD\n",
    "scaler = StandardScaler()\n",
    "redu = scaler.fit_transform(x_traineq)\n",
    "\n",
    "# T-SNE Implementation\n",
    "X_reduced_tsne = TSNE(n_components=2, random_state=42).fit_transform(redu)\n",
    "\n",
    "\n",
    "# PCA Implementation\n",
    "X_reduced_pca = PCA(n_components=2, random_state=42).fit_transform(redu)\n",
    "\n",
    "\n",
    "# TruncatedSVD\n",
    "X_reduced_svd = TruncatedSVD(n_components=2, algorithm='randomized', random_state=42).fit_transform(redu)"
   ]
  },
  {
   "cell_type": "code",
   "execution_count": null,
   "metadata": {},
   "outputs": [],
   "source": [
    "import matplotlib.patches as mpatches\n",
    "f, (ax1, ax2, ax3) = plt.subplots(1, 3, figsize=(24,6))\n",
    "# labels = ['No Fraud', 'Fraud']\n",
    "f.suptitle('Clusters using Dimensionality Reduction', fontsize=14)\n",
    "\n",
    "\n",
    "blue_patch = mpatches.Patch(color='#0A0AFF', label='No Fraud')\n",
    "red_patch = mpatches.Patch(color='#AF0000', label='Fraud')\n",
    "\n",
    "\n",
    "# t-SNE scatter plot\n",
    "ax1.scatter(X_reduced_tsne[:,0], X_reduced_tsne[:,1], c=(y_traineq == 0), cmap='coolwarm', label='No Fraud', linewidths=2)\n",
    "ax1.scatter(X_reduced_tsne[:,0], X_reduced_tsne[:,1], c=(y_traineq == 1), cmap='coolwarm', label='Fraud', linewidths=2)\n",
    "ax1.set_title('t-SNE', fontsize=14)\n",
    "\n",
    "ax1.grid(True)\n",
    "\n",
    "ax1.legend(handles=[blue_patch, red_patch])\n",
    "\n",
    "\n",
    "# PCA scatter plot\n",
    "ax2.scatter(X_reduced_pca[:,0], X_reduced_pca[:,1], c=(y_traineq == 0), cmap='coolwarm', label='No Fraud', linewidths=2)\n",
    "ax2.scatter(X_reduced_pca[:,0], X_reduced_pca[:,1], c=(y_traineq == 1), cmap='coolwarm', label='Fraud', linewidths=2)\n",
    "ax2.set_title('PCA', fontsize=14)\n",
    "\n",
    "ax2.grid(True)\n",
    "\n",
    "ax2.legend(handles=[blue_patch, red_patch])\n",
    "\n",
    "# TruncatedSVD scatter plot\n",
    "ax3.scatter(X_reduced_svd[:,0], X_reduced_svd[:,1], c=(y_traineq == 0), cmap='coolwarm', label='No Fraud', linewidths=2)\n",
    "ax3.scatter(X_reduced_svd[:,0], X_reduced_svd[:,1], c=(y_traineq == 1), cmap='coolwarm', label='Fraud', linewidths=2)\n",
    "ax3.set_title('Truncated SVD', fontsize=14)\n",
    "\n",
    "ax3.grid(True)\n",
    "\n",
    "ax3.legend(handles=[blue_patch, red_patch])\n",
    "\n",
    "plt.show()"
   ]
  },
  {
   "cell_type": "code",
   "execution_count": null,
   "metadata": {},
   "outputs": [],
   "source": [
    "# Les données sont pas super séparables en dim 2 ; peut être est ce a cause des modifications effectuées sur les variables, \n",
    "# peut etre que ce n'est juste pas visible en 2 dimensions. Nous continuons tout de même notre quête ultime "
   ]
  },
  {
   "cell_type": "code",
   "execution_count": null,
   "metadata": {},
   "outputs": [],
   "source": []
  },
  {
   "cell_type": "markdown",
   "metadata": {
    "colab_type": "text",
    "id": "6TuY8Q1aIIBQ"
   },
   "source": [
    "# III. Construction et comparaison des modèles\n",
    "\n",
    "## Arbre boostée\n",
    "\n",
    "### xgboost"
   ]
  },
  {
   "cell_type": "markdown",
   "metadata": {
    "colab_type": "text",
    "id": "nnLdKSmpSb34"
   },
   "source": [
    "# 1) RANDOM SEARCH SUR XGBOOST AVEC GPU\n",
    "\n"
   ]
  },
  {
   "cell_type": "code",
   "execution_count": 95,
   "metadata": {
    "colab": {},
    "colab_type": "code",
    "id": "8bJbTCJWQ1jf"
   },
   "outputs": [],
   "source": [
    "# on definit une fonction pour timé\n",
    "from datetime import datetime\n",
    "def timer(start_time=None):\n",
    "    if not start_time:\n",
    "        start_time = datetime.now()\n",
    "        return start_time\n",
    "    elif start_time:\n",
    "        thour, temp_sec = divmod((datetime.now() - start_time).total_seconds(), 3600)\n",
    "        tmin, tsec = divmod(temp_sec, 60)\n",
    "        print('\\n Time taken: %i hours %i minutes and %s seconds.' % (thour, tmin, round(tsec, 2)))\n"
   ]
  },
  {
   "cell_type": "code",
   "execution_count": 96,
   "metadata": {
    "colab": {},
    "colab_type": "code",
    "id": "hDD_7PMcRO7W"
   },
   "outputs": [],
   "source": [
    "from xgboost import XGBClassifier\n",
    "mon_xgb = XGBClassifier(n_estimators=1000, objective='binary:logistic') # faire plus destimateur si possible (1000 au moins )\n",
    "                   # tree_method='gpu_hist', verbosity=1) # eval_set=(x_test_v1,y_test), eval_metric='auc' # j'ai retiré ce parametre\n",
    "# explication des parametres : \n",
    "# eval metric = Evaluation metrics for validation data, a default metric will be assigned according to objective \n",
    "# (rmse for regression, and error for classification, mean average precision for ranking)\n",
    "\n",
    "# silent = Whether to print messages while running boosting. (deprecated, use verbosity instead)\n",
    "\n",
    "# auc = air sous la courbe (precision rappel) --> pas forcement le meilleur indicateur dans notre cas car on veut minimisr les faux negatif "
   ]
  },
  {
   "cell_type": "markdown",
   "metadata": {
    "colab_type": "text",
    "id": "2U93s3UdKgdG"
   },
   "source": [
    "On va voir quel type de score on va utiliser pour selectionner le meilleur set d'hyperparametre  :\n",
    "\n",
    "premiers bilan sur peu d'iterations sur randomized search cv : le scoring importe pas bcp car a la fin on peut ajuster un peu comme on veut le seuil \n",
    "\n",
    "score testé : \n",
    "\n",
    "- f1_weighted\n",
    "\n",
    "- recall \n",
    "\n",
    "- ma propre loss (construite ci dessous)"
   ]
  },
  {
   "cell_type": "code",
   "execution_count": 97,
   "metadata": {
    "colab": {},
    "colab_type": "code",
    "id": "gTYRa9vAJn4A"
   },
   "outputs": [],
   "source": [
    "# on va essayer de definir notre propre loss\n",
    "from sklearn.metrics import fbeta_score, make_scorer, confusion_matrix\n",
    "import numpy as np\n",
    "def my_custom_loss_func(y_true, y_pred, poids=20):\n",
    "  FP = confusion_matrix(y_true, y_pred)[0,1]\n",
    "  FN = confusion_matrix(y_true, y_pred)[1,0]\n",
    "  return (poids*FN+FP) # les FN comptent n fois plus que les FP\n",
    "\n",
    "\n",
    "mon_score = make_scorer(my_custom_loss_func, greater_is_better=False)"
   ]
  },
  {
   "cell_type": "markdown",
   "metadata": {
    "colab_type": "text",
    "id": "qhatc-cQIIBW"
   },
   "source": [
    "voici quelques hyperparametre a tuner (a retrouver sur https://www.datacamp.com/community/tutorials/xgboost-in-python#hyperparameters)\n",
    "- learning_rate: step size shrinkage used to prevent overfitting. Range is [0,1]\n",
    "- max_depth: determines how deeply each tree is allowed to grow during any boosting round.\n",
    "- subsample: percentage of samples used per tree. Low value can lead to underfitting.\n",
    "- colsample_bytree: percentage of features used per tree. High value can lead to overfitting.\n",
    "- n_estimators: number of trees you want to build.\n",
    "- objective: determines the loss function to be used like reg:linear for regression problems, reg:logistic for classification problems with only decision, binary:logistic for classification problems with probability.\n",
    "\n",
    "\n",
    "XGBoost also supports regularization parameters to penalize models as they become more complex and reduce them to simple (parsimonious) models.\n",
    "\n",
    "- gamma: controls whether a given node will split based on the expected reduction in loss after the split. A higher value leads to fewer splits. Supported only for tree-based learners.\n",
    "- alpha: L1 regularization on leaf weights. A large value leads to more regularization.\n",
    "- lambda: L2 regularization on leaf weights and is smoother than L1 regularization."
   ]
  },
  {
   "cell_type": "code",
   "execution_count": 154,
   "metadata": {
    "colab": {
     "base_uri": "https://localhost:8080/",
     "height": 153
    },
    "colab_type": "code",
    "executionInfo": {
     "elapsed": 184632,
     "status": "ok",
     "timestamp": 1591444511447,
     "user": {
      "displayName": "Camille GEORGET",
      "photoUrl": "",
      "userId": "03622189545362805141"
     },
     "user_tz": -180
    },
    "id": "IwqzOEOpAskm",
    "outputId": "dc72afc6-d5b6-4534-d23f-90e5d4cec192"
   },
   "outputs": [
    {
     "name": "stdout",
     "output_type": "stream",
     "text": [
      "Fitting 2 folds for each of 1 candidates, totalling 2 fits\n"
     ]
    },
    {
     "name": "stderr",
     "output_type": "stream",
     "text": [
      "[Parallel(n_jobs=-1)]: Using backend LokyBackend with 4 concurrent workers.\n",
      "[Parallel(n_jobs=-1)]: Done   2 out of   2 | elapsed:   39.3s remaining:    0.0s\n",
      "[Parallel(n_jobs=-1)]: Done   2 out of   2 | elapsed:   39.3s finished\n"
     ]
    },
    {
     "name": "stdout",
     "output_type": "stream",
     "text": [
      "\n",
      " Time taken: 0 hours 0 minutes and 59.89 seconds.\n",
      "CPU times: user 13.3 s, sys: 7.51 s, total: 20.8 s\n",
      "Wall time: 60 s\n"
     ]
    }
   ],
   "source": [
    "# essayons un randomized search cv avec le gpu, et avec un score qui n'est pas l'accuracy mais plutot \n",
    "# quelquechose qui favoriserait la detection de fraude \n",
    "%%time \n",
    "from sklearn.model_selection import RandomizedSearchCV\n",
    "from sklearn.model_selection import StratifiedKFold\n",
    "params = {\n",
    "        'scale_pos_weight':[25,50,100], # poids des 1 p/r aux 0\n",
    "        'min_child_weight': [1, 5, 10],\n",
    "        'gamma': [0.5, 1, 1.5, 2, 5],\n",
    "        'subsample': [0.5, 0.67, 0.85, 1.0],\n",
    "        'colsample_bytree': [0.5, 0.67, 0.85, 1.0],\n",
    "        'max_depth': [3, 5, 7, 10, 15, 20],\n",
    "        'learning_rate': [0.005, 0.01, 0.02, 0.05]\n",
    "        \n",
    "\n",
    "        }\n",
    "\n",
    "cross_val = StratifiedKFold(n_splits=2)\n",
    "random_search = RandomizedSearchCV(mon_xgb, param_distributions=params, n_iter=1, scoring=mon_score, n_jobs=-1, cv=cross_val, verbose=10, random_state=1001 )\n",
    "# scoring va nous permettre de definir le critere a optimiser, et je suppose que le 'best model' sera selectionné en fct de ce score, cest ça\n",
    "\n",
    "\"\"\" Note : loss != scoring \n",
    "Loss: The metric that your fitting method optimizes for a given model with all hyperparameters set.\n",
    "Scoring: The metric used to choose between your optimized model (i.e. how you pick the best hyperparameters).\n",
    "\"\"\"\n",
    "\n",
    "\n",
    "\n",
    "# Here we go\n",
    "start_time = timer(None) # timing starts from this point for \"start_time\" variable\n",
    "random_search.fit(x_train_v1, y_train)\n",
    "timer(start_time) \n",
    "\n"
   ]
  },
  {
   "cell_type": "code",
   "execution_count": 155,
   "metadata": {
    "colab": {
     "base_uri": "https://localhost:8080/",
     "height": 136
    },
    "colab_type": "code",
    "executionInfo": {
     "elapsed": 184608,
     "status": "ok",
     "timestamp": 1591444511448,
     "user": {
      "displayName": "Camille GEORGET",
      "photoUrl": "",
      "userId": "03622189545362805141"
     },
     "user_tz": -180
    },
    "id": "iQ76_AyiF2wG",
    "outputId": "9d98d0d2-d724-4b81-dfc8-b43f066165f7"
   },
   "outputs": [
    {
     "data": {
      "text/plain": [
       "{'colsample_bytree': 1.0,\n",
       " 'gamma': 1.5,\n",
       " 'learning_rate': 0.02,\n",
       " 'max_depth': 7,\n",
       " 'min_child_weight': 5,\n",
       " 'scale_pos_weight': 100,\n",
       " 'subsample': 0.67}"
      ]
     },
     "execution_count": 155,
     "metadata": {
      "tags": []
     },
     "output_type": "execute_result"
    }
   ],
   "source": [
    "best_params = random_search.best_params_\n",
    "best_params"
   ]
  },
  {
   "cell_type": "markdown",
   "metadata": {
    "colab_type": "text",
    "id": "2k5DOPKcrpJV"
   },
   "source": [
    "Pour x_train_v1, avec \n",
    "{'colsample_bytree': 0.67,\n",
    " 'gamma': 1.5,\n",
    " 'learning_rate': 0.005,\n",
    " 'max_depth': 7,\n",
    " 'min_child_weight': 1,\n",
    " 'scale_pos_weight': 25,\n",
    " 'subsample': 0.5}           \n",
    " On arrive a 5% d'erreur pour 65% de bonne prediction chez les fraudes. On constate le meme genre de resultats avec des petites variabtions de param, et aussi avec le x_train_v2 \n",
    " \n"
   ]
  },
  {
   "cell_type": "code",
   "execution_count": 156,
   "metadata": {
    "colab": {
     "base_uri": "https://localhost:8080/",
     "height": 187
    },
    "colab_type": "code",
    "executionInfo": {
     "elapsed": 184836,
     "status": "ok",
     "timestamp": 1591444511698,
     "user": {
      "displayName": "Camille GEORGET",
      "photoUrl": "",
      "userId": "03622189545362805141"
     },
     "user_tz": -180
    },
    "id": "xDto9zG2c5gp",
    "outputId": "e9fba453-800d-451f-ba26-8b8d184de977"
   },
   "outputs": [
    {
     "name": "stdout",
     "output_type": "stream",
     "text": [
      "fraude      0     1\n",
      "row_0              \n",
      "0       75387   445\n",
      "1       24614  5714\n",
      "\n",
      "\n",
      "fraude       0    1\n",
      "row_0              \n",
      "0       127463  217\n",
      "1        44165  870\n"
     ]
    }
   ],
   "source": [
    "results(x_train_v1, y_train, x_test_v1, y_test, random_search.best_estimator_, 0.7)"
   ]
  },
  {
   "cell_type": "code",
   "execution_count": 157,
   "metadata": {
    "colab": {
     "base_uri": "https://localhost:8080/",
     "height": 34
    },
    "colab_type": "code",
    "executionInfo": {
     "elapsed": 184809,
     "status": "ok",
     "timestamp": 1591444511699,
     "user": {
      "displayName": "Camille GEORGET",
      "photoUrl": "",
      "userId": "03622189545362805141"
     },
     "user_tz": -180
    },
    "id": "vkZiq-grSU0H",
    "outputId": "dc87bf32-b4ba-432c-e00b-9b863233944c"
   },
   "outputs": [
    {
     "data": {
      "text/plain": [
       "6159"
      ]
     },
     "execution_count": 157,
     "metadata": {
      "tags": []
     },
     "output_type": "execute_result"
    }
   ],
   "source": [
    "sum(y_train)"
   ]
  },
  {
   "cell_type": "code",
   "execution_count": 0,
   "metadata": {
    "colab": {},
    "colab_type": "code",
    "id": "Qksk1MVhSU7r"
   },
   "outputs": [],
   "source": []
  },
  {
   "cell_type": "code",
   "execution_count": 0,
   "metadata": {
    "colab": {},
    "colab_type": "code",
    "id": "KDo04MTmSVC2"
   },
   "outputs": [],
   "source": []
  },
  {
   "cell_type": "markdown",
   "metadata": {
    "colab_type": "text",
    "id": "_U9agH9lAqdN"
   },
   "source": [
    "Essayons mtn d'entrainer notre modele avec les parametre trouvés, avec un lr plus faible et plus d'arbre\n"
   ]
  },
  {
   "cell_type": "code",
   "execution_count": 98,
   "metadata": {
    "colab": {
     "base_uri": "https://localhost:8080/",
     "height": 136
    },
    "colab_type": "code",
    "executionInfo": {
     "elapsed": 372326,
     "status": "ok",
     "timestamp": 1591444699269,
     "user": {
      "displayName": "Camille GEORGET",
      "photoUrl": "",
      "userId": "03622189545362805141"
     },
     "user_tz": -180
    },
    "id": "bs6LSZBoSU5R",
    "outputId": "d6eb3ab5-280e-4fc2-b7c7-9843421dc5eb"
   },
   "outputs": [
    {
     "data": {
      "text/plain": [
       "XGBClassifier(base_score=0.5, booster='gbtree', colsample_bylevel=1,\n",
       "              colsample_bynode=1, colsample_bytree=0.67, gamma=1.5,\n",
       "              learning_rate=0.01, max_delta_step=0, max_depth=7,\n",
       "              min_child_weight=1, missing=None, n_estimators=1000, n_jobs=1,\n",
       "              nthread=None, objective='binary:logistic', random_state=0,\n",
       "              reg_alpha=0, reg_lambda=1, scale_pos_weight=25, seed=None,\n",
       "              silent=None, subsample=0.5, verbosity=1)"
      ]
     },
     "execution_count": 98,
     "metadata": {},
     "output_type": "execute_result"
    }
   ],
   "source": [
    "from xgboost import XGBClassifier\n",
    "\n",
    "finalxgb = XGBClassifier(n_estimators=1000,\n",
    "                        colsample_bytree=0.67,\n",
    "                        gamma=1.5, \n",
    "                        learning_rate = 0.01, \n",
    "                        max_depth= 7, \n",
    "                        min_child_weight= 1, \n",
    "                        scale_pos_weight = 25, \n",
    "                        subsample =0.5,\n",
    "                        #tree_method='gpu_hist',\n",
    "                        verbosity=1)\n",
    "finalxgb.fit(x_train_v1, y_train)"
   ]
  },
  {
   "cell_type": "code",
   "execution_count": 99,
   "metadata": {
    "colab": {
     "base_uri": "https://localhost:8080/",
     "height": 187
    },
    "colab_type": "code",
    "executionInfo": {
     "elapsed": 3302,
     "status": "ok",
     "timestamp": 1591445977384,
     "user": {
      "displayName": "Camille GEORGET",
      "photoUrl": "",
      "userId": "03622189545362805141"
     },
     "user_tz": -180
    },
    "id": "W5uqs_ypSU3K",
    "outputId": "0940ac0a-de9b-40ea-a314-b0b99bb48eb5"
   },
   "outputs": [
    {
     "name": "stdout",
     "output_type": "stream",
     "text": [
      "fraude      0     1\n",
      "row_0              \n",
      "0       95310  2227\n",
      "1        4691  3932\n",
      "\n",
      "\n",
      "fraude       0    1\n",
      "row_0              \n",
      "0       163074  416\n",
      "1         8554  671\n"
     ]
    }
   ],
   "source": [
    "results(x_train_v1, y_train, x_test_v1, y_test, finalxgb, 0.75) # pas mal, 95% acc avec 65% des fraude bien predit "
   ]
  },
  {
   "cell_type": "code",
   "execution_count": 0,
   "metadata": {
    "colab": {},
    "colab_type": "code",
    "id": "dfEU_5rzoewM"
   },
   "outputs": [],
   "source": []
  },
  {
   "cell_type": "code",
   "execution_count": 102,
   "metadata": {
    "colab": {},
    "colab_type": "code",
    "id": "tnd3x0Bboe1g"
   },
   "outputs": [
    {
     "name": "stdout",
     "output_type": "stream",
     "text": [
      "Fitting 2 folds for each of 50 candidates, totalling 100 fits\n"
     ]
    },
    {
     "name": "stderr",
     "output_type": "stream",
     "text": [
      "[Parallel(n_jobs=-1)]: Using backend LokyBackend with 8 concurrent workers.\n",
      "[Parallel(n_jobs=-1)]: Done   2 tasks      | elapsed:   10.9s\n",
      "[Parallel(n_jobs=-1)]: Done   9 tasks      | elapsed:   48.4s\n",
      "[Parallel(n_jobs=-1)]: Done  16 tasks      | elapsed:   58.4s\n",
      "[Parallel(n_jobs=-1)]: Done  25 tasks      | elapsed:  1.9min\n",
      "[Parallel(n_jobs=-1)]: Done  34 tasks      | elapsed:  2.3min\n",
      "[Parallel(n_jobs=-1)]: Done  45 tasks      | elapsed:  3.3min\n",
      "[Parallel(n_jobs=-1)]: Done  56 tasks      | elapsed:  3.8min\n",
      "[Parallel(n_jobs=-1)]: Done  69 tasks      | elapsed:  5.0min\n",
      "[Parallel(n_jobs=-1)]: Done  82 tasks      | elapsed:  5.6min\n",
      "[Parallel(n_jobs=-1)]: Done  96 out of 100 | elapsed:  6.5min remaining:   16.1s\n",
      "[Parallel(n_jobs=-1)]: Done 100 out of 100 | elapsed:  6.7min finished\n"
     ]
    },
    {
     "name": "stdout",
     "output_type": "stream",
     "text": [
      "\n",
      " Time taken: 0 hours 6 minutes and 53.72 seconds.\n"
     ]
    }
   ],
   "source": [
    "# essayons de nouveau d'entrainer un xgboost mais avec le jeu equilibré cette fois\n",
    "\n",
    "from sklearn.model_selection import RandomizedSearchCV\n",
    "from sklearn.model_selection import StratifiedKFold\n",
    "params = {\n",
    "        'min_child_weight': [1, 5, 10],\n",
    "        'gamma': [0.5, 1, 1.5, 2, 5],\n",
    "        'subsample': [0.5, 0.67, 0.85, 1.0],\n",
    "        'colsample_bytree': [0.5, 0.67, 0.85, 1.0],\n",
    "        'max_depth': [3, 5, 7, 10, 15, 20],\n",
    "        'learning_rate': [0.005, 0.01, 0.02, 0.05]\n",
    "        \n",
    "\n",
    "        }\n",
    "\n",
    "cross_val = StratifiedKFold(n_splits=2)\n",
    "random_search = RandomizedSearchCV(mon_xgb, param_distributions=params, n_iter=50, n_jobs=-1, cv=cross_val, verbose=10) # a ajouter : scoring=mon_score\n",
    "# scoring va nous permettre de definir le critere a optimiser, et je suppose que le 'best model' sera selectionné en fct de ce score, cest ça\n",
    "\n",
    "\"\"\" Note : loss != scoring \n",
    "Loss: The metric that your fitting method optimizes for a given model with all hyperparameters set.\n",
    "Scoring: The metric used to choose between your optimized model (i.e. how you pick the best hyperparameters).\n",
    "\"\"\"\n",
    "\n",
    "\n",
    "\n",
    "# Here we go\n",
    "start_time = timer(None) # timing starts from this point for \"start_time\" variable\n",
    "random_search.fit(x_traineq, y_traineq)\n",
    "timer(start_time) \n"
   ]
  },
  {
   "cell_type": "code",
   "execution_count": 103,
   "metadata": {},
   "outputs": [
    {
     "name": "stdout",
     "output_type": "stream",
     "text": [
      "fraude     0     1\n",
      "row_0             \n",
      "0       5879  2540\n",
      "1        281  3619\n",
      "\n",
      "\n",
      "fraude       0    1\n",
      "row_0              \n",
      "0       162011  412\n",
      "1         9617  675\n"
     ]
    }
   ],
   "source": [
    "results(x_traineq, y_traineq, x_test_v1, y_test, random_search.best_estimator_, 0.7) #c'est pas mal du tout sur le jeu de test\n",
    "# par rapport a ce quon a deja eu, c'est meme quasi mieux , et memepas besoin de mon score il sert a rien, jsuis deg "
   ]
  },
  {
   "cell_type": "code",
   "execution_count": 105,
   "metadata": {},
   "outputs": [
    {
     "name": "stdout",
     "output_type": "stream",
     "text": [
      "{'subsample': 0.85, 'min_child_weight': 1, 'max_depth': 5, 'learning_rate': 0.005, 'gamma': 1.5, 'colsample_bytree': 1.0}\n"
     ]
    },
    {
     "data": {
      "text/plain": [
       "\"'subsample': 0.85,\\n 'min_child_weight': 1,\\n 'max_depth': 5,\\n 'learning_rate': 0.005,\\n 'gamma': 1.5,\\n 'colsample_bytree': 1.0\\n \""
      ]
     },
     "execution_count": 105,
     "metadata": {},
     "output_type": "execute_result"
    }
   ],
   "source": [
    "best_params = random_search.best_params_\n",
    "print(best_params)\n",
    "\"\"\"'subsample': 0.85,\n",
    " 'min_child_weight': 1,\n",
    " 'max_depth': 5,\n",
    " 'learning_rate': 0.005,\n",
    " 'gamma': 1.5,\n",
    " 'colsample_bytree': 1.0\n",
    " \"\"\""
   ]
  },
  {
   "cell_type": "code",
   "execution_count": null,
   "metadata": {},
   "outputs": [],
   "source": []
  },
  {
   "cell_type": "code",
   "execution_count": null,
   "metadata": {},
   "outputs": [],
   "source": []
  },
  {
   "cell_type": "code",
   "execution_count": null,
   "metadata": {},
   "outputs": [],
   "source": []
  },
  {
   "cell_type": "code",
   "execution_count": 191,
   "metadata": {},
   "outputs": [
    {
     "name": "stdout",
     "output_type": "stream",
     "text": [
      "Fitting 2 folds for each of 20 candidates, totalling 40 fits\n"
     ]
    },
    {
     "name": "stderr",
     "output_type": "stream",
     "text": [
      "[Parallel(n_jobs=-1)]: Using backend LokyBackend with 8 concurrent workers.\n",
      "[Parallel(n_jobs=-1)]: Done   2 tasks      | elapsed:   25.1s\n",
      "[Parallel(n_jobs=-1)]: Done   9 tasks      | elapsed:   48.5s\n",
      "[Parallel(n_jobs=-1)]: Done  16 tasks      | elapsed:  1.4min\n",
      "[Parallel(n_jobs=-1)]: Done  25 tasks      | elapsed:  1.9min\n",
      "[Parallel(n_jobs=-1)]: Done  30 out of  40 | elapsed:  2.0min remaining:   40.8s\n",
      "[Parallel(n_jobs=-1)]: Done  35 out of  40 | elapsed:  2.4min remaining:   20.1s\n",
      "[Parallel(n_jobs=-1)]: Done  40 out of  40 | elapsed:  2.6min remaining:    0.0s\n",
      "[Parallel(n_jobs=-1)]: Done  40 out of  40 | elapsed:  2.6min finished\n"
     ]
    },
    {
     "name": "stdout",
     "output_type": "stream",
     "text": [
      "\n",
      " Time taken: 0 hours 2 minutes and 46.01 seconds.\n"
     ]
    }
   ],
   "source": [
    "# dernier essaie avec le jeux equilibré pca\n",
    "\n",
    "from sklearn.model_selection import RandomizedSearchCV\n",
    "from sklearn.model_selection import StratifiedKFold\n",
    "params = {\n",
    "        'min_child_weight': [1, 5, 10],\n",
    "        'gamma': [0.5, 1, 1.5, 2, 5],\n",
    "        'subsample': [0.5, 0.67, 0.85, 1.0],\n",
    "        'colsample_bytree': [0.5, 0.67, 0.85, 1.0],\n",
    "        'max_depth': [3, 5, 7, 10, 15, 20],\n",
    "        'learning_rate': [0.005, 0.01, 0.02, 0.05]\n",
    "        \n",
    "\n",
    "        }\n",
    "\n",
    "cross_val = StratifiedKFold(n_splits=2)\n",
    "random_search = RandomizedSearchCV(mon_xgb, param_distributions=params, n_iter=20, n_jobs=-1, cv=cross_val, verbose=10) # a ajouter : scoring=mon_score\n",
    "# scoring va nous permettre de definir le critere a optimiser, et je suppose que le 'best model' sera selectionné en fct de ce score, cest ça\n",
    "\n",
    "\"\"\" Note : loss != scoring \n",
    "Loss: The metric that your fitting method optimizes for a given model with all hyperparameters set.\n",
    "Scoring: The metric used to choose between your optimized model (i.e. how you pick the best hyperparameters).\n",
    "\"\"\"\n",
    "\n",
    "\n",
    "\n",
    "# Here we go\n",
    "start_time = timer(None) # timing starts from this point for \"start_time\" variable\n",
    "random_search.fit(x_traineq_pca, y_traineq)\n",
    "timer(start_time) \n"
   ]
  },
  {
   "cell_type": "code",
   "execution_count": 193,
   "metadata": {},
   "outputs": [
    {
     "name": "stdout",
     "output_type": "stream",
     "text": [
      "fraude     0     1\n",
      "row_0             \n",
      "0       5998  2597\n",
      "1        162  3562\n",
      "\n",
      "\n",
      "fraude       0    1\n",
      "row_0              \n",
      "0       163468  457\n",
      "1         8160  630\n"
     ]
    }
   ],
   "source": [
    "results(x_traineq_pca, y_traineq, x_test_pca, y_test, random_search.best_estimator_, 0.75) # ça change pas grand chose ..."
   ]
  },
  {
   "cell_type": "code",
   "execution_count": null,
   "metadata": {},
   "outputs": [],
   "source": []
  },
  {
   "cell_type": "code",
   "execution_count": null,
   "metadata": {},
   "outputs": [],
   "source": []
  },
  {
   "cell_type": "markdown",
   "metadata": {
    "colab_type": "text",
    "id": "CIdR8DgvS_Uz"
   },
   "source": [
    "## Continuons avec les arbres, essyons une foret et comparons notre modele xgb avec cette foret a l'aide des courbes ROC AUC"
   ]
  },
  {
   "cell_type": "code",
   "execution_count": 107,
   "metadata": {
    "colab": {},
    "colab_type": "code",
    "id": "CWJh5KIJoezq"
   },
   "outputs": [],
   "source": [
    "from sklearn.model_selection import RandomizedSearchCV\n",
    "from scipy.stats import reciprocal, uniform\n",
    "from sklearn.ensemble import RandomForestClassifier\n",
    "from sklearn.model_selection import StratifiedKFold\n",
    "weights={0:1, 1:25}\n",
    "params2 = {\n",
    "        'criterion':['gini','entropy'], \n",
    "        'bootstrap': [True, False],\n",
    "        'max_depth': [10, 20, 30, 40, 50, 60, 70, 80, 90, 100, None],\n",
    "        'max_features':list(range(2, 32)),\n",
    "        'min_samples_leaf': [1, 2, 4],\n",
    "        'min_samples_split': [2, 5, 10],\n",
    "        'n_estimators': [200, 400, 600, 800, 1000]  #, 1200, 1400, 1600, 1800, 2000]\n",
    "        }\n",
    "\n",
    "cross_val = StratifiedKFold(n_splits=2)\n"
   ]
  },
  {
   "cell_type": "code",
   "execution_count": 161,
   "metadata": {
    "colab": {
     "base_uri": "https://localhost:8080/",
     "height": 105
    },
    "colab_type": "code",
    "executionInfo": {
     "elapsed": 753858,
     "status": "ok",
     "timestamp": 1591445080876,
     "user": {
      "displayName": "Camille GEORGET",
      "photoUrl": "",
      "userId": "03622189545362805141"
     },
     "user_tz": -180
    },
    "id": "ZUsK7_5xTM39",
    "outputId": "ccfddc41-a6d1-4f5c-b4db-5e04081ef04e"
   },
   "outputs": [
    {
     "name": "stdout",
     "output_type": "stream",
     "text": [
      "Fitting 2 folds for each of 1 candidates, totalling 2 fits\n"
     ]
    },
    {
     "name": "stderr",
     "output_type": "stream",
     "text": [
      "[Parallel(n_jobs=-1)]: Using backend LokyBackend with 4 concurrent workers.\n",
      "[Parallel(n_jobs=-1)]: Done   2 out of   2 | elapsed:  2.1min finished\n"
     ]
    },
    {
     "data": {
      "text/plain": [
       "\"\\n{'n_estimators': 800,\\n 'min_samples_split': 5,\\n 'min_samples_leaf': 4,\\n 'max_features': 13,\\n 'max_depth': 10,\\n 'criterion': 'gini',\\n 'bootstrap': False} apres 20 iterations\\n\""
      ]
     },
     "execution_count": 161,
     "metadata": {
      "tags": []
     },
     "output_type": "execute_result"
    }
   ],
   "source": [
    "rnd_search_cv = RandomizedSearchCV(RandomForestClassifier (class_weight = weights), params2,scoring=mon_score, cv=cross_val, n_iter=1, verbose=1, n_jobs=-1)\n",
    "rnd_search_cv.fit(x_train_v1, y_train)\n",
    "\n",
    "best_params = rnd_search_cv.best_params_\n",
    "best_params\n",
    "\n",
    "\"\"\"\n",
    "{'n_estimators': 800,\n",
    " 'min_samples_split': 5,\n",
    " 'min_samples_leaf': 4,\n",
    " 'max_features': 13,\n",
    " 'max_depth': 10,\n",
    " 'criterion': 'gini',\n",
    " 'bootstrap': False} apres 20 iterations\n",
    "\"\"\""
   ]
  },
  {
   "cell_type": "code",
   "execution_count": 176,
   "metadata": {
    "colab": {
     "base_uri": "https://localhost:8080/",
     "height": 187
    },
    "colab_type": "code",
    "executionInfo": {
     "elapsed": 17233,
     "status": "ok",
     "timestamp": 1591446058063,
     "user": {
      "displayName": "Camille GEORGET",
      "photoUrl": "",
      "userId": "03622189545362805141"
     },
     "user_tz": -180
    },
    "id": "EhiMoXT-TMxc",
    "outputId": "d19cc212-9c3d-431a-ca54-3996b44673f1"
   },
   "outputs": [
    {
     "name": "stdout",
     "output_type": "stream",
     "text": [
      "fraude      0     1\n",
      "row_0              \n",
      "0       96466     0\n",
      "1        3535  6159\n",
      "\n",
      "\n",
      "fraude       0    1\n",
      "row_0              \n",
      "0       162693  677\n",
      "1         8935  410\n"
     ]
    }
   ],
   "source": [
    "results(x_train_v1, y_train, x_test_v1, y_test, rnd_search_cv.best_estimator_, 0.3) # ok"
   ]
  },
  {
   "cell_type": "code",
   "execution_count": 177,
   "metadata": {
    "colab": {
     "base_uri": "https://localhost:8080/",
     "height": 153
    },
    "colab_type": "code",
    "executionInfo": {
     "elapsed": 165551,
     "status": "ok",
     "timestamp": 1591446235619,
     "user": {
      "displayName": "Camille GEORGET",
      "photoUrl": "",
      "userId": "03622189545362805141"
     },
     "user_tz": -180
    },
    "id": "pk2D2MOPTM1C",
    "outputId": "7cba67cc-6378-4630-9ce6-9187ac8f75b9"
   },
   "outputs": [
    {
     "data": {
      "text/plain": [
       "RandomForestClassifier(bootstrap=False, ccp_alpha=0.0,\n",
       "                       class_weight={0: 1, 1: 25}, criterion='gini',\n",
       "                       max_depth=10, max_features=13, max_leaf_nodes=None,\n",
       "                       max_samples=None, min_impurity_decrease=0.0,\n",
       "                       min_impurity_split=None, min_samples_leaf=4,\n",
       "                       min_samples_split=5, min_weight_fraction_leaf=0.0,\n",
       "                       n_estimators=800, n_jobs=None, oob_score=False,\n",
       "                       random_state=None, verbose=0, warm_start=False)"
      ]
     },
     "execution_count": 177,
     "metadata": {
      "tags": []
     },
     "output_type": "execute_result"
    }
   ],
   "source": [
    "from sklearn.ensemble import RandomForestClassifier\n",
    "finalforet = RandomForestClassifier (class_weight = weights, \n",
    "                                     n_estimators = 800, \n",
    "                                     min_samples_split = 5, \n",
    "                                     min_samples_leaf = 4, \n",
    "                                     max_features = 13, \n",
    "                                     max_depth = 10, \n",
    "                                     criterion ='gini',\n",
    "                                     bootstrap = False)\n",
    "\n",
    "finalforet.fit(x_train_v1, y_train)"
   ]
  },
  {
   "cell_type": "code",
   "execution_count": 180,
   "metadata": {
    "colab": {
     "base_uri": "https://localhost:8080/",
     "height": 187
    },
    "colab_type": "code",
    "executionInfo": {
     "elapsed": 20899,
     "status": "ok",
     "timestamp": 1591446370427,
     "user": {
      "displayName": "Camille GEORGET",
      "photoUrl": "",
      "userId": "03622189545362805141"
     },
     "user_tz": -180
    },
    "id": "SLfaIksgVCYj",
    "outputId": "2b7ba849-093c-478b-da24-4c86c43ee8c6"
   },
   "outputs": [
    {
     "name": "stdout",
     "output_type": "stream",
     "text": [
      "fraude      0     1\n",
      "row_0              \n",
      "0       95068  2270\n",
      "1        4933  3889\n",
      "\n",
      "\n",
      "fraude       0    1\n",
      "row_0              \n",
      "0       162621  436\n",
      "1         9007  651\n"
     ]
    }
   ],
   "source": [
    "results(x_train_v1, y_train, x_test_v1, y_test, finalforet, 0.75) # pas mal aussi"
   ]
  },
  {
   "cell_type": "code",
   "execution_count": 0,
   "metadata": {
    "colab": {},
    "colab_type": "code",
    "id": "4B4m-aEsVCes"
   },
   "outputs": [],
   "source": []
  },
  {
   "cell_type": "code",
   "execution_count": 109,
   "metadata": {},
   "outputs": [
    {
     "name": "stdout",
     "output_type": "stream",
     "text": [
      "Fitting 2 folds for each of 20 candidates, totalling 40 fits\n"
     ]
    },
    {
     "name": "stderr",
     "output_type": "stream",
     "text": [
      "[Parallel(n_jobs=-1)]: Using backend LokyBackend with 8 concurrent workers.\n",
      "[Parallel(n_jobs=-1)]: Done  40 out of  40 | elapsed:  1.5min finished\n"
     ]
    },
    {
     "data": {
      "text/plain": [
       "{'n_estimators': 400,\n",
       " 'min_samples_split': 2,\n",
       " 'min_samples_leaf': 1,\n",
       " 'max_features': 18,\n",
       " 'max_depth': 90,\n",
       " 'criterion': 'entropy',\n",
       " 'bootstrap': True}"
      ]
     },
     "execution_count": 109,
     "metadata": {},
     "output_type": "execute_result"
    }
   ],
   "source": [
    "# essayons  aussi avec le jeu equilibré \n",
    "rnd_search_cv = RandomizedSearchCV(RandomForestClassifier (), params2,scoring=mon_score, cv=cross_val, n_iter=20, verbose=1, n_jobs=-1)\n",
    "rnd_search_cv.fit(x_traineq, y_traineq)\n",
    "\n",
    "best_params = rnd_search_cv.best_params_\n",
    "best_params"
   ]
  },
  {
   "cell_type": "code",
   "execution_count": 112,
   "metadata": {},
   "outputs": [
    {
     "name": "stdout",
     "output_type": "stream",
     "text": [
      "fraude     0     1\n",
      "row_0             \n",
      "0       6160  1457\n",
      "1          0  4702\n",
      "\n",
      "\n",
      "fraude       0    1\n",
      "row_0              \n",
      "0       160669  480\n",
      "1        10959  607\n"
     ]
    }
   ],
   "source": [
    "results(x_traineq, y_traineq, x_test_v1, y_test, rnd_search_cv.best_estimator_, 0.8) # ok c'est pas mal encore... super"
   ]
  },
  {
   "cell_type": "code",
   "execution_count": null,
   "metadata": {},
   "outputs": [],
   "source": []
  },
  {
   "cell_type": "code",
   "execution_count": null,
   "metadata": {},
   "outputs": [],
   "source": []
  },
  {
   "cell_type": "markdown",
   "metadata": {
    "colab_type": "text",
    "id": "J-wivlJ2VDYl"
   },
   "source": [
    "# Petit Adaboost pour finir avec les methodes basées sur des arbres\n"
   ]
  },
  {
   "cell_type": "code",
   "execution_count": 164,
   "metadata": {
    "colab": {
     "base_uri": "https://localhost:8080/",
     "height": 306
    },
    "colab_type": "code",
    "executionInfo": {
     "elapsed": 964894,
     "status": "ok",
     "timestamp": 1591445291990,
     "user": {
      "displayName": "Camille GEORGET",
      "photoUrl": "",
      "userId": "03622189545362805141"
     },
     "user_tz": -180
    },
    "id": "YcGHIpG_VCi5",
    "outputId": "7ec7f7eb-593b-42cd-ba89-1a843ae16af2"
   },
   "outputs": [
    {
     "data": {
      "text/plain": [
       "AdaBoostClassifier(algorithm='SAMME.R',\n",
       "                   base_estimator=DecisionTreeClassifier(ccp_alpha=0.0,\n",
       "                                                         class_weight={0: 1,\n",
       "                                                                       1: 25},\n",
       "                                                         criterion='gini',\n",
       "                                                         max_depth=None,\n",
       "                                                         max_features=None,\n",
       "                                                         max_leaf_nodes=None,\n",
       "                                                         min_impurity_decrease=0.0,\n",
       "                                                         min_impurity_split=None,\n",
       "                                                         min_samples_leaf=1,\n",
       "                                                         min_samples_split=2,\n",
       "                                                         min_weight_fraction_leaf=0.0,\n",
       "                                                         presort='deprecated',\n",
       "                                                         random_state=None,\n",
       "                                                         splitter='best'),\n",
       "                   learning_rate=0.01, n_estimators=10, random_state=42)"
      ]
     },
     "execution_count": 164,
     "metadata": {
      "tags": []
     },
     "output_type": "execute_result"
    }
   ],
   "source": [
    "# on regarde une premiere foret avec adaboost\n",
    "from sklearn.ensemble import AdaBoostClassifier\n",
    "from sklearn.tree import DecisionTreeClassifier\n",
    "\n",
    "#on entraine 200 arbres a un seul noeud. C'est lestimateur de base de adaboost_classifier\n",
    "ada_clf = AdaBoostClassifier(\n",
    "    DecisionTreeClassifier(class_weight = weights), n_estimators=10,\n",
    "    algorithm=\"SAMME.R\", learning_rate=0.01, random_state=42) \n",
    "#samme.r = modelisation additive par etape utilisant une fonction de cout exponentielle multi classe, le r = reel, il nous \n",
    "# permet de faire un vote souple car le modele dispose d'un predict_proba()\n",
    "\n",
    "#je sais pas bien comment il choisit la variable du noeud, ya surement du hasard (parcelle aleatoires)\n",
    "ada_clf.fit(x_train_v1, y_train)"
   ]
  },
  {
   "cell_type": "code",
   "execution_count": 165,
   "metadata": {
    "colab": {
     "base_uri": "https://localhost:8080/",
     "height": 187
    },
    "colab_type": "code",
    "executionInfo": {
     "elapsed": 966297,
     "status": "ok",
     "timestamp": 1591445293414,
     "user": {
      "displayName": "Camille GEORGET",
      "photoUrl": "",
      "userId": "03622189545362805141"
     },
     "user_tz": -180
    },
    "id": "JUrsaGcxZuaS",
    "outputId": "41e1c48b-a6c5-4627-a3f3-65e4ac6cf400"
   },
   "outputs": [
    {
     "name": "stdout",
     "output_type": "stream",
     "text": [
      "fraude      0     1\n",
      "row_0              \n",
      "0       98365    14\n",
      "1        1636  6145\n",
      "\n",
      "\n",
      "fraude       0    1\n",
      "row_0              \n",
      "0       164653  673\n",
      "1         6975  414\n"
     ]
    }
   ],
   "source": [
    "results(x_train_v1, y_train, x_test_v1, y_test, ada_clf, 0.5)"
   ]
  },
  {
   "cell_type": "code",
   "execution_count": 166,
   "metadata": {
    "colab": {
     "base_uri": "https://localhost:8080/",
     "height": 527
    },
    "colab_type": "code",
    "executionInfo": {
     "elapsed": 1158361,
     "status": "ok",
     "timestamp": 1591445485495,
     "user": {
      "displayName": "Camille GEORGET",
      "photoUrl": "",
      "userId": "03622189545362805141"
     },
     "user_tz": -180
    },
    "id": "PJ8rtOBwVCpL",
    "outputId": "0ea76fbc-8476-4add-f4a8-26db2c5b50e3"
   },
   "outputs": [
    {
     "name": "stdout",
     "output_type": "stream",
     "text": [
      "Fitting 2 folds for each of 2 candidates, totalling 4 fits\n"
     ]
    },
    {
     "name": "stderr",
     "output_type": "stream",
     "text": [
      "[Parallel(n_jobs=-1)]: Using backend LokyBackend with 4 concurrent workers.\n",
      "[Parallel(n_jobs=-1)]: Done   2 out of   4 | elapsed:    6.9s remaining:    6.9s\n",
      "[Parallel(n_jobs=-1)]: Done   4 out of   4 | elapsed:   59.3s finished\n"
     ]
    },
    {
     "data": {
      "text/plain": [
       "RandomizedSearchCV(cv=StratifiedKFold(n_splits=2, random_state=None, shuffle=False),\n",
       "                   error_score=nan,\n",
       "                   estimator=AdaBoostClassifier(algorithm='SAMME.R',\n",
       "                                                base_estimator=DecisionTreeClassifier(ccp_alpha=0.0,\n",
       "                                                                                      class_weight={0: 1,\n",
       "                                                                                                    1: 25},\n",
       "                                                                                      criterion='gini',\n",
       "                                                                                      max_depth=None,\n",
       "                                                                                      max_features=None,\n",
       "                                                                                      max_leaf_nodes=None,\n",
       "                                                                                      min_impurity_decrease=0.0,\n",
       "                                                                                      min_impurity_split=None,\n",
       "                                                                                      min_sam...\n",
       "                                                                                      splitter='best'),\n",
       "                                                learning_rate=1.0,\n",
       "                                                n_estimators=50,\n",
       "                                                random_state=42),\n",
       "                   iid='deprecated', n_iter=2, n_jobs=-1,\n",
       "                   param_distributions={'learning_rate': [0.01, 0.02, 0.05,\n",
       "                                                          0.1],\n",
       "                                        'n_estimators': [10, 25, 50, 100, 200,\n",
       "                                                         500]},\n",
       "                   pre_dispatch='2*n_jobs', random_state=None, refit=True,\n",
       "                   return_train_score=False,\n",
       "                   scoring=make_scorer(my_custom_loss_func, greater_is_better=False),\n",
       "                   verbose=1)"
      ]
     },
     "execution_count": 166,
     "metadata": {
      "tags": []
     },
     "output_type": "execute_result"
    }
   ],
   "source": [
    "parametre = {'n_estimators' : [10,25,50,100,200,500], 'learning_rate' : [0.01, 0.02, 0.05, 0.1]} \n",
    "\n",
    "\n",
    "\n",
    "rnd_search_cv = RandomizedSearchCV(AdaBoostClassifier(\n",
    "    DecisionTreeClassifier(class_weight = weights), \n",
    "    algorithm=\"SAMME.R\", random_state=42) , parametre, n_iter=2, verbose=1, cv=cross_val, n_jobs=-1, scoring=mon_score)\n",
    "\n",
    "\n",
    "rnd_search_cv.fit(x_train_v1, y_train)"
   ]
  },
  {
   "cell_type": "code",
   "execution_count": 167,
   "metadata": {
    "colab": {
     "base_uri": "https://localhost:8080/",
     "height": 187
    },
    "colab_type": "code",
    "executionInfo": {
     "elapsed": 1174918,
     "status": "ok",
     "timestamp": 1591445502067,
     "user": {
      "displayName": "Camille GEORGET",
      "photoUrl": "",
      "userId": "03622189545362805141"
     },
     "user_tz": -180
    },
    "id": "6m259_KEVCmt",
    "outputId": "3021ee80-e470-4ec2-92bb-93d63d5d8886"
   },
   "outputs": [
    {
     "name": "stdout",
     "output_type": "stream",
     "text": [
      "fraude      0     1\n",
      "row_0              \n",
      "0       98365    14\n",
      "1        1636  6145\n",
      "\n",
      "\n",
      "fraude       0    1\n",
      "row_0              \n",
      "0       166140  689\n",
      "1         5488  398\n"
     ]
    }
   ],
   "source": [
    "results(x_train_v1, y_train, x_test_v1, y_test, rnd_search_cv.best_estimator_, 0.5)"
   ]
  },
  {
   "cell_type": "code",
   "execution_count": 0,
   "metadata": {
    "colab": {},
    "colab_type": "code",
    "id": "9fPcHBNlVCcd"
   },
   "outputs": [],
   "source": []
  },
  {
   "cell_type": "code",
   "execution_count": 0,
   "metadata": {
    "colab": {},
    "colab_type": "code",
    "id": "JpsGrhn3ek3A"
   },
   "outputs": [],
   "source": []
  },
  {
   "cell_type": "code",
   "execution_count": 0,
   "metadata": {
    "colab": {},
    "colab_type": "code",
    "id": "oURQ1Rx-elEm"
   },
   "outputs": [],
   "source": []
  },
  {
   "cell_type": "code",
   "execution_count": 324,
   "metadata": {
    "colab": {
     "base_uri": "https://localhost:8080/",
     "height": 573
    },
    "colab_type": "code",
    "executionInfo": {
     "elapsed": 1212892,
     "status": "ok",
     "timestamp": 1591445540086,
     "user": {
      "displayName": "Camille GEORGET",
      "photoUrl": "",
      "userId": "03622189545362805141"
     },
     "user_tz": -180
    },
    "id": "Ngk81TUH-2x3",
    "outputId": "0424cfea-cd27-4058-b7e6-84213b6325cd"
   },
   "outputs": [
    {
     "ename": "NameError",
     "evalue": "name 'finalforet' is not defined",
     "output_type": "error",
     "traceback": [
      "\u001b[1;31m---------------------------------------------------------------------------\u001b[0m",
      "\u001b[1;31mNameError\u001b[0m                                 Traceback (most recent call last)",
      "\u001b[1;32m<ipython-input-324-0defc35c9022>\u001b[0m in \u001b[0;36m<module>\u001b[1;34m\u001b[0m\n\u001b[0;32m      7\u001b[0m \u001b[1;33m\u001b[0m\u001b[0m\n\u001b[0;32m      8\u001b[0m \u001b[1;31m#model1\u001b[0m\u001b[1;33m\u001b[0m\u001b[1;33m\u001b[0m\u001b[1;33m\u001b[0m\u001b[0m\n\u001b[1;32m----> 9\u001b[1;33m \u001b[0mfpr_train_m1\u001b[0m\u001b[1;33m,\u001b[0m \u001b[0mtpr_train_m1\u001b[0m\u001b[1;33m,\u001b[0m \u001b[0mthresholds_train_m1\u001b[0m \u001b[1;33m=\u001b[0m \u001b[0mroc_curve\u001b[0m\u001b[1;33m(\u001b[0m\u001b[0my_train\u001b[0m\u001b[1;33m,\u001b[0m \u001b[0mfinalforet\u001b[0m\u001b[1;33m.\u001b[0m\u001b[0mpredict_proba\u001b[0m\u001b[1;33m(\u001b[0m\u001b[0mx_train_v1\u001b[0m\u001b[1;33m)\u001b[0m\u001b[1;33m[\u001b[0m\u001b[1;33m:\u001b[0m\u001b[1;33m,\u001b[0m\u001b[1;36m1\u001b[0m\u001b[1;33m]\u001b[0m\u001b[1;33m)\u001b[0m\u001b[1;33m\u001b[0m\u001b[1;33m\u001b[0m\u001b[0m\n\u001b[0m\u001b[0;32m     10\u001b[0m \u001b[0mroc_auc_train_m1\u001b[0m \u001b[1;33m=\u001b[0m \u001b[0mauc\u001b[0m\u001b[1;33m(\u001b[0m\u001b[0mfpr_train_m1\u001b[0m\u001b[1;33m,\u001b[0m \u001b[0mtpr_train_m1\u001b[0m\u001b[1;33m)\u001b[0m\u001b[1;33m\u001b[0m\u001b[1;33m\u001b[0m\u001b[0m\n\u001b[0;32m     11\u001b[0m \u001b[1;33m\u001b[0m\u001b[0m\n",
      "\u001b[1;31mNameError\u001b[0m: name 'finalforet' is not defined"
     ]
    }
   ],
   "source": [
    "# comparons les trois modeles obtenus (xgboost et foret et ada) avec leur courbes AUC ROC\n",
    "# les trois modeles sont finalforet, finalxgb et ada_clf\n",
    "\n",
    "from sklearn.metrics import roc_curve, auc\n",
    "# Comparaison des 3 modèles\n",
    "import matplotlib.pyplot as plt\n",
    "\n",
    "#model1\n",
    "fpr_train_m1, tpr_train_m1, thresholds_train_m1 = roc_curve(y_train, finalforet.predict_proba(x_train_v1)[:,1])\n",
    "roc_auc_train_m1 = auc(fpr_train_m1, tpr_train_m1)\n",
    "\n",
    "#model2\n",
    "fpr_train_m2, tpr_train_m2, thresholds_train_m2 = roc_curve(y_train, finalxgb.predict_proba(x_train_v1)[:,1])\n",
    "roc_auc_train_m2 = auc(fpr_train_m2, tpr_train_m2)\n",
    "\n",
    "#model3\n",
    "fpr_train_m3, tpr_train_m3, thresholds_train_m3 = roc_curve(y_train, ada_clf.predict_proba(x_train_v1)[:,1])\n",
    "roc_auc_train_m3 = auc(fpr_train_m3, tpr_train_m3)\n",
    "\n",
    "\n",
    "\n",
    "plt.figure()\n",
    "lw = 2\n",
    "plt.plot(fpr_train_m1, tpr_train_m1, color='darkorange',\n",
    "         lw=lw, label='Train -m1 - ROC curve (area = %0.2f)' % roc_auc_train_m1)\n",
    "\n",
    "plt.plot(fpr_train_m2, tpr_train_m2, color='darkblue',\n",
    "         lw=lw, label='Train -m2) - ROC curve (area = %0.2f)' % roc_auc_train_m2)\n",
    "\n",
    "plt.plot(fpr_train_m3, tpr_train_m3, color='darkgreen',\n",
    "         lw=lw, label='Train -m3 - ROC curve (area = %0.2f)' % roc_auc_train_m3)\n",
    "\n",
    "plt.plot([0, 1], [0, 1], color='navy', lw=lw, linestyle='--')\n",
    "plt.xlim([0.0, 1.0])\n",
    "plt.ylim([0.0, 1.05])\n",
    "plt.xlabel('False Positive Rate')\n",
    "plt.ylabel('True Positive Rate')\n",
    "plt.title('Comparaison courve ROC Train ')\n",
    "plt.legend(loc=\"lower right\")\n",
    "plt.show()\n",
    "\n",
    "\n",
    "#model1\n",
    "fpr_test_m1, tpr_test_m1, thresholds_test_m1 = roc_curve(y_test, finalforet.predict_proba(x_test_v1)[:,1])\n",
    "roc_auc_test_m1 = auc(fpr_test_m1, tpr_test_m1)\n",
    "\n",
    "#model2\n",
    "fpr_test_m2, tpr_test_m2, thresholds_test_m2 = roc_curve(y_test, finalxgb.predict_proba(x_test_v1)[:,1])\n",
    "roc_auc_test_m2 = auc(fpr_test_m2, tpr_test_m2)\n",
    "\n",
    "#model3\n",
    "fpr_test_m3, tpr_test_m3, thresholds_test_m3 = roc_curve(y_test, ada_clf.predict_proba(x_test_v1)[:,1])\n",
    "roc_auc_test_m3 = auc(fpr_test_m3, tpr_test_m3)\n",
    "\n",
    "\n",
    "plt.figure()\n",
    "lw = 2\n",
    "plt.plot(fpr_test_m1, tpr_test_m1, color='darkorange',\n",
    "         lw=lw, label='Test -m1 - ROC curve (area = %0.2f)' % roc_auc_test_m1)\n",
    "\n",
    "plt.plot(fpr_test_m2, tpr_test_m2, color='darkblue',\n",
    "         lw=lw, label='Test -m2) - ROC curve (area = %0.2f)' % roc_auc_test_m2)\n",
    "\n",
    "plt.plot(fpr_test_m3, tpr_test_m3, color='darkgreen',\n",
    "         lw=lw, label='Test -m3 - ROC curve (area = %0.2f)' % roc_auc_test_m3)\n",
    "\n",
    "plt.plot([0, 1], [0, 1], color='navy', lw=lw, linestyle='--')\n",
    "plt.xlim([0.0, 1.0])\n",
    "plt.ylim([0.0, 1.05])\n",
    "plt.xlabel('False Positive Rate')\n",
    "plt.ylabel('True Positive Rate')\n",
    "plt.title('Comparaison courve ROC Test ')\n",
    "plt.legend(loc=\"lower right\")\n",
    "plt.show()\n",
    "\n",
    "# on voit bien que le adaboost surajuste, faudrait le revoir, et le xgboost est un peu mieux que la foret mais despi \n",
    "\n",
    "y_test_predict_proba = finalforet.predict_proba(x_test_v1)[:,1]\n",
    "fpr_test, tpr_test, _ = roc_curve(y_test, y_test_predict_proba)\n",
    "roc_auc_test = auc(fpr_test, tpr_test)"
   ]
  },
  {
   "cell_type": "code",
   "execution_count": 169,
   "metadata": {
    "colab": {
     "base_uri": "https://localhost:8080/",
     "height": 295
    },
    "colab_type": "code",
    "executionInfo": {
     "elapsed": 1222484,
     "status": "ok",
     "timestamp": 1591445549695,
     "user": {
      "displayName": "Camille GEORGET",
      "photoUrl": "",
      "userId": "03622189545362805141"
     },
     "user_tz": -180
    },
    "id": "k6hAu1hs-25H",
    "outputId": "e2ad2054-2b3e-4518-914b-4b517d9a84ac"
   },
   "outputs": [
    {
     "data": {
      "image/png": "[encoded data removed]",
      "text/plain": [
       "<Figure size 432x288 with 1 Axes>"
      ]
     },
     "metadata": {
      "needs_background": "light",
      "tags": []
     },
     "output_type": "display_data"
    }
   ],
   "source": [
    "# passons aux courbes precision rappel\n",
    "# Recherche sur le train\n",
    "from sklearn.metrics import precision_recall_curve\n",
    "precision_train_m1, recall_train_m1, thresholds_train_m1 = precision_recall_curve(y_train,\n",
    "                                                                         finalforet.predict_proba(x_train_v1)[:,1])\n",
    "precision_train_m2, recall_train_m2, thresholds_train_m2 = precision_recall_curve(y_train,\n",
    "                                                                         finalxgb.predict_proba(x_train_v1)[:,1])\n",
    "precision_train_m3, recall_train_m3, thresholds_train_m3 = precision_recall_curve(y_train,\n",
    "                                                                         ada_clf.predict_proba(x_train_v1)[:,1])\n",
    "\n",
    "plt.figure()\n",
    "lw = 2\n",
    "plt.plot(recall_train_m1,precision_train_m1, color='darkorange',\n",
    "         lw=lw,  label='Train -m1')\n",
    "\n",
    "plt.plot(recall_train_m2,precision_train_m2, color='darkblue',\n",
    "         lw=lw, label='Train - m2')\n",
    "\n",
    "plt.plot(recall_train_m3,precision_train_m3, color='darkgreen',\n",
    "         lw=lw, label='Train - m3')\n",
    "\n",
    "plt.xlim([0.0, 1.0])\n",
    "plt.ylim([0.0, 1.05])\n",
    "plt.xlabel('Recall')\n",
    "plt.ylabel('Precision')\n",
    "plt.title('Comparaison courbe PRECISION / RAPPEL')\n",
    "plt.legend(loc=\"upper right\")\n",
    "plt.show()\n",
    "\n",
    "# le adaboost surajuste de fou, voir bloc suivant pour les resultat su le jeu de test, plus significatif"
   ]
  },
  {
   "cell_type": "code",
   "execution_count": 170,
   "metadata": {
    "colab": {
     "base_uri": "https://localhost:8080/",
     "height": 295
    },
    "colab_type": "code",
    "executionInfo": {
     "elapsed": 1237486,
     "status": "ok",
     "timestamp": 1591445564714,
     "user": {
      "displayName": "Camille GEORGET",
      "photoUrl": "",
      "userId": "03622189545362805141"
     },
     "user_tz": -180
    },
    "id": "83CgO3hbUABv",
    "outputId": "8b307235-40f7-4573-c8ed-b7a726b77bc4"
   },
   "outputs": [
    {
     "data": {
      "image/png": "[encoded data removed]",
      "text/plain": [
       "<Figure size 432x288 with 1 Axes>"
      ]
     },
     "metadata": {
      "needs_background": "light",
      "tags": []
     },
     "output_type": "display_data"
    }
   ],
   "source": [
    "# passons aux courbes precision rappel\n",
    "# Recherche sur le test\n",
    "from sklearn.metrics import precision_recall_curve\n",
    "precision_train_m1, recall_train_m1, thresholds_train_m1 = precision_recall_curve(y_test,\n",
    "                                                                         finalforet.predict_proba(x_test_v1)[:,1])\n",
    "precision_train_m2, recall_train_m2, thresholds_train_m2 = precision_recall_curve(y_test,\n",
    "                                                                         finalxgb.predict_proba(x_test_v1)[:,1])\n",
    "precision_train_m3, recall_train_m3, thresholds_train_m3 = precision_recall_curve(y_test,\n",
    "                                                                         ada_clf.predict_proba(x_test_v1)[:,1])\n",
    "\n",
    "plt.figure()\n",
    "lw = 2\n",
    "plt.plot(recall_train_m1,precision_train_m1, color='darkorange',\n",
    "         lw=lw,  label='Train -m1')\n",
    "\n",
    "plt.plot(recall_train_m2,precision_train_m2, color='darkblue',\n",
    "         lw=lw, label='Train - m2')\n",
    "\n",
    "plt.plot(recall_train_m3,precision_train_m3, color='darkgreen',\n",
    "         lw=lw, label='Train - m3')\n",
    "\n",
    "plt.xlim([0.0, 1.0])\n",
    "plt.ylim([0.0, 1.05])\n",
    "plt.xlabel('Recall')\n",
    "plt.ylabel('Precision')\n",
    "plt.title('Comparaison courbe PRECISION / RAPPEL')\n",
    "plt.legend(loc=\"upper right\")\n",
    "plt.show()\n",
    "\n",
    "# on voit que le xgboost est mieux "
   ]
  },
  {
   "cell_type": "code",
   "execution_count": 0,
   "metadata": {
    "colab": {},
    "colab_type": "code",
    "id": "FlpXO44mUAHq"
   },
   "outputs": [],
   "source": []
  },
  {
   "cell_type": "code",
   "execution_count": 0,
   "metadata": {
    "colab": {},
    "colab_type": "code",
    "id": "AVjFRDbbUAPv"
   },
   "outputs": [],
   "source": []
  },
  {
   "cell_type": "code",
   "execution_count": 0,
   "metadata": {
    "colab": {},
    "colab_type": "code",
    "id": "rFCHw3VFUAMV"
   },
   "outputs": [],
   "source": []
  },
  {
   "cell_type": "markdown",
   "metadata": {
    "colab_type": "text",
    "id": "qZ_JgKMpm71A"
   },
   "source": [
    "# Regression logistique\n",
    "Pour utiliser la regression lineaire, je vais devoir convertir certaines variables en dummy sinon il va estimer des effets lineaires qui n'ont pas lieux d'etre. ça a ete fait, on utilise les jeu de données 'log' pour ce modele"
   ]
  },
  {
   "cell_type": "code",
   "execution_count": 325,
   "metadata": {
    "colab": {},
    "colab_type": "code",
    "id": "ea3pqqX9oet_"
   },
   "outputs": [],
   "source": [
    "#on fait aussi un jeux sans les modalités 0 des variables dummy pour la regression logistique, sinon on aurait des variables\n",
    "# colineaires\n",
    "x_train_log = x_train_v1.drop(['Pays_v2_0', 'MCC_v2_0','CodeRep_v2_0'], axis=1)\n",
    "x_test_log = x_test_v1.drop(['Pays_v2_0', 'MCC_v2_0','CodeRep_v2_0'], axis=1)\n",
    "\n",
    "# meme chose pour le jeu equilibré\n",
    "x_traineq2 = x_traineq.drop(['Pays_v2_0', 'MCC_v2_0','CodeRep_v2_0'], axis=1)\n",
    "\n",
    "# On va aussi normaliser ces variables, afin de pouvoir s'en servir avec d'autre modele comme les SVM par exemple\n",
    "from sklearn.preprocessing import StandardScaler\n",
    "scaler = StandardScaler()\n",
    "scaler.fit(x_train_log)\n",
    "x_train_log = scaler.transform(x_train_log)\n",
    "x_test_log = scaler.transform(x_test_log)\n",
    "\n",
    "\n",
    "# idem pour le jeu equilibré, on va refit le standard scaler\n",
    "scaler.fit(x_traineq2)\n",
    "x_traineq2 = scaler.transform(x_traineq2)\n",
    "x_test_log2 = scaler.transform(x_test_log)\n"
   ]
  },
  {
   "cell_type": "code",
   "execution_count": 326,
   "metadata": {
    "colab": {
     "base_uri": "https://localhost:8080/",
     "height": 102
    },
    "colab_type": "code",
    "executionInfo": {
     "elapsed": 1970,
     "status": "ok",
     "timestamp": 1591448501691,
     "user": {
      "displayName": "Camille GEORGET",
      "photoUrl": "",
      "userId": "03622189545362805141"
     },
     "user_tz": -180
    },
    "id": "5qZ4b094nAhm",
    "outputId": "ccf6584c-cb11-4730-e6ae-517696aaec5f"
   },
   "outputs": [
    {
     "data": {
      "text/plain": [
       "LogisticRegression(random_state=42, solver='liblinear')"
      ]
     },
     "execution_count": 326,
     "metadata": {},
     "output_type": "execute_result"
    }
   ],
   "source": [
    "from sklearn.linear_model import LogisticRegression\n",
    "log_clf = LogisticRegression(solver=\"liblinear\", random_state=42)\n",
    "log_clf.fit(x_train_log,y_train)"
   ]
  },
  {
   "cell_type": "code",
   "execution_count": 328,
   "metadata": {
    "colab": {
     "base_uri": "https://localhost:8080/",
     "height": 187
    },
    "colab_type": "code",
    "executionInfo": {
     "elapsed": 1217,
     "status": "ok",
     "timestamp": 1591448505801,
     "user": {
      "displayName": "Camille GEORGET",
      "photoUrl": "",
      "userId": "03622189545362805141"
     },
     "user_tz": -180
    },
    "id": "26OqQLCSnAev",
    "outputId": "733a2afb-3722-47e2-d227-9775bf56867f"
   },
   "outputs": [
    {
     "name": "stdout",
     "output_type": "stream",
     "text": [
      "fraude      0     1\n",
      "row_0              \n",
      "0       69793  1574\n",
      "1       30208  4585\n",
      "\n",
      "\n",
      "fraude       0    1\n",
      "row_0              \n",
      "0       119417  258\n",
      "1        52211  829\n"
     ]
    }
   ],
   "source": [
    "results(x_train_log, y_train, x_test_log, y_test, log_clf, 0.05) # c'est pas si mal, mais moins bien que xgboost"
   ]
  },
  {
   "cell_type": "code",
   "execution_count": 0,
   "metadata": {
    "colab": {},
    "colab_type": "code",
    "id": "Lyxauez9o-xk"
   },
   "outputs": [],
   "source": []
  },
  {
   "cell_type": "code",
   "execution_count": 332,
   "metadata": {
    "colab": {},
    "colab_type": "code",
    "id": "5Arq4BL0o-8X"
   },
   "outputs": [
    {
     "name": "stdout",
     "output_type": "stream",
     "text": [
      "fraude     0     1\n",
      "row_0             \n",
      "0       5394  2247\n",
      "1        766  3912\n",
      "\n",
      "\n",
      "fraude       0    1\n",
      "row_0              \n",
      "0       162524  701\n",
      "1         9104  386\n"
     ]
    }
   ],
   "source": [
    "# meme chose avec le jeu equilibré\n",
    "log_clf.fit(x_traineq2,y_traineq)\n",
    "results(x_traineq2, y_traineq, x_test_log2, y_test, log_clf, 0.55) # pas mal mais pas ouf la "
   ]
  },
  {
   "cell_type": "code",
   "execution_count": null,
   "metadata": {},
   "outputs": [],
   "source": []
  },
  {
   "cell_type": "code",
   "execution_count": 333,
   "metadata": {},
   "outputs": [
    {
     "name": "stdout",
     "output_type": "stream",
     "text": [
      "Fitting 3 folds for each of 100 candidates, totalling 300 fits\n"
     ]
    },
    {
     "name": "stderr",
     "output_type": "stream",
     "text": [
      "[Parallel(n_jobs=-1)]: Using backend LokyBackend with 8 concurrent workers.\n",
      "[Parallel(n_jobs=-1)]: Done  34 tasks      | elapsed:    3.6s\n",
      "[Parallel(n_jobs=-1)]: Done 300 out of 300 | elapsed:    7.8s finished\n",
      "C:\\ProgramData\\Anaconda3\\envs\\tensorflow\\lib\\site-packages\\sklearn\\linear_model\\_sag.py:330: ConvergenceWarning: The max_iter was reached which means the coef_ did not converge\n",
      "  \"the coef_ did not converge\", ConvergenceWarning)\n",
      "[Parallel(n_jobs=-1)]: Using backend LokyBackend with 8 concurrent workers.\n"
     ]
    },
    {
     "name": "stdout",
     "output_type": "stream",
     "text": [
      "Fitting 3 folds for each of 100 candidates, totalling 300 fits\n"
     ]
    },
    {
     "name": "stderr",
     "output_type": "stream",
     "text": [
      "[Parallel(n_jobs=-1)]: Done  56 tasks      | elapsed:    0.4s\n",
      "[Parallel(n_jobs=-1)]: Done 300 out of 300 | elapsed:    2.6s finished\n",
      "C:\\ProgramData\\Anaconda3\\envs\\tensorflow\\lib\\site-packages\\sklearn\\linear_model\\_sag.py:330: ConvergenceWarning: The max_iter was reached which means the coef_ did not converge\n",
      "  \"the coef_ did not converge\", ConvergenceWarning)\n",
      "[Parallel(n_jobs=-1)]: Using backend LokyBackend with 8 concurrent workers.\n"
     ]
    },
    {
     "name": "stdout",
     "output_type": "stream",
     "text": [
      "Fitting 3 folds for each of 100 candidates, totalling 300 fits\n"
     ]
    },
    {
     "name": "stderr",
     "output_type": "stream",
     "text": [
      "[Parallel(n_jobs=-1)]: Done  60 tasks      | elapsed:    0.7s\n",
      "[Parallel(n_jobs=-1)]: Done 300 out of 300 | elapsed:    4.6s finished\n"
     ]
    },
    {
     "data": {
      "text/plain": [
       "RandomizedSearchCV(cv=3, estimator=LogisticRegression(), n_iter=100, n_jobs=-1,\n",
       "                   param_distributions={'C': [0.0, 0.1, 0.2,\n",
       "                                              0.30000000000000004, 0.4, 0.5,\n",
       "                                              0.6000000000000001,\n",
       "                                              0.7000000000000001, 0.8, 0.9],\n",
       "                                        'fit_intercept': [True, False],\n",
       "                                        'penalty': ['l2'],\n",
       "                                        'solver': ['newton-cg', 'lbfgs', 'sag',\n",
       "                                                   'saga'],\n",
       "                                        'tol': [0.0, 0.1, 0.2,\n",
       "                                                0.30000000000000004, 0.4, 0.5,\n",
       "                                                0.6000000000000001,\n",
       "                                                0.7000000000000001, 0.8, 0.9]},\n",
       "                   scoring='roc_auc', verbose=1)"
      ]
     },
     "execution_count": 333,
     "metadata": {},
     "output_type": "execute_result"
    }
   ],
   "source": [
    "# Finalement je vais essayer de trouver le meilleur set d'hyperparametre pour une regression logistique \n",
    "# je reprend le code de Pierre Bioche\n",
    "from sklearn.linear_model import LogisticRegression\n",
    "from sklearn.model_selection import RandomizedSearchCV\n",
    "\n",
    "# on va tester avec plusieurs dictionnaire d'hyperparametres\n",
    "param_dict_bayes_elasticnet = {\n",
    "    'penalty': ['elasticnet'], \n",
    "    'solver': ['saga'],\n",
    "    'l1_ratio' : [0.1*x for x in range(10)],\n",
    "    'fit_intercept': [True, False],\n",
    "    'tol': [0.1*x for x in range(10)],\n",
    "    'C':[0.1*x for x in range(10)]}\n",
    "\n",
    "param_dict_bayes_l1 = {\n",
    "    'penalty': ['l1'], \n",
    "    'solver': ['liblinear','saga'],\n",
    "    'fit_intercept': [True,False],\n",
    "    'tol': [0.1*x for x in range(10)],\n",
    "    'C':[0.1*x for x in range(10)]}\n",
    "\n",
    "param_dict_bayes_l2 = {\n",
    "    'penalty': ['l2'], \n",
    "    'solver': ['newton-cg', 'lbfgs','sag', 'saga'],\n",
    "    'fit_intercept': [True,False],\n",
    "    'tol': [0.1*x for x in range(10)],\n",
    "    'C':[0.1*x for x in range(10)]}  \n",
    "\n",
    "\n",
    "\n",
    "rnd_search_cv = RandomizedSearchCV(LogisticRegression(), param_dict_bayes_elasticnet,scoring='roc_auc', cv=3, n_iter=100, verbose=1, n_jobs=-1)\n",
    "rnd_search_cv.fit(x_traineq2, y_traineq)\n",
    "\n",
    "rnd_search_cv2 = RandomizedSearchCV(LogisticRegression(), param_dict_bayes_l1,scoring='roc_auc', cv=3, n_iter=100, verbose=1, n_jobs=-1)\n",
    "rnd_search_cv2.fit(x_traineq2, y_traineq)\n",
    "\n",
    "rnd_search_cv3 = RandomizedSearchCV(LogisticRegression(), param_dict_bayes_l2,scoring='roc_auc', cv=3, n_iter=100, verbose=1, n_jobs=-1)\n",
    "rnd_search_cv3.fit(x_traineq2, y_traineq)"
   ]
  },
  {
   "cell_type": "code",
   "execution_count": 344,
   "metadata": {},
   "outputs": [
    {
     "name": "stdout",
     "output_type": "stream",
     "text": [
      "fraude     0     1\n",
      "row_0             \n",
      "0       6062  4045\n",
      "1         98  2114\n",
      "\n",
      "\n",
      "fraude       0    1\n",
      "row_0              \n",
      "0       162194  681\n",
      "1         9434  406\n",
      "----------------------------------------------------------------------------------------------------\n",
      "fraude     0     1\n",
      "row_0             \n",
      "0       6020  3721\n",
      "1        140  2438\n",
      "\n",
      "\n",
      "fraude       0    1\n",
      "row_0              \n",
      "0       160602  654\n",
      "1        11026  433\n",
      "----------------------------------------------------------------------------------------------------\n",
      "fraude     0     1\n",
      "row_0             \n",
      "0       5394  2247\n",
      "1        766  3912\n",
      "\n",
      "\n",
      "fraude       0    1\n",
      "row_0              \n",
      "0       162061  688\n",
      "1         9567  399\n"
     ]
    }
   ],
   "source": [
    "results(x_traineq2, y_traineq, x_test_log2, y_test, rnd_search_cv.best_estimator_ , 0.85)\n",
    "print('-'*100)\n",
    "results(x_traineq2, y_traineq, x_test_log2, y_test, rnd_search_cv2.best_estimator_ , 0.8)\n",
    "print('-'*100)\n",
    "results(x_traineq2, y_traineq, x_test_log2, y_test, rnd_search_cv3.best_estimator_ , 0.55) # les resultats sont moyens "
   ]
  },
  {
   "cell_type": "code",
   "execution_count": null,
   "metadata": {},
   "outputs": [],
   "source": []
  },
  {
   "cell_type": "markdown",
   "metadata": {},
   "source": [
    "# SVM"
   ]
  },
  {
   "cell_type": "code",
   "execution_count": 119,
   "metadata": {
    "colab": {
     "base_uri": "https://localhost:8080/",
     "height": 85
    },
    "colab_type": "code",
    "executionInfo": {
     "elapsed": 194317,
     "status": "ok",
     "timestamp": 1591448710007,
     "user": {
      "displayName": "Camille GEORGET",
      "photoUrl": "",
      "userId": "03622189545362805141"
     },
     "user_tz": -180
    },
    "id": "KcZzarcHpBEa",
    "outputId": "c7011b62-561c-4f26-9ee5-2bd4a5f7a3f6"
   },
   "outputs": [],
   "source": [
    "from sklearn.svm import SVC\n",
    "svm_clf = SVC(gamma=\"auto\", random_state=42)"
   ]
  },
  {
   "cell_type": "code",
   "execution_count": 200,
   "metadata": {
    "colab": {
     "base_uri": "https://localhost:8080/",
     "height": 187
    },
    "colab_type": "code",
    "executionInfo": {
     "elapsed": 556,
     "status": "ok",
     "timestamp": 1591448859898,
     "user": {
      "displayName": "Camille GEORGET",
      "photoUrl": "",
      "userId": "03622189545362805141"
     },
     "user_tz": -180
    },
    "id": "uPl8cn86pBsX",
    "outputId": "37302a00-746a-403f-bdc1-e0149f7ad9a6"
   },
   "outputs": [
    {
     "name": "stdout",
     "output_type": "stream",
     "text": [
      "fraude      0     1\n",
      "row_0              \n",
      "0       91381  2827\n",
      "1        8620  3332\n",
      "\n",
      "\n",
      "fraude       0    1\n",
      "row_0              \n",
      "0       156963  471\n",
      "1        14665  616\n"
     ]
    }
   ],
   "source": [
    "svm_clf.fit(x_train_log,y_train) #prend du temps a tourner\n",
    "results(x_train_log, y_train, x_test_log, y_test, log_clf, 0.1) # interessant aussi, a ajouter avec les autres modele pour voir si le stacking peut ameliorer\n",
    "# qqchose "
   ]
  },
  {
   "cell_type": "code",
   "execution_count": 0,
   "metadata": {
    "colab": {},
    "colab_type": "code",
    "id": "Wf0j1zbLpjq8"
   },
   "outputs": [],
   "source": []
  },
  {
   "cell_type": "code",
   "execution_count": 120,
   "metadata": {},
   "outputs": [
    {
     "name": "stdout",
     "output_type": "stream",
     "text": [
      "fraude     0     1\n",
      "row_0             \n",
      "0       5107  1965\n",
      "1       1053  4194\n",
      "\n",
      "\n",
      "fraude       0    1\n",
      "row_0              \n",
      "0       164763  729\n",
      "1         6865  358\n"
     ]
    }
   ],
   "source": [
    "# meme chose avec le jeu equilibré\n",
    "svm_clf.fit(x_traineq2,y_traineq)\n",
    "results(x_traineq2, y_traineq, x_test_log2, y_test, log_clf, 0.5) # pas trop mal mais pas ouf la encore "
   ]
  },
  {
   "cell_type": "markdown",
   "metadata": {
    "colab_type": "text",
    "id": "G7ZuULftmMn6"
   },
   "source": [
    "# Reseau de neurone \n"
   ]
  },
  {
   "cell_type": "code",
   "execution_count": 345,
   "metadata": {
    "colab": {},
    "colab_type": "code",
    "id": "3ESLqZcKmSYU"
   },
   "outputs": [],
   "source": [
    "import keras\n",
    "from keras import backend as K\n",
    "from keras.models import Sequential\n",
    "from keras.layers import Activation\n",
    "from keras.layers.core import Dense\n",
    "from keras.optimizers import Adam\n",
    "from keras.metrics import categorical_crossentropy\n",
    "\n",
    "n_inputs = x_traineq2.shape[1]\n",
    "\n",
    "undersample_model = Sequential([\n",
    "    Dense(n_inputs, input_shape=(n_inputs, ), activation='relu'),\n",
    "    Dense(32, activation='relu'),\n",
    "    Dense(2, activation='softmax')\n",
    "])"
   ]
  },
  {
   "cell_type": "code",
   "execution_count": 346,
   "metadata": {
    "_cell_guid": "c249283c-f4d9-43f4-a859-ccd5a7661cf7",
    "_kg_hide-input": true,
    "_uuid": "ccdae6b84326551e1ff5199c44f7d53ccd3179d9"
   },
   "outputs": [
    {
     "name": "stdout",
     "output_type": "stream",
     "text": [
      "Model: \"sequential_19\"\n",
      "_________________________________________________________________\n",
      "Layer (type)                 Output Shape              Param #   \n",
      "=================================================================\n",
      "dense_55 (Dense)             (None, 22)                506       \n",
      "_________________________________________________________________\n",
      "dense_56 (Dense)             (None, 32)                736       \n",
      "_________________________________________________________________\n",
      "dense_57 (Dense)             (None, 2)                 66        \n",
      "=================================================================\n",
      "Total params: 1,308\n",
      "Trainable params: 1,308\n",
      "Non-trainable params: 0\n",
      "_________________________________________________________________\n"
     ]
    }
   ],
   "source": [
    "undersample_model.summary()"
   ]
  },
  {
   "cell_type": "code",
   "execution_count": 348,
   "metadata": {
    "_cell_guid": "6327357a-b8ca-4aa4-8764-48673b2d6c9d",
    "_kg_hide-input": true,
    "_uuid": "e2ec864b9ef6f530df28688a703bcc8f2243baa1"
   },
   "outputs": [],
   "source": [
    "undersample_model.compile(Adam(lr=0.001), loss='sparse_categorical_crossentropy', metrics=['accuracy'])"
   ]
  },
  {
   "cell_type": "code",
   "execution_count": 349,
   "metadata": {
    "_cell_guid": "0067f625-d734-4c15-9526-6efb1c47dc2c",
    "_kg_hide-input": true,
    "_uuid": "98a36722723d4f7285eb9de158b12be9694a603f"
   },
   "outputs": [
    {
     "name": "stdout",
     "output_type": "stream",
     "text": [
      "Train on 9855 samples, validate on 2464 samples\n",
      "Epoch 1/20\n",
      " - 1s - loss: 0.5422 - accuracy: 0.7066 - val_loss: 0.7385 - val_accuracy: 0.6327\n",
      "Epoch 2/20\n",
      " - 0s - loss: 0.4890 - accuracy: 0.7505 - val_loss: 0.6366 - val_accuracy: 0.7342\n",
      "Epoch 3/20\n",
      " - 0s - loss: 0.4799 - accuracy: 0.7533 - val_loss: 0.5891 - val_accuracy: 0.7715\n",
      "Epoch 4/20\n",
      " - 0s - loss: 0.4739 - accuracy: 0.7569 - val_loss: 0.6201 - val_accuracy: 0.7573\n",
      "Epoch 5/20\n",
      " - 0s - loss: 0.4701 - accuracy: 0.7600 - val_loss: 0.6856 - val_accuracy: 0.6851\n",
      "Epoch 6/20\n",
      " - 0s - loss: 0.4669 - accuracy: 0.7590 - val_loss: 0.6073 - val_accuracy: 0.7512\n",
      "Epoch 7/20\n",
      " - 0s - loss: 0.4646 - accuracy: 0.7615 - val_loss: 0.5875 - val_accuracy: 0.7687\n",
      "Epoch 8/20\n",
      " - 0s - loss: 0.4609 - accuracy: 0.7646 - val_loss: 0.6665 - val_accuracy: 0.6940\n",
      "Epoch 9/20\n",
      " - 0s - loss: 0.4594 - accuracy: 0.7645 - val_loss: 0.6482 - val_accuracy: 0.7285\n",
      "Epoch 10/20\n",
      " - 0s - loss: 0.4587 - accuracy: 0.7646 - val_loss: 0.5916 - val_accuracy: 0.7760\n",
      "Epoch 11/20\n",
      " - 0s - loss: 0.4564 - accuracy: 0.7662 - val_loss: 0.5805 - val_accuracy: 0.7748\n",
      "Epoch 12/20\n",
      " - 0s - loss: 0.4547 - accuracy: 0.7666 - val_loss: 0.6714 - val_accuracy: 0.6997\n",
      "Epoch 13/20\n",
      " - 0s - loss: 0.4531 - accuracy: 0.7681 - val_loss: 0.5923 - val_accuracy: 0.7626\n",
      "Epoch 14/20\n",
      " - 1s - loss: 0.4543 - accuracy: 0.7657 - val_loss: 0.6549 - val_accuracy: 0.7228\n",
      "Epoch 15/20\n",
      " - 1s - loss: 0.4517 - accuracy: 0.7653 - val_loss: 0.8084 - val_accuracy: 0.5897\n",
      "Epoch 16/20\n",
      " - 1s - loss: 0.4518 - accuracy: 0.7685 - val_loss: 0.6554 - val_accuracy: 0.7033\n",
      "Epoch 17/20\n",
      " - 1s - loss: 0.4497 - accuracy: 0.7667 - val_loss: 0.6485 - val_accuracy: 0.7289\n",
      "Epoch 18/20\n",
      " - 0s - loss: 0.4491 - accuracy: 0.7667 - val_loss: 0.7619 - val_accuracy: 0.6700\n",
      "Epoch 19/20\n",
      " - 0s - loss: 0.4483 - accuracy: 0.7701 - val_loss: 0.6661 - val_accuracy: 0.7151\n",
      "Epoch 20/20\n",
      " - 0s - loss: 0.4481 - accuracy: 0.7709 - val_loss: 0.5446 - val_accuracy: 0.8101\n"
     ]
    },
    {
     "data": {
      "text/plain": [
       "<keras.callbacks.callbacks.History at 0x276b5de0c08>"
      ]
     },
     "execution_count": 349,
     "metadata": {},
     "output_type": "execute_result"
    }
   ],
   "source": [
    "undersample_model.fit(x_traineq2, y_traineq, validation_split=0.2, batch_size=25, epochs=20, shuffle=True, verbose=2)"
   ]
  },
  {
   "cell_type": "code",
   "execution_count": 350,
   "metadata": {
    "_cell_guid": "9a30cd49-23c3-4417-8ce1-b6e82890481c",
    "_kg_hide-input": true,
    "_uuid": "e82f40ef343b53b71d6fcfa317e872278db27114"
   },
   "outputs": [],
   "source": [
    "undersample_predictions = undersample_model.predict(x_test_log2, batch_size=200, verbose=0)"
   ]
  },
  {
   "cell_type": "code",
   "execution_count": 351,
   "metadata": {
    "_cell_guid": "a47a91a0-2cf3-436f-a1cd-bb207ba94997",
    "_kg_hide-input": true,
    "_uuid": "028270a5b2ba0e4c85100f287fec64343ad900ea"
   },
   "outputs": [],
   "source": [
    "undersample_fraud_predictions = undersample_model.predict_classes(x_test_log2, batch_size=200, verbose=0)"
   ]
  },
  {
   "cell_type": "code",
   "execution_count": 352,
   "metadata": {
    "colab": {},
    "colab_type": "code",
    "id": "8jkj2rRJmSiB"
   },
   "outputs": [],
   "source": [
    "import itertools\n",
    "\n",
    "# Create a confusion matrix\n",
    "def plot_confusion_matrix(cm, classes,\n",
    "                          normalize=False,\n",
    "                          title='Confusion matrix',\n",
    "                          cmap=plt.cm.Blues):\n",
    "    \"\"\"\n",
    "    This function prints and plots the confusion matrix.\n",
    "    Normalization can be applied by setting `normalize=True`.\n",
    "    \"\"\"\n",
    "    if normalize:\n",
    "        cm = cm.astype('float') / cm.sum(axis=1)[:, np.newaxis]\n",
    "        print(\"Normalized confusion matrix\")\n",
    "    else:\n",
    "        print('Confusion matrix, without normalization')\n",
    "\n",
    "    print(cm)\n",
    "\n",
    "    plt.imshow(cm, interpolation='nearest', cmap=cmap)\n",
    "    plt.title(title, fontsize=14)\n",
    "    plt.colorbar()\n",
    "    tick_marks = np.arange(len(classes))\n",
    "    plt.xticks(tick_marks, classes, rotation=45)\n",
    "    plt.yticks(tick_marks, classes)\n",
    "\n",
    "    fmt = '.2f' if normalize else 'd'\n",
    "    thresh = cm.max() / 2.\n",
    "    for i, j in itertools.product(range(cm.shape[0]), range(cm.shape[1])):\n",
    "        plt.text(j, i, format(cm[i, j], fmt),\n",
    "                 horizontalalignment=\"center\",\n",
    "                 color=\"white\" if cm[i, j] > thresh else \"black\")\n",
    "\n",
    "    plt.tight_layout()\n",
    "    plt.ylabel('True label')\n",
    "    plt.xlabel('Predicted label')"
   ]
  },
  {
   "cell_type": "code",
   "execution_count": 353,
   "metadata": {
    "colab": {},
    "colab_type": "code",
    "id": "MFn8A4uDmSuT",
    "scrolled": false
   },
   "outputs": [
    {
     "name": "stdout",
     "output_type": "stream",
     "text": [
      "Confusion matrix, without normalization\n",
      "[[154477  17151]\n",
      " [   562    525]]\n"
     ]
    },
    {
     "data": {
      "image/png": "[encoded data removed]",
      "text/plain": [
       "<Figure size 1152x576 with 2 Axes>"
      ]
     },
     "metadata": {
      "needs_background": "light"
     },
     "output_type": "display_data"
    }
   ],
   "source": [
    "undersample_cm = confusion_matrix(y_test, undersample_fraud_predictions)\n",
    "actual_cm = confusion_matrix(y_test, y_test)\n",
    "labels = ['No Fraud', 'Fraud']\n",
    "\n",
    "fig = plt.figure(figsize=(16,8))\n",
    "\n",
    "fig.add_subplot(221)\n",
    "plot_confusion_matrix(undersample_cm, labels, cmap=plt.cm.Reds)"
   ]
  },
  {
   "cell_type": "code",
   "execution_count": null,
   "metadata": {},
   "outputs": [],
   "source": []
  },
  {
   "cell_type": "markdown",
   "metadata": {},
   "source": [
    "# IV.  Courbe de llift avec le modèle xgbfinal (+ tableau des valeurs associées)"
   ]
  },
  {
   "cell_type": "code",
   "execution_count": 100,
   "metadata": {
    "scrolled": true
   },
   "outputs": [
    {
     "data": {
      "image/png": "[encoded data removed]",
      "text/plain": [
       "<Figure size 432x288 with 1 Axes>"
      ]
     },
     "metadata": {
      "needs_background": "light"
     },
     "output_type": "display_data"
    }
   ],
   "source": [
    "predicted_probas = finalxgb.predict_proba(x_test_v1)\n",
    "\n",
    "\n",
    "import matplotlib.pyplot as plt\n",
    "import scikitplot as skplt\n",
    "\n",
    "skplt.metrics.plot_cumulative_gain(y_test, predicted_probas)\n",
    "\n",
    "plt.show()\n",
    "# On voit qu'en ciblant prédisant en 'fraude' les 20% des transactions les plus probable, on detecte 80% des fraudes"
   ]
  },
  {
   "cell_type": "code",
   "execution_count": 101,
   "metadata": {
    "scrolled": true
   },
   "outputs": [
    {
     "data": {
      "image/png": "[encoded data removed]",
      "text/plain": [
       "<Figure size 432x288 with 1 Axes>"
      ]
     },
     "metadata": {
      "needs_background": "light"
     },
     "output_type": "display_data"
    }
   ],
   "source": [
    "skplt.metrics.plot_lift_curve(y_test, predicted_probas)\n",
    "plt.show()"
   ]
  },
  {
   "cell_type": "code",
   "execution_count": 142,
   "metadata": {},
   "outputs": [],
   "source": [
    "# construisons la table de lift\n",
    "test = pd.DataFrame(np.transpose(np.array([y_test, predicted_probas[:,1]])),\n",
    "                columns=['true', 'proba'])\n",
    "\n",
    "test.sort_values(by='proba', ascending=False, inplace=True)"
   ]
  },
  {
   "cell_type": "code",
   "execution_count": 149,
   "metadata": {},
   "outputs": [],
   "source": [
    "# dans notre jeu de test, on compte 1087 'fraude', 172 715 valeurs en tout\n",
    "c = []\n",
    "ind = 0\n",
    "for i in range (10) : \n",
    "    c.append(sum(test.true[0:ind+17271])/1087) \n",
    "    ind = ind+17271\n",
    "    "
   ]
  },
  {
   "cell_type": "code",
   "execution_count": 164,
   "metadata": {},
   "outputs": [],
   "source": [
    "table = pd.DataFrame(np.transpose(np.array([[x+1 for x in range(10)], c])),\n",
    "                columns=['deciles utilisés', '% des fraudes prédits'])"
   ]
  },
  {
   "cell_type": "code",
   "execution_count": 165,
   "metadata": {},
   "outputs": [
    {
     "data": {
      "text/html": [
       "<div>\n",
       "<style scoped>\n",
       "    .dataframe tbody tr th:only-of-type {\n",
       "        vertical-align: middle;\n",
       "    }\n",
       "\n",
       "    .dataframe tbody tr th {\n",
       "        vertical-align: top;\n",
       "    }\n",
       "\n",
       "    .dataframe thead th {\n",
       "        text-align: right;\n",
       "    }\n",
       "</style>\n",
       "<table border=\"1\" class=\"dataframe\">\n",
       "  <thead>\n",
       "    <tr style=\"text-align: right;\">\n",
       "      <th></th>\n",
       "      <th>deciles utilisés</th>\n",
       "      <th>% des fraudes prédits</th>\n",
       "    </tr>\n",
       "  </thead>\n",
       "  <tbody>\n",
       "    <tr>\n",
       "      <th>0</th>\n",
       "      <td>1.0</td>\n",
       "      <td>0.687213</td>\n",
       "    </tr>\n",
       "    <tr>\n",
       "      <th>1</th>\n",
       "      <td>2.0</td>\n",
       "      <td>0.801288</td>\n",
       "    </tr>\n",
       "    <tr>\n",
       "      <th>2</th>\n",
       "      <td>3.0</td>\n",
       "      <td>0.846366</td>\n",
       "    </tr>\n",
       "    <tr>\n",
       "      <th>3</th>\n",
       "      <td>4.0</td>\n",
       "      <td>0.871205</td>\n",
       "    </tr>\n",
       "    <tr>\n",
       "      <th>4</th>\n",
       "      <td>5.0</td>\n",
       "      <td>0.903404</td>\n",
       "    </tr>\n",
       "    <tr>\n",
       "      <th>5</th>\n",
       "      <td>6.0</td>\n",
       "      <td>0.930083</td>\n",
       "    </tr>\n",
       "    <tr>\n",
       "      <th>6</th>\n",
       "      <td>7.0</td>\n",
       "      <td>0.949402</td>\n",
       "    </tr>\n",
       "    <tr>\n",
       "      <th>7</th>\n",
       "      <td>8.0</td>\n",
       "      <td>0.972401</td>\n",
       "    </tr>\n",
       "    <tr>\n",
       "      <th>8</th>\n",
       "      <td>9.0</td>\n",
       "      <td>0.988040</td>\n",
       "    </tr>\n",
       "    <tr>\n",
       "      <th>9</th>\n",
       "      <td>10.0</td>\n",
       "      <td>1.000000</td>\n",
       "    </tr>\n",
       "  </tbody>\n",
       "</table>\n",
       "</div>"
      ],
      "text/plain": [
       "   deciles utilisés  % des fraudes prédits\n",
       "0               1.0               0.687213\n",
       "1               2.0               0.801288\n",
       "2               3.0               0.846366\n",
       "3               4.0               0.871205\n",
       "4               5.0               0.903404\n",
       "5               6.0               0.930083\n",
       "6               7.0               0.949402\n",
       "7               8.0               0.972401\n",
       "8               9.0               0.988040\n",
       "9              10.0               1.000000"
      ]
     },
     "execution_count": 165,
     "metadata": {},
     "output_type": "execute_result"
    }
   ],
   "source": [
    "table"
   ]
  }
 ],
 "metadata": {
  "accelerator": "GPU",
  "colab": {
   "collapsed_sections": [],
   "machine_shape": "hm",
   "name": "brouillon2.ipynb",
   "provenance": []
  },
  "kernelspec": {
   "display_name": "Python 3",
   "language": "python",
   "name": "python3"
  },
  "language_info": {
   "codemirror_mode": {
    "name": "ipython",
    "version": 3
   },
   "file_extension": ".py",
   "mimetype": "text/x-python",
   "name": "python",
   "nbconvert_exporter": "python",
   "pygments_lexer": "ipython3",
   "version": "3.7.1"
  }
 },
 "nbformat": 4,
 "nbformat_minor": 1
}
